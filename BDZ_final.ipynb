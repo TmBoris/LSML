{
 "cells": [
  {
   "cell_type": "markdown",
   "id": "e8d78c3c",
   "metadata": {},
   "source": [
    "### Подгрузим все необходимые данные"
   ]
  },
  {
   "cell_type": "code",
   "execution_count": 4,
   "id": "9c4de6a8",
   "metadata": {},
   "outputs": [],
   "source": [
    "!pip install kaggle\n",
    "!pip install findspark\n",
    "!sudo apt install unzip\n",
    "!sudo apt-get install p7zip-full\n",
    "\n",
    "!export KAGGLE_USERNAME='borispanfilov'\n",
    "!export KAGGLE_KEY='23e1a26705b833184e1835da72c45fe3'"
   ]
  },
  {
   "cell_type": "markdown",
   "id": "4ae2d448",
   "metadata": {},
   "source": [
    "Гиганский файл"
   ]
  },
  {
   "cell_type": "code",
   "execution_count": 5,
   "id": "89cd532c",
   "metadata": {},
   "outputs": [],
   "source": [
    "%%writefile download_archive.sh\n",
    "\n",
    "pip3 install wldhx.yadisk-direct\n",
    "\n",
    "URL=$(yadisk-direct https://disk.yandex.ru/d/wcQYvAPZHpih9Q)\n",
    "\n",
    "wget -O page_views_parquet.zip \"${URL}\""
   ]
  },
  {
   "cell_type": "code",
   "execution_count": 6,
   "id": "0f30663e",
   "metadata": {},
   "outputs": [],
   "source": [
    "!bash ./download_archive.sh"
   ]
  },
  {
   "cell_type": "code",
   "execution_count": 7,
   "id": "325bdf8f",
   "metadata": {},
   "outputs": [],
   "source": [
    "!7z x page_views_parquet.zip"
   ]
  },
  {
   "cell_type": "code",
   "execution_count": 8,
   "id": "25d7a9a9",
   "metadata": {},
   "outputs": [],
   "source": [
    "!hdfs dfs -mkdir /user/page_views\n",
    "\n",
    "!hdfs dfs -put page_views_parquet/* /user/page_views"
   ]
  },
  {
   "cell_type": "markdown",
   "id": "9350a246",
   "metadata": {},
   "source": [
    "Остальные"
   ]
  },
  {
   "cell_type": "code",
   "execution_count": 9,
   "id": "39611d5b",
   "metadata": {},
   "outputs": [],
   "source": [
    "!kaggle competitions download -c outbrain-click-prediction -f clicks_test.csv.zip\n",
    "!kaggle competitions download -c outbrain-click-prediction -f clicks_train.csv.zip\n",
    "!kaggle competitions download -c outbrain-click-prediction -f documents_categories.csv.zip\n",
    "!kaggle competitions download -c outbrain-click-prediction -f documents_entities.csv.zip\n",
    "!kaggle competitions download -c outbrain-click-prediction -f documents_meta.csv.zip\n",
    "!kaggle competitions download -c outbrain-click-prediction -f documents_topics.csv.zip\n",
    "!kaggle competitions download -c outbrain-click-prediction -f events.csv.zip\n",
    "!kaggle competitions download -c outbrain-click-prediction -f promoted_content.csv.zip\n",
    "!kaggle competitions download -c outbrain-click-prediction -f sample_submission.csv.zip\n",
    "\n",
    "!7z x clicks_test.csv.zip\n",
    "!7z x clicks_train.csv.zip\n",
    "!7z x documents_categories.csv.zip\n",
    "!7z x documents_entities.csv.zip\n",
    "!7z x documents_meta.csv.zip\n",
    "!7z x documents_topics.csv.zip\n",
    "!7z x events.csv.zip\n",
    "!7z x promoted_content.csv.zip\n",
    "!7z x sample_submission.csv.zip"
   ]
  },
  {
   "cell_type": "code",
   "execution_count": 15,
   "id": "988764c8",
   "metadata": {},
   "outputs": [],
   "source": [
    "!hdfs dfs -mkdir /user/bhw_data\n",
    "\n",
    "!hdfs dfs -put clicks_test.csv /user/bhw_data\n",
    "!hdfs dfs -put clicks_train.csv /user/bhw_data\n",
    "!hdfs dfs -put documents_categories.csv /user/bhw_data\n",
    "!hdfs dfs -put documents_entities.csv /user/bhw_data\n",
    "!hdfs dfs -put documents_meta.csv /user/bhw_data\n",
    "!hdfs dfs -put documents_topics.csv /user/bhw_data\n",
    "!hdfs dfs -put events.csv /user/bhw_data\n",
    "!hdfs dfs -put promoted_content.csv /user/bhw_data\n",
    "!hdfs dfs -put sample_submission.csv /user/bhw_data"
   ]
  },
  {
   "cell_type": "code",
   "execution_count": 16,
   "id": "2959df1d",
   "metadata": {},
   "outputs": [
    {
     "name": "stdout",
     "output_type": "stream",
     "text": [
      "Found 9 items\r\n",
      "-rw-r--r--   1 ubuntu hadoop  506953370 2025-03-25 09:52 /user/bhw_data/clicks_test.csv\r\n",
      "-rw-r--r--   1 ubuntu hadoop 1486734654 2025-03-25 09:52 /user/bhw_data/clicks_train.csv\r\n",
      "-rw-r--r--   1 ubuntu hadoop  118017029 2025-03-25 09:52 /user/bhw_data/documents_categories.csv\r\n",
      "-rw-r--r--   1 ubuntu hadoop  324096832 2025-03-25 09:52 /user/bhw_data/documents_entities.csv\r\n",
      "-rw-r--r--   1 ubuntu hadoop   89380566 2025-03-25 09:52 /user/bhw_data/documents_meta.csv\r\n",
      "-rw-r--r--   1 ubuntu hadoop  339473038 2025-03-25 09:52 /user/bhw_data/documents_topics.csv\r\n",
      "-rw-r--r--   1 ubuntu hadoop 1208549589 2025-03-25 09:53 /user/bhw_data/events.csv\r\n",
      "-rw-r--r--   1 ubuntu hadoop   13886609 2025-03-25 09:53 /user/bhw_data/promoted_content.csv\r\n",
      "-rw-r--r--   1 ubuntu hadoop  273136709 2025-03-25 09:53 /user/bhw_data/sample_submission.csv\r\n"
     ]
    }
   ],
   "source": [
    "!hdfs dfs -ls /user/bhw_data"
   ]
  },
  {
   "cell_type": "markdown",
   "id": "5c876fef",
   "metadata": {},
   "source": [
    "### Посмотрим на подргуженные данные"
   ]
  },
  {
   "cell_type": "code",
   "execution_count": 3,
   "id": "6ae8fdf8",
   "metadata": {},
   "outputs": [],
   "source": [
    "import findspark\n",
    "findspark.init()"
   ]
  },
  {
   "cell_type": "code",
   "execution_count": 4,
   "id": "627cfd46",
   "metadata": {},
   "outputs": [],
   "source": [
    "from pyspark.sql import SparkSession\n",
    "import pyspark\n",
    "\n",
    "sc = pyspark.SparkContext(appName=\"bhw\")\n",
    "spark = SparkSession(sc)"
   ]
  },
  {
   "cell_type": "code",
   "execution_count": 24,
   "id": "8000ca94",
   "metadata": {},
   "outputs": [],
   "source": [
    "# page_views = spark.read.parquet(\"/user/page_views\")\n",
    "\n",
    "# clicks_test = spark.read.csv('/user/bhw_data/clicks_test.csv', header=True, inferSchema=True)\n",
    "# clicks_test.write.parquet(\"/user/bhw_data/clicks_test.parquet\")\n",
    "\n",
    "# clicks_train = spark.read.csv('/user/bhw_data/clicks_train.csv', header=True, inferSchema=True)\n",
    "# clicks_train.write.parquet(\"/user/bhw_data/clicks_train.parquet\")\n",
    "\n",
    "# documents_categories = spark.read.csv('/user/bhw_data/documents_categories.csv', header=True, inferSchema=True)\n",
    "# documents_categories.write.parquet(\"/user/bhw_data/documents_categories.parquet\")\n",
    "\n",
    "# documents_entities = spark.read.csv('/user/bhw_data/documents_entities.csv', header=True, inferSchema=True)\n",
    "# documents_entities.write.parquet(\"/user/bhw_data/documents_entities.parquet\")\n",
    "\n",
    "# documents_meta = spark.read.csv('/user/bhw_data/documents_meta.csv', header=True, inferSchema=True)\n",
    "# documents_meta.write.parquet(\"/user/bhw_data/documents_meta.parquet\")\n",
    "\n",
    "# documents_topics = spark.read.csv('/user/bhw_data/documents_topics.csv', header=True, inferSchema=True)\n",
    "# documents_topics.write.parquet(\"/user/bhw_data/documents_topics.parquet\")\n",
    "\n",
    "# events = spark.read.csv('/user/bhw_data/events.csv', header=True, inferSchema=True)\n",
    "# events.write.parquet(\"/user/bhw_data/events.parquet\")\n",
    "\n",
    "# promoted_content = spark.read.csv('/user/bhw_data/promoted_content.csv', header=True, inferSchema=True)\n",
    "# promoted_content.write.parquet(\"/user/bhw_data/promoted_content.parquet\")\n",
    "\n",
    "# sample_submission = spark.read.csv('/user/bhw_data/sample_submission.csv', header=True, inferSchema=True)\n",
    "# sample_submission.write.parquet(\"/user/bhw_data/sample_submission.parquet\")"
   ]
  },
  {
   "cell_type": "code",
   "execution_count": 5,
   "id": "e39ddb3e",
   "metadata": {},
   "outputs": [],
   "source": [
    "page_views = spark.read.parquet(\"/user/page_views\")\n",
    "\n",
    "clicks_test = spark.read.parquet('/user/bhw_data/clicks_test.parquet')\n",
    "clicks_train = spark.read.parquet('/user/bhw_data/clicks_train.parquet')\n",
    "documents_categories = spark.read.parquet('/user/bhw_data/documents_categories.parquet')\n",
    "documents_entities = spark.read.parquet('/user/bhw_data/documents_entities.parquet')\n",
    "documents_meta = spark.read.parquet('/user/bhw_data/documents_meta.parquet')\n",
    "documents_topics = spark.read.parquet('/user/bhw_data/documents_topics.parquet')\n",
    "events = spark.read.parquet('/user/bhw_data/events.parquet')\n",
    "promoted_content = spark.read.parquet('/user/bhw_data/promoted_content.parquet')\n",
    "sample_submission = spark.read.parquet('/user/bhw_data/sample_submission.parquet')"
   ]
  },
  {
   "cell_type": "code",
   "execution_count": 6,
   "id": "99e23886",
   "metadata": {},
   "outputs": [
    {
     "name": "stdout",
     "output_type": "stream",
     "text": [
      "+--------------+-----------+---------+--------+------------+--------------+\n",
      "|          uuid|document_id|timestamp|platform|geo_location|traffic_source|\n",
      "+--------------+-----------+---------+--------+------------+--------------+\n",
      "|3304d4e2126be0|    1179111| 25701521|       1|       DE>01|             3|\n",
      "|48182b0908eece|    1179111| 64614352|       1|   US>MN>613|             1|\n",
      "|58d961fb45578c|    1179111|  1730532|       1|       IN>35|             2|\n",
      "|33a4f090c5413e|    1179111| 53383240|       1|   US>TX>709|             1|\n",
      "|a6993d5e6c78a5|    1179111| 78638904|       2|   US>VA>511|             2|\n",
      "+--------------+-----------+---------+--------+------------+--------------+\n",
      "only showing top 5 rows\n",
      "\n"
     ]
    }
   ],
   "source": [
    "page_views.show(5)"
   ]
  },
  {
   "cell_type": "code",
   "execution_count": 7,
   "id": "7d8dbe5b",
   "metadata": {},
   "outputs": [
    {
     "name": "stdout",
     "output_type": "stream",
     "text": [
      "+----------+------+\n",
      "|display_id| ad_id|\n",
      "+----------+------+\n",
      "|  16874594| 66758|\n",
      "|  16874594|150083|\n",
      "|  16874594|162754|\n",
      "|  16874594|170392|\n",
      "|  16874594|172888|\n",
      "+----------+------+\n",
      "only showing top 5 rows\n",
      "\n"
     ]
    }
   ],
   "source": [
    "clicks_test.show(5)"
   ]
  },
  {
   "cell_type": "code",
   "execution_count": 8,
   "id": "a3948f3e",
   "metadata": {},
   "outputs": [
    {
     "name": "stdout",
     "output_type": "stream",
     "text": [
      "+----------+------+-------+\n",
      "|display_id| ad_id|clicked|\n",
      "+----------+------+-------+\n",
      "|         1| 42337|      0|\n",
      "|         1|139684|      0|\n",
      "|         1|144739|      1|\n",
      "|         1|156824|      0|\n",
      "|         1|279295|      0|\n",
      "+----------+------+-------+\n",
      "only showing top 5 rows\n",
      "\n"
     ]
    }
   ],
   "source": [
    "clicks_train.show(5)"
   ]
  },
  {
   "cell_type": "code",
   "execution_count": 9,
   "id": "930768b1",
   "metadata": {},
   "outputs": [
    {
     "name": "stdout",
     "output_type": "stream",
     "text": [
      "+-----------+-----------+----------------+\n",
      "|document_id|category_id|confidence_level|\n",
      "+-----------+-----------+----------------+\n",
      "|    1870818|       1403|            0.92|\n",
      "|    1870818|       1702|            0.07|\n",
      "|    2008670|       1908|            0.92|\n",
      "|    2008670|       1707|            0.07|\n",
      "|    1990410|       1604|            0.92|\n",
      "+-----------+-----------+----------------+\n",
      "only showing top 5 rows\n",
      "\n"
     ]
    }
   ],
   "source": [
    "documents_categories.show(5)"
   ]
  },
  {
   "cell_type": "code",
   "execution_count": 10,
   "id": "a5e8f9f8",
   "metadata": {},
   "outputs": [
    {
     "name": "stdout",
     "output_type": "stream",
     "text": [
      "+-----------+--------------------+-----------------+\n",
      "|document_id|           entity_id| confidence_level|\n",
      "+-----------+--------------------+-----------------+\n",
      "|    1524246|f9eec25663db4cd83...|0.672865314504701|\n",
      "|    1524246|55ebcfbdaff1d6f60...|0.399113728441297|\n",
      "|    1524246|839907a972930b17b...|0.392095749652966|\n",
      "|    1524246|04d8f9a1ad48f126d...|0.213996376305138|\n",
      "|    1617787|612a1d17685a498af...|0.386192829940441|\n",
      "+-----------+--------------------+-----------------+\n",
      "only showing top 5 rows\n",
      "\n"
     ]
    }
   ],
   "source": [
    "documents_entities.show(5)"
   ]
  },
  {
   "cell_type": "code",
   "execution_count": 11,
   "id": "85ef0a16",
   "metadata": {},
   "outputs": [
    {
     "name": "stdout",
     "output_type": "stream",
     "text": [
      "+-----------+---------+------------+------------+\n",
      "|document_id|source_id|publisher_id|publish_time|\n",
      "+-----------+---------+------------+------------+\n",
      "|     614868|      722|         925|        null|\n",
      "|     614869|      722|         925|        null|\n",
      "|     614870|      722|         925|        null|\n",
      "|     614871|      722|         925|        null|\n",
      "|     614872|      722|         925|        null|\n",
      "+-----------+---------+------------+------------+\n",
      "only showing top 5 rows\n",
      "\n"
     ]
    }
   ],
   "source": [
    "documents_meta.show(5)"
   ]
  },
  {
   "cell_type": "code",
   "execution_count": 12,
   "id": "580006d6",
   "metadata": {},
   "outputs": [
    {
     "name": "stdout",
     "output_type": "stream",
     "text": [
      "+-----------+--------+------------------+\n",
      "|document_id|topic_id|  confidence_level|\n",
      "+-----------+--------+------------------+\n",
      "|    1363957|     194|0.0717097235143966|\n",
      "|    1363957|     102|0.0544140453511417|\n",
      "|    1363957|     290|0.0540139593124283|\n",
      "|    1363957|      41|0.0388109264004699|\n",
      "|    1363957|     196|0.0318329906164727|\n",
      "+-----------+--------+------------------+\n",
      "only showing top 5 rows\n",
      "\n"
     ]
    }
   ],
   "source": [
    "documents_topics.show(5)"
   ]
  },
  {
   "cell_type": "code",
   "execution_count": 13,
   "id": "ff080b09",
   "metadata": {},
   "outputs": [
    {
     "name": "stdout",
     "output_type": "stream",
     "text": [
      "+----------+--------------+-----------+---------+--------+------------+\n",
      "|display_id|          uuid|document_id|timestamp|platform|geo_location|\n",
      "+----------+--------------+-----------+---------+--------+------------+\n",
      "|         1|cb8c55702adb93|     379743|       61|       3|   US>SC>519|\n",
      "|         2|79a85fa78311b9|    1794259|       81|       2|   US>CA>807|\n",
      "|         3|822932ce3d8757|    1179111|      182|       2|   US>MI>505|\n",
      "|         4|85281d0a49f7ac|    1777797|      234|       2|   US>WV>564|\n",
      "|         5|8d0daef4bf5b56|     252458|      338|       2|       SG>00|\n",
      "+----------+--------------+-----------+---------+--------+------------+\n",
      "only showing top 5 rows\n",
      "\n"
     ]
    }
   ],
   "source": [
    "events.show(5)"
   ]
  },
  {
   "cell_type": "code",
   "execution_count": 14,
   "id": "43ad7db1",
   "metadata": {},
   "outputs": [
    {
     "name": "stdout",
     "output_type": "stream",
     "text": [
      "+-----+-----------+-----------+-------------+\n",
      "|ad_id|document_id|campaign_id|advertiser_id|\n",
      "+-----+-----------+-----------+-------------+\n",
      "|    1|       6614|          1|            7|\n",
      "|    2|     471467|          2|            7|\n",
      "|    3|       7692|          3|            7|\n",
      "|    4|     471471|          2|            7|\n",
      "|    5|     471472|          2|            7|\n",
      "+-----+-----------+-----------+-------------+\n",
      "only showing top 5 rows\n",
      "\n"
     ]
    }
   ],
   "source": [
    "promoted_content.show(5)"
   ]
  },
  {
   "cell_type": "code",
   "execution_count": 15,
   "id": "62e7a8a7",
   "metadata": {},
   "outputs": [
    {
     "name": "stdout",
     "output_type": "stream",
     "text": [
      "+----------+--------------------+\n",
      "|display_id|               ad_id|\n",
      "+----------+--------------------+\n",
      "|  20049301|        95725 496356|\n",
      "|  20049302|4274 124591 14833...|\n",
      "|  20049303|168205 183761 211...|\n",
      "|  20049304|837 1733 32407 79...|\n",
      "|  20049305|111208 176225 287...|\n",
      "+----------+--------------------+\n",
      "only showing top 5 rows\n",
      "\n"
     ]
    }
   ],
   "source": [
    "sample_submission.show(5)"
   ]
  },
  {
   "cell_type": "markdown",
   "id": "1518c2a0",
   "metadata": {},
   "source": [
    "### Готовим данные"
   ]
  },
  {
   "cell_type": "code",
   "execution_count": 17,
   "id": "8df70804",
   "metadata": {},
   "outputs": [],
   "source": [
    "from pyspark.sql import functions as F\n",
    "from datetime import datetime\n",
    "from pyspark.sql.functions import col, collect_list, concat_ws"
   ]
  },
  {
   "cell_type": "code",
   "execution_count": 18,
   "id": "e70d9fea",
   "metadata": {},
   "outputs": [],
   "source": [
    "events = events.withColumn(\"country\", F.expr(\"element_at(split(geo_location, '>'), 1)\")) \\\n",
    "               .withColumn(\"state\", F.expr(\"element_at(split(geo_location, '>'), 2)\")) \\\n",
    "               .withColumn(\"dma\", F.expr(\"element_at(split(geo_location, '>'), 3)\")) \\\n",
    "               .withColumn(\"event_doc_id\", col(\"document_id\"))"
   ]
  },
  {
   "cell_type": "code",
   "execution_count": 19,
   "id": "8648883c",
   "metadata": {},
   "outputs": [
    {
     "name": "stdout",
     "output_type": "stream",
     "text": [
      "+-------+------+----------+-------+-----+---+--------+---------+------------+-----------+-----------+-------------+\n",
      "|clicked| ad_id|display_id|country|state|dma|platform|timestamp|event_doc_id|document_id|campaign_id|advertiser_id|\n",
      "+-------+------+----------+-------+-----+---+--------+---------+------------+-----------+-----------+-------------+\n",
      "|      1| 89351|       148|     US|   LA|612|       2|    11202|     1205772|     990613|       7617|         2181|\n",
      "|      0|152140|       148|     US|   LA|612|       2|    11202|     1205772|    1060089|      19032|         1593|\n",
      "|      0|152656|       148|     US|   LA|612|       2|    11202|     1205772|    1086755|      10511|         2151|\n",
      "|      0|326768|       148|     US|   LA|612|       2|    11202|     1205772|    1379561|      23374|         2348|\n",
      "|      0| 28270|       463|     US|   SD|764|       1|    34492|     1787133|     845272|       4346|         1913|\n",
      "+-------+------+----------+-------+-----+---+--------+---------+------------+-----------+-----------+-------------+\n",
      "only showing top 5 rows\n",
      "\n"
     ]
    }
   ],
   "source": [
    "train = (\n",
    "    clicks_train\n",
    "    .join(promoted_content, on=promoted_content.ad_id == clicks_train.ad_id, how=\"left\")\n",
    "    .join(events, on=clicks_train.display_id == events.display_id, how=\"left\")\n",
    "    .select(\n",
    "        clicks_train.clicked,\n",
    "        clicks_train.ad_id,\n",
    "        clicks_train.display_id,\n",
    "        events.country,\n",
    "        events.state,\n",
    "        events.dma,\n",
    "        events.platform,\n",
    "        events.timestamp,\n",
    "        events.event_doc_id,\n",
    "        promoted_content.document_id,\n",
    "        promoted_content.campaign_id,\n",
    "        promoted_content.advertiser_id\n",
    "    )\n",
    ")\n",
    "\n",
    "train.show(5)"
   ]
  },
  {
   "cell_type": "code",
   "execution_count": 20,
   "id": "3b5e8b60",
   "metadata": {},
   "outputs": [],
   "source": [
    "test = (\n",
    "    clicks_test\n",
    "    .join(promoted_content, on=promoted_content.ad_id == clicks_test.ad_id, how=\"left\")\n",
    "    .join(events, on=clicks_test.display_id == events.display_id, how=\"left\")\n",
    "    .select(\n",
    "        clicks_test.ad_id,\n",
    "        clicks_test.display_id,\n",
    "        events.country,\n",
    "        events.state,\n",
    "        events.dma,\n",
    "        events.platform,\n",
    "        events.timestamp,\n",
    "        events.event_doc_id,\n",
    "        promoted_content.document_id,\n",
    "        promoted_content.campaign_id,\n",
    "        promoted_content.advertiser_id\n",
    "    )\n",
    ")"
   ]
  },
  {
   "cell_type": "markdown",
   "id": "86bb744e",
   "metadata": {},
   "source": [
    "### Преобразуем данные в VW формат"
   ]
  },
  {
   "cell_type": "code",
   "execution_count": 22,
   "id": "6427697b",
   "metadata": {},
   "outputs": [],
   "source": [
    "def convert_to_vw(data):    \n",
    "    clicked = 1 if \"clicked\" in data and int(data[\"clicked\"]) == 1 else -1\n",
    "    ad_id = str(data[\"ad_id\"]) if \"ad_id\" in data else \"\"\n",
    "    display_id = str(data[\"display_id\"]) if \"display_id\" in data else \"\"\n",
    "    \n",
    "    country = str(data[\"country\"]) if \"country\" in data else \"\"\n",
    "    state = str(data[\"state\"]) if \"state\" in data else \"\"\n",
    "    dma = str(data[\"dma\"]) if \"dma\" in data else \"\"\n",
    "#     geo_location = str(data[\"geo_location\"]) if \"geo_location\" in data else \"\"\n",
    "\n",
    "    platform = str(data[\"platform\"]) if \"platform\" in data else \"\"\n",
    "    document_id = str(data[\"document_id\"]) if \"document_id\" in data else \"\"\n",
    "    event_doc_id = str(data[\"event_doc_id\"]) if \"event_doc_id\" in data else \"\"\n",
    "    campaign_id = str(data[\"campaign_id\"]) if \"campaign_id\" in data else \"\"\n",
    "    advertiser_id = str(data[\"advertiser_id\"]) if \"advertiser_id\" in data else \"\"\n",
    "    \n",
    "    dates = datetime.fromtimestamp(int(data[\"timestamp\"]))\n",
    "\n",
    "    year = str(dates.year)\n",
    "    weekday = str(dates.weekday())\n",
    "    month = str(dates.month)\n",
    "    \n",
    "    \n",
    "    template = \"{} |ids ad_id={} display_id={} campaign_id={} advertiser_id={} event_doc_id ={} platform={} document_id={} \" +\\\n",
    "                \"|place country={} state={} dma={} \" +\\\n",
    "                \"|time year={} weekday={} month={}\"\n",
    "\n",
    "    return template.format(\n",
    "        clicked,\n",
    "        ad_id,\n",
    "        display_id,\n",
    "        campaign_id,\n",
    "        advertiser_id,\n",
    "        event_doc_id,\n",
    "        platform,\n",
    "        document_id,\n",
    "        country,\n",
    "        state,\n",
    "        dma,\n",
    "        year,\n",
    "        weekday,\n",
    "        month\n",
    "    )\n"
   ]
  },
  {
   "cell_type": "code",
   "execution_count": 23,
   "id": "ea03e5fc",
   "metadata": {},
   "outputs": [
    {
     "name": "stdout",
     "output_type": "stream",
     "text": [
      "Deleted /user/bhw_data/train.vw\n",
      "Deleted /user/bhw_data/test.vw\n"
     ]
    }
   ],
   "source": [
    "!hdfs dfs -rm -r /user/bhw_data/train.vw\n",
    "!hdfs dfs -rm -r /user/bhw_data/test.vw"
   ]
  },
  {
   "cell_type": "code",
   "execution_count": 24,
   "id": "60c0474f",
   "metadata": {},
   "outputs": [],
   "source": [
    "train.rdd.map(convert_to_vw).saveAsTextFile('/user/bhw_data/train.vw')"
   ]
  },
  {
   "cell_type": "code",
   "execution_count": 25,
   "id": "d8495fcf",
   "metadata": {},
   "outputs": [],
   "source": [
    "test.rdd.map(convert_to_vw).saveAsTextFile('/user/bhw_data/test.vw')"
   ]
  },
  {
   "cell_type": "code",
   "execution_count": 26,
   "id": "9ce1b399",
   "metadata": {},
   "outputs": [],
   "source": [
    "# !hdfs dfs -ls /user/bhw_data"
   ]
  },
  {
   "cell_type": "code",
   "execution_count": 27,
   "id": "40128065",
   "metadata": {},
   "outputs": [],
   "source": [
    "!hdfs dfs -cat /user/bhw_data/train.vw/* > train.vw\n",
    "!hdfs dfs -cat /user/bhw_data/test.vw/* > test.vw"
   ]
  },
  {
   "cell_type": "code",
   "execution_count": 28,
   "id": "c1457972",
   "metadata": {},
   "outputs": [
    {
     "name": "stdout",
     "output_type": "stream",
     "text": [
      "1 |ids ad_id=89351 display_id=148 campaign_id=7617 advertiser_id=2181 event_doc_id =1205772 platform=2 document_id=990613 |place country=US state=LA dma=612 |time year=1970 weekday=3 month=1\r\n",
      "-1 |ids ad_id=152140 display_id=148 campaign_id=19032 advertiser_id=1593 event_doc_id =1205772 platform=2 document_id=1060089 |place country=US state=LA dma=612 |time year=1970 weekday=3 month=1\r\n",
      "-1 |ids ad_id=152656 display_id=148 campaign_id=10511 advertiser_id=2151 event_doc_id =1205772 platform=2 document_id=1086755 |place country=US state=LA dma=612 |time year=1970 weekday=3 month=1\r\n",
      "-1 |ids ad_id=326768 display_id=148 campaign_id=23374 advertiser_id=2348 event_doc_id =1205772 platform=2 document_id=1379561 |place country=US state=LA dma=612 |time year=1970 weekday=3 month=1\r\n",
      "-1 |ids ad_id=28270 display_id=463 campaign_id=4346 advertiser_id=1913 event_doc_id =1787133 platform=1 document_id=845272 |place country=US state=SD dma=764 |time year=1970 weekday=3 month=1\r\n",
      "1 |ids ad_id=38813 display_id=463 campaign_id=5499 advertiser_id=1419 event_doc_id =1787133 platform=1 document_id=910765 |place country=US state=SD dma=764 |time year=1970 weekday=3 month=1\r\n",
      "-1 |ids ad_id=104911 display_id=463 campaign_id=13576 advertiser_id=2028 event_doc_id =1787133 platform=1 document_id=1158823 |place country=US state=SD dma=764 |time year=1970 weekday=3 month=1\r\n"
     ]
    }
   ],
   "source": [
    "!head -n 7 train.vw"
   ]
  },
  {
   "cell_type": "markdown",
   "id": "3adb3796",
   "metadata": {},
   "source": [
    "### Обучим модель и получим результаты для соревнования"
   ]
  },
  {
   "cell_type": "code",
   "execution_count": 29,
   "id": "aef81981",
   "metadata": {},
   "outputs": [
    {
     "name": "stdout",
     "output_type": "stream",
     "text": [
      "creating quadratic features for pairs: :: \n",
      "WARNING: duplicate namespace interactions were found. Removed: 4278.\n",
      "You can use --leave_duplicate_interactions to disable this behaviour.\n",
      "using l1 regularization = 20\n",
      "final_regressor = model4.bin\n",
      "Enabling FTRL based optimization\n",
      "Algorithm used: Proximal-FTRL\n",
      "ftrl_alpha = 0.01\n",
      "ftrl_beta = 0.1\n",
      "Num weight bits = 28\n",
      "learning rate = 0.5\n",
      "initial_t = 0\n",
      "power_t = 0.5\n",
      "decay_learning_rate = 1\n",
      "creating cache_file = train.vw.cache\n",
      "Reading datafile = train.vw\n",
      "num sources = 1\n",
      "average  since         example        example  current  current  current\n",
      "loss     last          counter         weight    label  predict features\n",
      "0.693147 0.693147            1            1.0   1.0000   0.0000      120\n",
      "0.693147 0.693147            2            2.0  -1.0000   0.0000      120\n",
      "0.693147 0.693147            4            4.0  -1.0000   0.0000      120\n",
      "0.693147 0.693147            8            8.0  -1.0000   0.0000      120\n",
      "0.693147 0.693147           16           16.0  -1.0000   0.0000      120\n",
      "0.693147 0.693147           32           32.0  -1.0000   0.0000      120\n",
      "0.693147 0.693147           64           64.0  -1.0000   0.0000      120\n",
      "0.681920 0.670692          128          128.0  -1.0000  -0.2617      120\n",
      "0.617096 0.552272          256          256.0  -1.0000  -0.8167      120\n",
      "0.575656 0.534217          512          512.0  -1.0000  -0.8367      120\n",
      "0.547635 0.519615         1024         1024.0  -1.0000  -0.8025      120\n",
      "0.528340 0.509045         2048         2048.0  -1.0000  -1.3533      120\n",
      "0.512663 0.496985         4096         4096.0   1.0000  -1.3335      120\n",
      "0.505678 0.498694         8192         8192.0  -1.0000  -1.0975      120\n",
      "0.498535 0.491393        16384        16384.0  -1.0000  -1.2158      120\n",
      "0.493122 0.487709        32768        32768.0  -1.0000  -1.1519      120\n",
      "0.488001 0.482879        65536        65536.0  -1.0000  -1.2807      120\n",
      "0.482485 0.476970       131072       131072.0   1.0000  -0.6646      120\n",
      "0.475393 0.468300       262144       262144.0  -1.0000  -1.4648      120\n",
      "0.468997 0.462602       524288       524288.0  -1.0000  -1.6542      120\n",
      "0.461958 0.454920      1048576      1048576.0  -1.0000  -1.2095      120\n",
      "0.456233 0.450507      2097152      2097152.0  -1.0000  -2.3135      120\n",
      "0.451555 0.446878      4194304      4194304.0  -1.0000  -1.8692      120\n",
      "0.447372 0.443189      8388608      8388608.0  -1.0000  -1.0958      120\n",
      "0.443498 0.439624     16777216     16777216.0  -1.0000  -1.7201      120\n",
      "0.439887 0.436275     33554432     33554432.0  -1.0000  -2.1895      120\n",
      "0.436496 0.433106     67108864     67108864.0   1.0000  -1.8950      120\n",
      "0.433332 0.433332    134217728    134217728.0   1.0000  -0.5576      120 h\n",
      "\n",
      "finished run\n",
      "number of examples per pass = 78427558\n",
      "passes used = 2\n",
      "weighted example sum = 156855116.000000\n",
      "weighted label sum = -96104656.000000\n",
      "average loss = 0.429580 h\n",
      "best constant = -1.426456\n",
      "best constant's loss = 0.491475\n",
      "total feature number = 18822613920\n"
     ]
    }
   ],
   "source": [
    "!vw --final_regressor model4.bin \\\n",
    "    --loss_function logistic \\\n",
    "    --bit_precision 28 \\\n",
    "    --passes 2 \\\n",
    "    --cache -k \\\n",
    "    --quadratic :: \\\n",
    "    --ftrl \\\n",
    "    --ftrl_alpha 0.01 \\\n",
    "    --ftrl_beta 0.1 \\\n",
    "    --l1 20 \\\n",
    "    train.vw"
   ]
  },
  {
   "cell_type": "code",
   "execution_count": 30,
   "id": "bbef41df",
   "metadata": {},
   "outputs": [
    {
     "name": "stdout",
     "output_type": "stream",
     "text": [
      "creating quadratic features for pairs: :: \n",
      "WARNING: duplicate namespace interactions were found. Removed: 4278.\n",
      "You can use --leave_duplicate_interactions to disable this behaviour.\n",
      "only testing\n",
      "predictions = test_predictions4.txt\n",
      "Enabling FTRL based optimization\n",
      "Algorithm used: Proximal-FTRL\n",
      "ftrl_alpha = 0.005\n",
      "ftrl_beta = 0.1\n",
      "Num weight bits = 28\n",
      "learning rate = 0.5\n",
      "initial_t = 0\n",
      "power_t = 0.5\n",
      "using no cache\n",
      "Reading datafile = test.vw\n",
      "num sources = 1\n",
      "average  since         example        example  current  current  current\n",
      "loss     last          counter         weight    label  predict features\n",
      "0.345513 0.345513            1            1.0  -1.0000   0.1697      120\n",
      "0.629447 0.913382            2            2.0  -1.0000   0.1239      120\n",
      "0.377407 0.125367            4            4.0  -1.0000   0.1997      120\n",
      "0.256965 0.136522            8            8.0  -1.0000   0.1646      120\n",
      "0.504912 0.752859           16           16.0  -1.0000   0.3777      120\n",
      "0.783198 1.061484           32           32.0  -1.0000   0.0502      120\n",
      "0.937264 1.091330           64           64.0  -1.0000   0.0853      120\n",
      "1.554561 2.171857          128          128.0  -1.0000   0.7277      120\n",
      "1.373331 1.192101          256          256.0  -1.0000   0.0687      120\n",
      "1.294920 1.216510          512          512.0  -1.0000   0.2816      120\n",
      "1.105781 0.916641         1024         1024.0  -1.0000   0.1729      120\n",
      "1.214166 1.322552         2048         2048.0  -1.0000   0.0818      120\n",
      "1.371590 1.529013         4096         4096.0  -1.0000   0.1943      120\n",
      "1.346533 1.321477         8192         8192.0  -1.0000   0.2088      120\n",
      "1.420343 1.494153        16384        16384.0  -1.0000   0.1664      120\n",
      "1.412424 1.404505        32768        32768.0  -1.0000   0.1252      120\n",
      "1.430892 1.449359        65536        65536.0  -1.0000   0.0793      120\n",
      "1.310817 1.190743       131072       131072.0  -1.0000   0.1570      120\n",
      "1.304380 1.297942       262144       262144.0  -1.0000   0.0826      120\n",
      "1.285239 1.266099       524288       524288.0  -1.0000   0.1641      120\n",
      "1.283606 1.281973      1048576      1048576.0  -1.0000   0.1118      120\n",
      "1.273230 1.262854      2097152      2097152.0  -1.0000   0.6285      120\n",
      "1.273533 1.273836      4194304      4194304.0  -1.0000   0.2017      120\n",
      "1.273381 1.273228      8388608      8388608.0  -1.0000   0.0876      120\n",
      "1.273201 1.273022     16777216     16777216.0  -1.0000   0.4458      120\n",
      "\n",
      "finished run\n",
      "number of examples = 32225162\n",
      "weighted example sum = 32225162.000000\n",
      "weighted label sum = -32225162.000000\n",
      "average loss = 1.272696\n",
      "best constant = -1.000000\n",
      "best constant's loss = 0.000000\n",
      "total feature number = 3867019440\n"
     ]
    }
   ],
   "source": [
    "! vw \\\n",
    "    --link=logistic \\\n",
    "    --testonly \\\n",
    "    --initial_regressor model4.bin \\\n",
    "    --predictions test_predictions4.txt \\\n",
    "    test.vw"
   ]
  },
  {
   "cell_type": "code",
   "execution_count": 31,
   "id": "a394256e",
   "metadata": {},
   "outputs": [
    {
     "name": "stdout",
     "output_type": "stream",
     "text": [
      "0.169693\r\n",
      "0.123932\r\n",
      "0.211434\r\n",
      "0.199698\r\n",
      "0.226889\r\n",
      "0.231316\r\n",
      "0.321958\r\n",
      "0.164636\r\n",
      "0.165586\r\n",
      "0.075165\r\n"
     ]
    }
   ],
   "source": [
    "!head -n 10 test_predictions4.txt"
   ]
  },
  {
   "cell_type": "code",
   "execution_count": 32,
   "id": "9dc02e84",
   "metadata": {},
   "outputs": [
    {
     "name": "stdout",
     "output_type": "stream",
     "text": [
      "32225162 test_predictions4.txt\r\n"
     ]
    }
   ],
   "source": [
    "!wc -l test_predictions4.txt"
   ]
  },
  {
   "cell_type": "code",
   "execution_count": 44,
   "id": "741a15bc",
   "metadata": {},
   "outputs": [
    {
     "name": "stdout",
     "output_type": "stream",
     "text": [
      "32225162 test.vw\r\n"
     ]
    }
   ],
   "source": [
    "!wc -l test.vw"
   ]
  },
  {
   "cell_type": "markdown",
   "id": "59fdf8c1",
   "metadata": {},
   "source": [
    "### Преобразовываем предсказания в нужный формат"
   ]
  },
  {
   "cell_type": "code",
   "execution_count": 2,
   "id": "5bd3a83b",
   "metadata": {},
   "outputs": [
    {
     "name": "stdout",
     "output_type": "stream",
     "text": [
      "-1 |ids ad_id=137006 display_id=16874807 campaign_id=17587 advertiser_id=859 event_doc_id =399863 platform=2 document_id=916403 |place country=AU state=02 dma=None |time year=1970 weekday=4 month=1\r\n",
      "-1 |ids ad_id=192759 display_id=16874807 campaign_id=22742 advertiser_id=1975 event_doc_id =399863 platform=2 document_id=1469601 |place country=AU state=02 dma=None |time year=1970 weekday=4 month=1\r\n",
      "-1 |ids ad_id=192855 display_id=16874807 campaign_id=22748 advertiser_id=622 event_doc_id =399863 platform=2 document_id=1460834 |place country=AU state=02 dma=None |time year=1970 weekday=4 month=1\r\n"
     ]
    }
   ],
   "source": [
    "!head -n 3 test.vw"
   ]
  },
  {
   "cell_type": "code",
   "execution_count": 3,
   "id": "bd7db359",
   "metadata": {},
   "outputs": [
    {
     "name": "stdout",
     "output_type": "stream",
     "text": [
      "0.169693\r\n",
      "0.123932\r\n",
      "0.211434\r\n"
     ]
    }
   ],
   "source": [
    "!head -n 3 test_predictions4.txt"
   ]
  },
  {
   "cell_type": "code",
   "execution_count": 5,
   "id": "5ce01176",
   "metadata": {},
   "outputs": [
    {
     "data": {
      "text/html": [
       "<div>\n",
       "<style scoped>\n",
       "    .dataframe tbody tr th:only-of-type {\n",
       "        vertical-align: middle;\n",
       "    }\n",
       "\n",
       "    .dataframe tbody tr th {\n",
       "        vertical-align: top;\n",
       "    }\n",
       "\n",
       "    .dataframe thead th {\n",
       "        text-align: right;\n",
       "    }\n",
       "</style>\n",
       "<table border=\"1\" class=\"dataframe\">\n",
       "  <thead>\n",
       "    <tr style=\"text-align: right;\">\n",
       "      <th></th>\n",
       "      <th>display_id</th>\n",
       "      <th>ad_id</th>\n",
       "      <th>score</th>\n",
       "    </tr>\n",
       "  </thead>\n",
       "  <tbody>\n",
       "    <tr>\n",
       "      <th>0</th>\n",
       "      <td>16874807</td>\n",
       "      <td>137006</td>\n",
       "      <td>0.169693</td>\n",
       "    </tr>\n",
       "    <tr>\n",
       "      <th>1</th>\n",
       "      <td>16874807</td>\n",
       "      <td>192759</td>\n",
       "      <td>0.123932</td>\n",
       "    </tr>\n",
       "    <tr>\n",
       "      <th>2</th>\n",
       "      <td>16874807</td>\n",
       "      <td>192855</td>\n",
       "      <td>0.211434</td>\n",
       "    </tr>\n",
       "    <tr>\n",
       "      <th>3</th>\n",
       "      <td>16874807</td>\n",
       "      <td>213769</td>\n",
       "      <td>0.199698</td>\n",
       "    </tr>\n",
       "    <tr>\n",
       "      <th>4</th>\n",
       "      <td>16874827</td>\n",
       "      <td>64762</td>\n",
       "      <td>0.226889</td>\n",
       "    </tr>\n",
       "  </tbody>\n",
       "</table>\n",
       "</div>"
      ],
      "text/plain": [
       "  display_id   ad_id     score\n",
       "0   16874807  137006  0.169693\n",
       "1   16874807  192759  0.123932\n",
       "2   16874807  192855  0.211434\n",
       "3   16874807  213769  0.199698\n",
       "4   16874827   64762  0.226889"
      ]
     },
     "execution_count": 5,
     "metadata": {},
     "output_type": "execute_result"
    }
   ],
   "source": [
    "import pandas as pd\n",
    "clicks_pd = pd.DataFrame()\n",
    "\n",
    "with open('test.vw', 'r') as f:\n",
    "    a, b = [], []\n",
    "    for line in f:\n",
    "        a.append(line.split(\"display_id=\")[1].split()[0])\n",
    "        b.append(line.split(\"ad_id=\")[1].split()[0])\n",
    "        \n",
    "    clicks_pd['display_id'] = a\n",
    "    clicks_pd['ad_id'] = b\n",
    "\n",
    "with open('test_predictions4.txt', 'r') as f:\n",
    "    clicks_pd['score'] = list([float(val) for val in f.readlines()])\n",
    "\n",
    "clicks_pd.head(5)"
   ]
  },
  {
   "cell_type": "code",
   "execution_count": 6,
   "id": "b9f3c9de",
   "metadata": {},
   "outputs": [],
   "source": [
    "clicks_pd = clicks_pd.sort_values(['display_id', 'score'], ascending=False).groupby('display_id').agg({'ad_id': list})\n",
    "clicks_pd['ad_id'] = clicks_pd['ad_id'].apply(lambda x: ' '.join(map(str, x)))\n",
    "clicks_pd.to_csv('final.csv')"
   ]
  },
  {
   "cell_type": "code",
   "execution_count": 7,
   "id": "5f31e871",
   "metadata": {},
   "outputs": [
    {
     "data": {
      "text/plain": [
       "(6245533, 1)"
      ]
     },
     "execution_count": 7,
     "metadata": {},
     "output_type": "execute_result"
    }
   ],
   "source": [
    "clicks_pd.shape"
   ]
  },
  {
   "cell_type": "code",
   "execution_count": 8,
   "id": "7b172aac",
   "metadata": {
    "scrolled": true
   },
   "outputs": [
    {
     "name": "stdout",
     "output_type": "stream",
     "text": [
      "display_id,ad_id\r\n",
      "16874594,170392 172888 162754 66758 150083 180797\r\n",
      "16874595,8846 143982 30609\r\n",
      "16874596,132820 11430 289915 289122 153260 57197 173005 288385\r\n",
      "16874597,285834 305790 143981 182039 308836 155945 180965 137858\r\n",
      "16874598,145937 335632 67292 250082\r\n",
      "16874599,91681 173130 210516 296295 213116 163776\r\n",
      "16874600,57591 70529 30682 2150 133050 114836\r\n",
      "16874601,190713 92003 129490 140942 14082 118470\r\n",
      "16874602,154918 281563 269017 131316 268548\r\n"
     ]
    }
   ],
   "source": [
    "!head -n 10 final.csv"
   ]
  },
  {
   "cell_type": "code",
   "execution_count": 9,
   "id": "66c7796e",
   "metadata": {},
   "outputs": [
    {
     "name": "stdout",
     "output_type": "stream",
     "text": [
      "6245534 final.csv\r\n"
     ]
    }
   ],
   "source": [
    "!wc -l final.csv"
   ]
  },
  {
   "cell_type": "code",
   "execution_count": 10,
   "id": "8acb9249",
   "metadata": {},
   "outputs": [
    {
     "name": "stdout",
     "output_type": "stream",
     "text": [
      "2025-03-26 14:11:49,717 INFO impl.MetricsConfig: Loaded properties from hadoop-metrics2.properties\n",
      "2025-03-26 14:11:50,349 INFO impl.MetricsSystemImpl: Scheduled Metric snapshot period at 10 second(s).\n",
      "2025-03-26 14:11:50,349 INFO impl.MetricsSystemImpl: s3a-file-system metrics system started\n",
      "2025-03-26 14:12:05,433 INFO impl.MetricsSystemImpl: Stopping s3a-file-system metrics system...\n",
      "2025-03-26 14:12:05,433 INFO impl.MetricsSystemImpl: s3a-file-system metrics system stopped.\n",
      "2025-03-26 14:12:05,433 INFO impl.MetricsSystemImpl: s3a-file-system metrics system shutdown complete.\n"
     ]
    }
   ],
   "source": [
    "!hdfs dfs -put -f final.csv s3a://bspanfilov-lsml/bhw_submit4_1.csv"
   ]
  },
  {
   "attachments": {
    "image.png": {
     "image/png": "[encoded data removed]"
    }
   },
   "cell_type": "markdown",
   "id": "f9ce5987",
   "metadata": {},
   "source": [
    "![image.png](attachment:image.png)"
   ]
  },
  {
   "cell_type": "markdown",
   "id": "a5177590",
   "metadata": {},
   "source": [
    "сслыка на яндекс диск на всякий https://disk.yandex.ru/i/lTa0_fHeb6XwYg"
   ]
  }
 ],
 "metadata": {
  "kernelspec": {
   "display_name": "Python 3",
   "language": "python",
   "name": "python3"
  },
  "language_info": {
   "codemirror_mode": {
    "name": "ipython",
    "version": 3
   },
   "file_extension": ".py",
   "mimetype": "text/x-python",
   "name": "python",
   "nbconvert_exporter": "python",
   "pygments_lexer": "ipython3",
   "version": "3.8.10"
  }
 },
 "nbformat": 4,
 "nbformat_minor": 5
}
