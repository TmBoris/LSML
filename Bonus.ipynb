{
 "cells": [
  {
   "cell_type": "markdown",
   "id": "3132f6ab",
   "metadata": {},
   "source": [
    "### Добудем данные"
   ]
  },
  {
   "cell_type": "code",
   "execution_count": 2,
   "id": "5bd9295e",
   "metadata": {},
   "outputs": [
    {
     "name": "stdout",
     "output_type": "stream",
     "text": [
      "Warning: Looks like you're using an outdated `kagglehub` version, please consider updating (latest version: 0.3.10)\n",
      "Downloading from https://www.kaggle.com/api/v1/datasets/download/joebeachcapital/airbnb?dataset_version_number=1...\n"
     ]
    },
    {
     "name": "stderr",
     "output_type": "stream",
     "text": [
      "100%|██████████| 1.01G/1.01G [00:31<00:00, 34.4MB/s]"
     ]
    },
    {
     "name": "stdout",
     "output_type": "stream",
     "text": [
      "Extracting model files...\n"
     ]
    },
    {
     "name": "stderr",
     "output_type": "stream",
     "text": [
      "\n"
     ]
    },
    {
     "name": "stdout",
     "output_type": "stream",
     "text": [
      "Path to dataset files: /home/ubuntu/.cache/kagglehub/datasets/joebeachcapital/airbnb/versions/1\n"
     ]
    }
   ],
   "source": [
    "import kagglehub\n",
    "\n",
    "# Download latest version\n",
    "path = kagglehub.dataset_download(\"joebeachcapital/airbnb\")\n",
    "\n",
    "print(\"Path to dataset files:\", path)"
   ]
  },
  {
   "cell_type": "code",
   "execution_count": 4,
   "id": "d871e13a",
   "metadata": {},
   "outputs": [],
   "source": [
    "!cp -r /home/ubuntu/.cache/kagglehub/datasets/joebeachcapital/airbnb/versions/1 /home/ubuntu"
   ]
  },
  {
   "cell_type": "code",
   "execution_count": 6,
   "id": "83e2a9a4",
   "metadata": {},
   "outputs": [
    {
     "name": "stdout",
     "output_type": "stream",
     "text": [
      "airbnb-listings.csv  airbnb-listings.geojson\r\n"
     ]
    }
   ],
   "source": [
    "!ls 1"
   ]
  },
  {
   "cell_type": "code",
   "execution_count": 7,
   "id": "ffbdfe6b",
   "metadata": {},
   "outputs": [],
   "source": [
    "!hdfs dfs -put 1/airbnb-listings.csv /user/airbnb"
   ]
  },
  {
   "cell_type": "code",
   "execution_count": 8,
   "id": "490e4991",
   "metadata": {},
   "outputs": [
    {
     "name": "stdout",
     "output_type": "stream",
     "text": [
      "Found 1 items\r\n",
      "-rw-r--r--   1 ubuntu hadoop 1935924731 2025-03-27 19:44 /user/airbnb/airbnb-listings.csv\r\n"
     ]
    }
   ],
   "source": [
    "!hdfs dfs -ls /user/airbnb"
   ]
  },
  {
   "cell_type": "markdown",
   "id": "3373370b",
   "metadata": {},
   "source": [
    "### Достаем из карманов спарк"
   ]
  },
  {
   "cell_type": "code",
   "execution_count": 9,
   "id": "6b4d6a25",
   "metadata": {},
   "outputs": [],
   "source": [
    "import findspark\n",
    "findspark.init()"
   ]
  },
  {
   "cell_type": "code",
   "execution_count": 10,
   "id": "3ae5be01",
   "metadata": {},
   "outputs": [],
   "source": [
    "from pyspark.sql import SparkSession\n",
    "import pyspark\n",
    "\n",
    "sc = pyspark.SparkContext(appName=\"bonus\")\n",
    "spark = SparkSession(sc)"
   ]
  },
  {
   "cell_type": "code",
   "execution_count": 15,
   "id": "ab946031",
   "metadata": {},
   "outputs": [],
   "source": [
    "data = spark.read.option(\"mode\", \"DROPMALFORMED\").option('sep', ';') \\\n",
    ".csv(\"/user/airbnb/airbnb-listings.csv\", header=True, inferSchema=True)"
   ]
  },
  {
   "cell_type": "code",
   "execution_count": 16,
   "id": "b5da3771",
   "metadata": {},
   "outputs": [
    {
     "name": "stdout",
     "output_type": "stream",
     "text": [
      "root\n",
      " |-- ID: string (nullable = true)\n",
      " |-- Listing Url: string (nullable = true)\n",
      " |-- Scrape ID: string (nullable = true)\n",
      " |-- Last Scraped: string (nullable = true)\n",
      " |-- Name: string (nullable = true)\n",
      " |-- Summary: string (nullable = true)\n",
      " |-- Space: string (nullable = true)\n",
      " |-- Description: string (nullable = true)\n",
      " |-- Experiences Offered: string (nullable = true)\n",
      " |-- Neighborhood Overview: string (nullable = true)\n",
      " |-- Notes: string (nullable = true)\n",
      " |-- Transit: string (nullable = true)\n",
      " |-- Access: string (nullable = true)\n",
      " |-- Interaction: string (nullable = true)\n",
      " |-- House Rules: string (nullable = true)\n",
      " |-- Thumbnail Url: string (nullable = true)\n",
      " |-- Medium Url: string (nullable = true)\n",
      " |-- Picture Url: string (nullable = true)\n",
      " |-- XL Picture Url: string (nullable = true)\n",
      " |-- Host ID: string (nullable = true)\n",
      " |-- Host URL: string (nullable = true)\n",
      " |-- Host Name: string (nullable = true)\n",
      " |-- Host Since: string (nullable = true)\n",
      " |-- Host Location: string (nullable = true)\n",
      " |-- Host About: string (nullable = true)\n",
      " |-- Host Response Time: string (nullable = true)\n",
      " |-- Host Response Rate: string (nullable = true)\n",
      " |-- Host Acceptance Rate: string (nullable = true)\n",
      " |-- Host Thumbnail Url: string (nullable = true)\n",
      " |-- Host Picture Url: string (nullable = true)\n",
      " |-- Host Neighbourhood: string (nullable = true)\n",
      " |-- Host Listings Count: string (nullable = true)\n",
      " |-- Host Total Listings Count: string (nullable = true)\n",
      " |-- Host Verifications: string (nullable = true)\n",
      " |-- Street: string (nullable = true)\n",
      " |-- Neighbourhood: string (nullable = true)\n",
      " |-- Neighbourhood Cleansed: string (nullable = true)\n",
      " |-- Neighbourhood Group Cleansed: string (nullable = true)\n",
      " |-- City: string (nullable = true)\n",
      " |-- State: string (nullable = true)\n",
      " |-- Zipcode: string (nullable = true)\n",
      " |-- Market: string (nullable = true)\n",
      " |-- Smart Location: string (nullable = true)\n",
      " |-- Country Code: string (nullable = true)\n",
      " |-- Country: string (nullable = true)\n",
      " |-- Latitude: string (nullable = true)\n",
      " |-- Longitude: string (nullable = true)\n",
      " |-- Property Type: string (nullable = true)\n",
      " |-- Room Type: string (nullable = true)\n",
      " |-- Accommodates: string (nullable = true)\n",
      " |-- Bathrooms: string (nullable = true)\n",
      " |-- Bedrooms: string (nullable = true)\n",
      " |-- Beds: string (nullable = true)\n",
      " |-- Bed Type: string (nullable = true)\n",
      " |-- Amenities: string (nullable = true)\n",
      " |-- Square Feet: string (nullable = true)\n",
      " |-- Price: string (nullable = true)\n",
      " |-- Weekly Price: string (nullable = true)\n",
      " |-- Monthly Price: string (nullable = true)\n",
      " |-- Security Deposit: string (nullable = true)\n",
      " |-- Cleaning Fee: string (nullable = true)\n",
      " |-- Guests Included: string (nullable = true)\n",
      " |-- Extra People: string (nullable = true)\n",
      " |-- Minimum Nights: string (nullable = true)\n",
      " |-- Maximum Nights: string (nullable = true)\n",
      " |-- Calendar Updated: string (nullable = true)\n",
      " |-- Has Availability: string (nullable = true)\n",
      " |-- Availability 30: string (nullable = true)\n",
      " |-- Availability 60: string (nullable = true)\n",
      " |-- Availability 90: string (nullable = true)\n",
      " |-- Availability 365: string (nullable = true)\n",
      " |-- Calendar last Scraped: string (nullable = true)\n",
      " |-- Number of Reviews: string (nullable = true)\n",
      " |-- First Review: string (nullable = true)\n",
      " |-- Last Review: string (nullable = true)\n",
      " |-- Review Scores Rating: string (nullable = true)\n",
      " |-- Review Scores Accuracy: string (nullable = true)\n",
      " |-- Review Scores Cleanliness: string (nullable = true)\n",
      " |-- Review Scores Checkin: string (nullable = true)\n",
      " |-- Review Scores Communication: string (nullable = true)\n",
      " |-- Review Scores Location: string (nullable = true)\n",
      " |-- Review Scores Value: string (nullable = true)\n",
      " |-- License: string (nullable = true)\n",
      " |-- Jurisdiction Names: string (nullable = true)\n",
      " |-- Cancellation Policy: string (nullable = true)\n",
      " |-- Calculated host listings count: string (nullable = true)\n",
      " |-- Reviews per Month: string (nullable = true)\n",
      " |-- Geolocation: string (nullable = true)\n",
      " |-- Features: string (nullable = true)\n",
      "\n"
     ]
    }
   ],
   "source": [
    "data.printSchema()"
   ]
  },
  {
   "cell_type": "code",
   "execution_count": 17,
   "id": "a272bc9e",
   "metadata": {},
   "outputs": [
    {
     "data": {
      "text/html": [
       "<div>\n",
       "<style scoped>\n",
       "    .dataframe tbody tr th:only-of-type {\n",
       "        vertical-align: middle;\n",
       "    }\n",
       "\n",
       "    .dataframe tbody tr th {\n",
       "        vertical-align: top;\n",
       "    }\n",
       "\n",
       "    .dataframe thead th {\n",
       "        text-align: right;\n",
       "    }\n",
       "</style>\n",
       "<table border=\"1\" class=\"dataframe\">\n",
       "  <thead>\n",
       "    <tr style=\"text-align: right;\">\n",
       "      <th></th>\n",
       "      <th>ID</th>\n",
       "      <th>Listing Url</th>\n",
       "      <th>Scrape ID</th>\n",
       "      <th>Last Scraped</th>\n",
       "      <th>Name</th>\n",
       "      <th>Summary</th>\n",
       "      <th>Space</th>\n",
       "      <th>Description</th>\n",
       "      <th>Experiences Offered</th>\n",
       "      <th>Neighborhood Overview</th>\n",
       "      <th>...</th>\n",
       "      <th>Review Scores Communication</th>\n",
       "      <th>Review Scores Location</th>\n",
       "      <th>Review Scores Value</th>\n",
       "      <th>License</th>\n",
       "      <th>Jurisdiction Names</th>\n",
       "      <th>Cancellation Policy</th>\n",
       "      <th>Calculated host listings count</th>\n",
       "      <th>Reviews per Month</th>\n",
       "      <th>Geolocation</th>\n",
       "      <th>Features</th>\n",
       "    </tr>\n",
       "  </thead>\n",
       "  <tbody>\n",
       "    <tr>\n",
       "      <th>0</th>\n",
       "      <td>8264596</td>\n",
       "      <td>https://www.airbnb.com/rooms/8264596</td>\n",
       "      <td>20170402075052</td>\n",
       "      <td>2017-04-02</td>\n",
       "      <td>Cosy apartment across Vondelpark</td>\n",
       "      <td>This central located apartment will make you f...</td>\n",
       "      <td>None</td>\n",
       "      <td>This central located apartment will make you f...</td>\n",
       "      <td>none</td>\n",
       "      <td>None</td>\n",
       "      <td>...</td>\n",
       "      <td>10</td>\n",
       "      <td>10</td>\n",
       "      <td>10</td>\n",
       "      <td>None</td>\n",
       "      <td>Amsterdam</td>\n",
       "      <td>flexible</td>\n",
       "      <td>1</td>\n",
       "      <td>0.05</td>\n",
       "      <td>52.361943953804776, 4.866686522141489</td>\n",
       "      <td>Host Has Profile Pic,Host Identity Verified,Is...</td>\n",
       "    </tr>\n",
       "    <tr>\n",
       "      <th>1</th>\n",
       "      <td>2180729</td>\n",
       "      <td>https://www.airbnb.com/rooms/2180729</td>\n",
       "      <td>20170402075052</td>\n",
       "      <td>2017-04-02</td>\n",
       "      <td>Spacious City Apartment Oud-West</td>\n",
       "      <td>Living like an Amsterdam resident in this ligh...</td>\n",
       "      <td>There are 2 bedrooms each with a double bed. I...</td>\n",
       "      <td>Living like an Amsterdam resident in this ligh...</td>\n",
       "      <td>none</td>\n",
       "      <td>The 85 m2 apartment is located on a quiet stre...</td>\n",
       "      <td>...</td>\n",
       "      <td>9</td>\n",
       "      <td>9</td>\n",
       "      <td>9</td>\n",
       "      <td>None</td>\n",
       "      <td>Amsterdam</td>\n",
       "      <td>flexible</td>\n",
       "      <td>1</td>\n",
       "      <td>0.62</td>\n",
       "      <td>52.37014616115532, 4.866281767968382</td>\n",
       "      <td>Host Has Profile Pic,Host Identity Verified,Is...</td>\n",
       "    </tr>\n",
       "    <tr>\n",
       "      <th>2</th>\n",
       "      <td>14463171</td>\n",
       "      <td>https://www.airbnb.com/rooms/14463171</td>\n",
       "      <td>20170402075052</td>\n",
       "      <td>2017-04-02</td>\n",
       "      <td>Cosy Studio Apartment Center Amsterdam</td>\n",
       "      <td>Studio Apartment Centre Amsterdam Perfect stud...</td>\n",
       "      <td>None</td>\n",
       "      <td>Studio Apartment Centre Amsterdam Perfect stud...</td>\n",
       "      <td>none</td>\n",
       "      <td>None</td>\n",
       "      <td>...</td>\n",
       "      <td>8</td>\n",
       "      <td>9</td>\n",
       "      <td>9</td>\n",
       "      <td>None</td>\n",
       "      <td>Amsterdam</td>\n",
       "      <td>moderate</td>\n",
       "      <td>1</td>\n",
       "      <td>2.04</td>\n",
       "      <td>52.368817829014425, 4.871249476925455</td>\n",
       "      <td>Host Has Profile Pic</td>\n",
       "    </tr>\n",
       "    <tr>\n",
       "      <th>3</th>\n",
       "      <td>13932749</td>\n",
       "      <td>https://www.airbnb.com/rooms/13932749</td>\n",
       "      <td>20170402075052</td>\n",
       "      <td>2017-04-02</td>\n",
       "      <td>Spacious apt with sunny balcony</td>\n",
       "      <td>This beautiful 80m2 apartment has a huge livin...</td>\n",
       "      <td>The huge living room and open kitchen, make th...</td>\n",
       "      <td>This beautiful 80m2 apartment has a huge livin...</td>\n",
       "      <td>none</td>\n",
       "      <td>Amsterdam West is a colorful,  bustling and up...</td>\n",
       "      <td>...</td>\n",
       "      <td>10</td>\n",
       "      <td>9</td>\n",
       "      <td>10</td>\n",
       "      <td>None</td>\n",
       "      <td>Amsterdam</td>\n",
       "      <td>strict</td>\n",
       "      <td>1</td>\n",
       "      <td>1.49</td>\n",
       "      <td>52.36949764400226, 4.859321434670662</td>\n",
       "      <td>Host Is Superhost,Host Has Profile Pic,Host Id...</td>\n",
       "    </tr>\n",
       "  </tbody>\n",
       "</table>\n",
       "<p>4 rows × 89 columns</p>\n",
       "</div>"
      ],
      "text/plain": [
       "         ID                            Listing Url       Scrape ID  \\\n",
       "0   8264596   https://www.airbnb.com/rooms/8264596  20170402075052   \n",
       "1   2180729   https://www.airbnb.com/rooms/2180729  20170402075052   \n",
       "2  14463171  https://www.airbnb.com/rooms/14463171  20170402075052   \n",
       "3  13932749  https://www.airbnb.com/rooms/13932749  20170402075052   \n",
       "\n",
       "  Last Scraped                                    Name  \\\n",
       "0   2017-04-02        Cosy apartment across Vondelpark   \n",
       "1   2017-04-02        Spacious City Apartment Oud-West   \n",
       "2   2017-04-02  Cosy Studio Apartment Center Amsterdam   \n",
       "3   2017-04-02         Spacious apt with sunny balcony   \n",
       "\n",
       "                                             Summary  \\\n",
       "0  This central located apartment will make you f...   \n",
       "1  Living like an Amsterdam resident in this ligh...   \n",
       "2  Studio Apartment Centre Amsterdam Perfect stud...   \n",
       "3  This beautiful 80m2 apartment has a huge livin...   \n",
       "\n",
       "                                               Space  \\\n",
       "0                                               None   \n",
       "1  There are 2 bedrooms each with a double bed. I...   \n",
       "2                                               None   \n",
       "3  The huge living room and open kitchen, make th...   \n",
       "\n",
       "                                         Description Experiences Offered  \\\n",
       "0  This central located apartment will make you f...                none   \n",
       "1  Living like an Amsterdam resident in this ligh...                none   \n",
       "2  Studio Apartment Centre Amsterdam Perfect stud...                none   \n",
       "3  This beautiful 80m2 apartment has a huge livin...                none   \n",
       "\n",
       "                               Neighborhood Overview  ...  \\\n",
       "0                                               None  ...   \n",
       "1  The 85 m2 apartment is located on a quiet stre...  ...   \n",
       "2                                               None  ...   \n",
       "3  Amsterdam West is a colorful,  bustling and up...  ...   \n",
       "\n",
       "  Review Scores Communication Review Scores Location Review Scores Value  \\\n",
       "0                          10                     10                  10   \n",
       "1                           9                      9                   9   \n",
       "2                           8                      9                   9   \n",
       "3                          10                      9                  10   \n",
       "\n",
       "  License Jurisdiction Names Cancellation Policy  \\\n",
       "0    None          Amsterdam            flexible   \n",
       "1    None          Amsterdam            flexible   \n",
       "2    None          Amsterdam            moderate   \n",
       "3    None          Amsterdam              strict   \n",
       "\n",
       "  Calculated host listings count Reviews per Month  \\\n",
       "0                              1              0.05   \n",
       "1                              1              0.62   \n",
       "2                              1              2.04   \n",
       "3                              1              1.49   \n",
       "\n",
       "                             Geolocation  \\\n",
       "0  52.361943953804776, 4.866686522141489   \n",
       "1   52.37014616115532, 4.866281767968382   \n",
       "2  52.368817829014425, 4.871249476925455   \n",
       "3   52.36949764400226, 4.859321434670662   \n",
       "\n",
       "                                            Features  \n",
       "0  Host Has Profile Pic,Host Identity Verified,Is...  \n",
       "1  Host Has Profile Pic,Host Identity Verified,Is...  \n",
       "2                               Host Has Profile Pic  \n",
       "3  Host Is Superhost,Host Has Profile Pic,Host Id...  \n",
       "\n",
       "[4 rows x 89 columns]"
      ]
     },
     "execution_count": 17,
     "metadata": {},
     "output_type": "execute_result"
    }
   ],
   "source": [
    "data.limit(4).toPandas()"
   ]
  },
  {
   "cell_type": "markdown",
   "id": "31459c76",
   "metadata": {},
   "source": [
    "### Теперь к заданиям"
   ]
  },
  {
   "cell_type": "markdown",
   "id": "ea014708",
   "metadata": {},
   "source": [
    "Задание 1. [1 балл] В разрезе каждого города (колонка city) выделите весь список удобств (amenities), предлагаемых в жилплощади из этих городов (учитывайте возможные дубли в этих данных). В ответе выведите фрейм данных со списком всех удобств для следующих городов: Hoxton, Rainham, Rio Del Mar. По ответам на эти города мы увидим, правильные ли преобразования для данных вы собрали."
   ]
  },
  {
   "cell_type": "code",
   "execution_count": 21,
   "id": "5e1cb78c",
   "metadata": {},
   "outputs": [
    {
     "name": "stdout",
     "output_type": "stream",
     "text": [
      "+---------+--------------------+\n",
      "|     city|           amenities|\n",
      "+---------+--------------------+\n",
      "|     null|                null|\n",
      "|     null|                null|\n",
      "|     null|                null|\n",
      "|       50|                   9|\n",
      "|     null|                null|\n",
      "|     null|                null|\n",
      "|     null|                null|\n",
      "|       30|                   9|\n",
      "|Amsterdam|TV,Cable TV,Inter...|\n",
      "|Amsterdam|TV,Cable TV,Inter...|\n",
      "+---------+--------------------+\n",
      "only showing top 10 rows\n",
      "\n"
     ]
    }
   ],
   "source": [
    "data.select(\"city\", \"amenities\").show(10)"
   ]
  },
  {
   "cell_type": "code",
   "execution_count": 24,
   "id": "1bb227d2",
   "metadata": {},
   "outputs": [
    {
     "name": "stdout",
     "output_type": "stream",
     "text": [
      "+-----------+--------------------------------------------------------------------------------------------------------------------------------------------------------------------+\n",
      "|City       |collect_set(col)                                                                                                                                                    |\n",
      "+-----------+--------------------------------------------------------------------------------------------------------------------------------------------------------------------+\n",
      "|Rainham    |[Wireless Internet, Essentials, Iron, Washer, TV, Heating, Kitchen, translation missing: en.hosting_amenity_49, translation missing: en.hosting_amenity_50, Hangers]|\n",
      "|Hoxton     |[Wireless Internet, Essentials, Iron, TV, Heating, Smoke detector, Internet, Laptop friendly workspace, Kitchen, Hangers]                                           |\n",
      "|Rio Del Mar|[Indoor Fireplace, Suitable for Events, Essentials, Shampoo, Washer, Heating, Kitchen, Free Parking on Premises, Family/Kid Friendly, Dryer]                        |\n",
      "+-----------+--------------------------------------------------------------------------------------------------------------------------------------------------------------------+\n",
      "\n"
     ]
    }
   ],
   "source": [
    "from pyspark.sql.functions import explode, split, col, collect_set\n",
    "\n",
    "distincted_data = data.select(\"City\", explode(split(col(\"Amenities\"), ','))).groupBy(\"City\").agg(collect_set(\"col\"))\n",
    "filtered_data = distincted_data.filter(col(\"City\").isin(\"Hoxton\", \"Rainham\", \"Rio Del Mar\"))\n",
    "filtered_data.show(truncate=False)"
   ]
  },
  {
   "cell_type": "markdown",
   "id": "418cd5e1",
   "metadata": {},
   "source": [
    "Задание 2. [1 балл] Также в разрезе каждого города выделите удобства, которые предлагаются в жилплощадях этих городов и выделите из них топ-5 городов, в жилье которых предлагается больше всего удобств. Учитывайте дубли в этих значениях относительно разного жилья, тут речь идет про поиск всех уникальных значений по городам и их подсчет для поиска самых удобных городов. В качестве ответа выведите фрейм данных с этими городами и числом уникальных удобств из них."
   ]
  },
  {
   "cell_type": "code",
   "execution_count": 25,
   "id": "6c4b7480",
   "metadata": {},
   "outputs": [
    {
     "name": "stdout",
     "output_type": "stream",
     "text": [
      "+----------+----------------------+\n",
      "|City      |Unique_Amenities_Count|\n",
      "+----------+----------------------+\n",
      "|null      |136                   |\n",
      "|Toronto   |108                   |\n",
      "|København |105                   |\n",
      "|Roma      |104                   |\n",
      "|Washington|102                   |\n",
      "+----------+----------------------+\n",
      "\n"
     ]
    }
   ],
   "source": [
    "from pyspark.sql.functions import explode, split, col, countDistinct\n",
    "\n",
    "amenities_count = (\n",
    "    data.select(\"City\", explode(split(col(\"Amenities\"), ','))\n",
    "         .alias(\"Amenity\"))\n",
    "    .groupBy(\"City\")\n",
    "    .agg(countDistinct(\"Amenity\").alias(\"Unique_Amenities_Count\"))\n",
    ")\n",
    "top_5_cities = amenities_count.orderBy(col(\"Unique_Amenities_Count\").desc()).limit(5)\n",
    "top_5_cities.show(truncate=False)"
   ]
  },
  {
   "cell_type": "markdown",
   "id": "5b46d410",
   "metadata": {},
   "source": [
    "Задание 3. [1 балл] Давайте выясним, по каким объявлениям можно пройти верификацию на оффер по жилью через linkedin (колонка host_verifications), что в реалиях airbnb достаточно забавно. Нам также подойдут варианты объявлений, где верификация через линкед будет одним из возможных вариантов. В ответе укажите кол-во объявлений из стран (колонка country) Switzerland и Austria, по которым можно пройти верификацию через линкед."
   ]
  },
  {
   "cell_type": "code",
   "execution_count": 26,
   "id": "d53891fc",
   "metadata": {},
   "outputs": [
    {
     "name": "stdout",
     "output_type": "stream",
     "text": [
      "+-----------+-----+\n",
      "|Country    |count|\n",
      "+-----------+-----+\n",
      "|Switzerland|9    |\n",
      "|Austria    |70   |\n",
      "+-----------+-----+\n",
      "\n"
     ]
    }
   ],
   "source": [
    "from pyspark.sql.functions import col, lower\n",
    "\n",
    "linkedin_verifications = data.filter(\n",
    "    (lower(col(\"Host Verifications\")).like(\"%linkedin%\")) &\n",
    "    (col(\"Country\").isin(\"Switzerland\", \"Austria\"))\n",
    ")\n",
    "result = linkedin_verifications.groupBy(\"Country\").count()\n",
    "result.show(truncate=False)\n"
   ]
  },
  {
   "cell_type": "markdown",
   "id": "bde06fb4",
   "metadata": {},
   "source": [
    "дальше не успел"
   ]
  },
  {
   "cell_type": "code",
   "execution_count": null,
   "id": "ed1293ce",
   "metadata": {},
   "outputs": [],
   "source": []
  }
 ],
 "metadata": {
  "kernelspec": {
   "display_name": "Python 3",
   "language": "python",
   "name": "python3"
  },
  "language_info": {
   "codemirror_mode": {
    "name": "ipython",
    "version": 3
   },
   "file_extension": ".py",
   "mimetype": "text/x-python",
   "name": "python",
   "nbconvert_exporter": "python",
   "pygments_lexer": "ipython3",
   "version": "3.8.10"
  }
 },
 "nbformat": 4,
 "nbformat_minor": 5
}
