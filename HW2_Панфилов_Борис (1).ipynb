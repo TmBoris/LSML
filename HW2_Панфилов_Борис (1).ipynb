{
 "cells": [
  {
   "cell_type": "markdown",
   "id": "2fcecc5b",
   "metadata": {},
   "source": [
    "### Часть 1"
   ]
  },
  {
   "cell_type": "code",
   "execution_count": null,
   "id": "ad06319c",
   "metadata": {},
   "outputs": [],
   "source": [
    "!pip install kaggle\n",
    "!sudo apt install unzip\n",
    "!sudo apt-get install p7zip-full\n",
    "\n",
    "!export KAGGLE_USERNAME='borispanfilov'\n",
    "!export KAGGLE_KEY='23e1a26705b833184e1835da72c45fe3'\n",
    "\n",
    "!kaggle competitions download -c avito-context-ad-clicks -f VisitsStream.tsv.7z\n",
    "!7z x VisitsStream.tsv.7z"
   ]
  },
  {
   "cell_type": "code",
   "execution_count": 24,
   "id": "20f52b94",
   "metadata": {},
   "outputs": [
    {
     "name": "stdout",
     "output_type": "stream",
     "text": [
      "UserID\tIPID\tAdID\tViewDate\r\n",
      "59703\t1259356\t469877\t2015-04-25 00:00:00.0\r\n",
      "154389\t1846749\t27252551\t2015-04-25 00:00:00.0\r\n",
      "218628\t2108380\t31685325\t2015-04-25 00:00:00.0\r\n",
      "231535\t837110\t18827716\t2015-04-25 00:00:00.0\r\n"
     ]
    }
   ],
   "source": [
    "! head -n 5 VisitsStream.tsv"
   ]
  },
  {
   "cell_type": "code",
   "execution_count": 1,
   "id": "4454038b",
   "metadata": {},
   "outputs": [],
   "source": [
    "# ! yarn application -list \n",
    "# ! yarn logs -applicationId application_1740387429795_0005 -log_files stderr | head -n 50"
   ]
  },
  {
   "cell_type": "code",
   "execution_count": 47,
   "id": "4555b9ef",
   "metadata": {},
   "outputs": [],
   "source": [
    "!hdfs dfs -mkdir -p /user/input\n",
    "!hdfs dfs -mkdir -p /user/output\n",
    "!hdfs dfs -put VisitsStream.tsv /user/input/VisitsStream.tsv"
   ]
  },
  {
   "cell_type": "code",
   "execution_count": 38,
   "id": "0b60c296",
   "metadata": {},
   "outputs": [
    {
     "name": "stdout",
     "output_type": "stream",
     "text": [
      "Overwriting session_mapper.py\n"
     ]
    }
   ],
   "source": [
    "%%writefile session_mapper.py\n",
    "import sys\n",
    "from datetime import datetime\n",
    "\n",
    "for line in sys.stdin:\n",
    "    line = line.strip()\n",
    "    if not line:\n",
    "        continue\n",
    "    parts = line.split()\n",
    "    if len(parts) >= 5:\n",
    "        user_id = parts[0]\n",
    "        \n",
    "        date_str = parts[3] + \" \" + parts[4]\n",
    "        dt = datetime.strptime(date_str, \"%Y-%m-%d %H:%M:%S.%f\")\n",
    "\n",
    "        ts = int(dt.timestamp())\n",
    "        print(f\"{user_id}\\t{ts}\")"
   ]
  },
  {
   "cell_type": "code",
   "execution_count": 39,
   "id": "f4c62c0d",
   "metadata": {},
   "outputs": [
    {
     "name": "stdout",
     "output_type": "stream",
     "text": [
      "Overwriting session_reducer.py\n"
     ]
    }
   ],
   "source": [
    "%%writefile session_reducer.py\n",
    "import sys\n",
    "\n",
    "def compute_longest_session(timestamps):\n",
    "    times = sorted(int(ts) for ts in timestamps)\n",
    "    \n",
    "    longest = 0\n",
    "    session_start = times[0]\n",
    "    prev = times[0]\n",
    "    for t in times[1:]:\n",
    "        if t - prev <= 900:\n",
    "            prev = t\n",
    "        else:\n",
    "            session_duration = prev - session_start\n",
    "            if session_duration > longest:\n",
    "                longest = session_duration\n",
    "            session_start = t\n",
    "            prev = t\n",
    "    session_duration = prev - session_start\n",
    "    if session_duration > longest:\n",
    "        longest = session_duration\n",
    "    return longest\n",
    "\n",
    "current_user = None\n",
    "timestamps = []\n",
    "\n",
    "for line in sys.stdin:\n",
    "    line = line.strip()\n",
    "\n",
    "    user, ts = line.split('\\t', 1)\n",
    "    if current_user == user:\n",
    "        timestamps.append(ts)\n",
    "    else:\n",
    "        if current_user is not None:\n",
    "            longest = compute_longest_session(timestamps)\n",
    "            print(f\"{current_user}\\t{longest}\")\n",
    "        current_user = user\n",
    "        timestamps = [ts]\n",
    "\n",
    "if current_user is not None:\n",
    "    longest = compute_longest_session(timestamps)\n",
    "    print(f\"{current_user}\\t{longest}\")\n"
   ]
  },
  {
   "cell_type": "code",
   "execution_count": 51,
   "id": "01e19742",
   "metadata": {},
   "outputs": [
    {
     "name": "stdout",
     "output_type": "stream",
     "text": [
      "Deleted /user/output/job1_output\n",
      "packageJobJar: [] [/usr/lib/hadoop-mapreduce/hadoop-streaming-3.2.2.jar] /tmp/streamjob6988490524193952341.jar tmpDir=null\n",
      "2025-02-24 13:15:11,214 INFO client.RMProxy: Connecting to ResourceManager at rc1a-dataproc-m-thq16pdcu3777hh3.mdb.yandexcloud.net/10.128.0.17:8032\n",
      "2025-02-24 13:15:11,394 INFO client.AHSProxy: Connecting to Application History server at rc1a-dataproc-m-thq16pdcu3777hh3.mdb.yandexcloud.net/10.128.0.17:10200\n",
      "2025-02-24 13:15:11,423 INFO client.RMProxy: Connecting to ResourceManager at rc1a-dataproc-m-thq16pdcu3777hh3.mdb.yandexcloud.net/10.128.0.17:8032\n",
      "2025-02-24 13:15:11,423 INFO client.AHSProxy: Connecting to Application History server at rc1a-dataproc-m-thq16pdcu3777hh3.mdb.yandexcloud.net/10.128.0.17:10200\n",
      "2025-02-24 13:15:11,610 INFO mapreduce.JobResourceUploader: Disabling Erasure Coding for path: /tmp/hadoop-yarn/staging/ubuntu/.staging/job_1740387429795_0009\n",
      "2025-02-24 13:15:11,873 INFO mapred.FileInputFormat: Total input files to process : 1\n",
      "2025-02-24 13:15:11,956 INFO mapreduce.JobSubmitter: number of splits:50\n",
      "2025-02-24 13:15:12,082 INFO mapreduce.JobSubmitter: Submitting tokens for job: job_1740387429795_0009\n",
      "2025-02-24 13:15:12,084 INFO mapreduce.JobSubmitter: Executing with tokens: []\n",
      "2025-02-24 13:15:12,233 INFO conf.Configuration: resource-types.xml not found\n",
      "2025-02-24 13:15:12,234 INFO resource.ResourceUtils: Unable to find 'resource-types.xml'.\n",
      "2025-02-24 13:15:12,294 INFO impl.YarnClientImpl: Submitted application application_1740387429795_0009\n",
      "2025-02-24 13:15:12,325 INFO mapreduce.Job: The url to track the job: http://rc1a-dataproc-m-thq16pdcu3777hh3.mdb.yandexcloud.net:8088/proxy/application_1740387429795_0009/\n",
      "2025-02-24 13:15:12,327 INFO mapreduce.Job: Running job: job_1740387429795_0009\n",
      "2025-02-24 13:15:18,392 INFO mapreduce.Job: Job job_1740387429795_0009 running in uber mode : false\n",
      "2025-02-24 13:15:18,393 INFO mapreduce.Job:  map 0% reduce 0%\n",
      "2025-02-24 13:15:36,530 INFO mapreduce.Job:  map 1% reduce 0%\n",
      "2025-02-24 13:15:47,584 INFO mapreduce.Job:  map 2% reduce 0%\n",
      "2025-02-24 13:16:00,653 INFO mapreduce.Job:  map 3% reduce 0%\n",
      "2025-02-24 13:16:12,717 INFO mapreduce.Job:  map 4% reduce 0%\n",
      "2025-02-24 13:16:30,797 INFO mapreduce.Job:  map 5% reduce 0%\n",
      "2025-02-24 13:16:47,891 INFO mapreduce.Job:  map 6% reduce 0%\n",
      "2025-02-24 13:17:00,945 INFO mapreduce.Job:  map 7% reduce 0%\n",
      "2025-02-24 13:17:14,000 INFO mapreduce.Job:  map 8% reduce 0%\n",
      "2025-02-24 13:17:24,040 INFO mapreduce.Job:  map 9% reduce 0%\n",
      "2025-02-24 13:17:32,082 INFO mapreduce.Job:  map 10% reduce 0%\n",
      "2025-02-24 13:17:40,112 INFO mapreduce.Job:  map 11% reduce 0%\n",
      "2025-02-24 13:17:55,188 INFO mapreduce.Job:  map 12% reduce 0%\n",
      "2025-02-24 13:18:08,248 INFO mapreduce.Job:  map 13% reduce 0%\n",
      "2025-02-24 13:18:13,266 INFO mapreduce.Job:  map 14% reduce 0%\n",
      "2025-02-24 13:18:14,276 INFO mapreduce.Job:  map 15% reduce 0%\n",
      "2025-02-24 13:18:19,298 INFO mapreduce.Job:  map 16% reduce 0%\n",
      "2025-02-24 13:18:37,365 INFO mapreduce.Job:  map 17% reduce 0%\n",
      "2025-02-24 13:18:51,415 INFO mapreduce.Job:  map 18% reduce 0%\n",
      "2025-02-24 13:19:04,462 INFO mapreduce.Job:  map 19% reduce 0%\n",
      "2025-02-24 13:19:17,507 INFO mapreduce.Job:  map 20% reduce 0%\n",
      "2025-02-24 13:19:33,569 INFO mapreduce.Job:  map 21% reduce 0%\n",
      "2025-02-24 13:19:43,603 INFO mapreduce.Job:  map 22% reduce 0%\n",
      "2025-02-24 13:19:51,636 INFO mapreduce.Job:  map 23% reduce 0%\n",
      "2025-02-24 13:19:59,662 INFO mapreduce.Job:  map 24% reduce 0%\n",
      "2025-02-24 13:20:03,674 INFO mapreduce.Job:  map 24% reduce 2%\n",
      "2025-02-24 13:20:11,700 INFO mapreduce.Job:  map 25% reduce 2%\n",
      "2025-02-24 13:20:27,757 INFO mapreduce.Job:  map 26% reduce 2%\n",
      "2025-02-24 13:20:45,829 INFO mapreduce.Job:  map 27% reduce 2%\n",
      "2025-02-24 13:20:59,879 INFO mapreduce.Job:  map 28% reduce 2%\n",
      "2025-02-24 13:21:05,896 INFO mapreduce.Job:  map 29% reduce 2%\n",
      "2025-02-24 13:21:09,909 INFO mapreduce.Job:  map 30% reduce 2%\n",
      "2025-02-24 13:21:13,923 INFO mapreduce.Job:  map 31% reduce 2%\n",
      "2025-02-24 13:21:15,930 INFO mapreduce.Job:  map 31% reduce 3%\n",
      "2025-02-24 13:21:22,951 INFO mapreduce.Job:  map 32% reduce 3%\n",
      "2025-02-24 13:21:27,966 INFO mapreduce.Job:  map 32% reduce 4%\n",
      "2025-02-24 13:21:31,979 INFO mapreduce.Job:  map 33% reduce 4%\n",
      "2025-02-24 13:21:41,005 INFO mapreduce.Job:  map 33% reduce 7%\n",
      "2025-02-24 13:21:44,017 INFO mapreduce.Job:  map 34% reduce 7%\n",
      "2025-02-24 13:22:02,068 INFO mapreduce.Job:  map 35% reduce 7%\n",
      "2025-02-24 13:22:20,117 INFO mapreduce.Job:  map 36% reduce 7%\n",
      "2025-02-24 13:22:29,143 INFO mapreduce.Job:  map 36% reduce 8%\n",
      "2025-02-24 13:22:33,154 INFO mapreduce.Job:  map 37% reduce 8%\n",
      "2025-02-24 13:22:51,203 INFO mapreduce.Job:  map 38% reduce 8%\n",
      "2025-02-24 13:23:09,251 INFO mapreduce.Job:  map 39% reduce 8%\n",
      "2025-02-24 13:23:26,293 INFO mapreduce.Job:  map 40% reduce 8%\n",
      "2025-02-24 13:23:41,334 INFO mapreduce.Job:  map 41% reduce 8%\n",
      "2025-02-24 13:23:56,375 INFO mapreduce.Job:  map 42% reduce 8%\n",
      "2025-02-24 13:24:03,394 INFO mapreduce.Job:  map 43% reduce 8%\n",
      "2025-02-24 13:24:09,410 INFO mapreduce.Job:  map 44% reduce 8%\n",
      "2025-02-24 13:24:10,413 INFO mapreduce.Job:  map 44% reduce 9%\n",
      "2025-02-24 13:24:13,422 INFO mapreduce.Job:  map 45% reduce 9%\n",
      "2025-02-24 13:24:17,433 INFO mapreduce.Job:  map 45% reduce 10%\n",
      "2025-02-24 13:24:32,471 INFO mapreduce.Job:  map 46% reduce 10%\n",
      "2025-02-24 13:24:48,512 INFO mapreduce.Job:  map 47% reduce 10%\n",
      "2025-02-24 13:24:56,532 INFO mapreduce.Job:  map 48% reduce 10%\n",
      "2025-02-24 13:25:10,568 INFO mapreduce.Job:  map 48% reduce 15%\n",
      "2025-02-24 13:25:27,611 INFO mapreduce.Job:  map 49% reduce 15%\n",
      "2025-02-24 13:25:57,686 INFO mapreduce.Job:  map 50% reduce 15%\n",
      "2025-02-24 13:26:22,753 INFO mapreduce.Job:  map 51% reduce 15%\n",
      "2025-02-24 13:26:51,820 INFO mapreduce.Job:  map 52% reduce 15%\n",
      "2025-02-24 13:26:57,834 INFO mapreduce.Job:  map 52% reduce 16%\n",
      "2025-02-24 13:27:01,843 INFO mapreduce.Job:  map 53% reduce 16%\n",
      "2025-02-24 13:27:05,852 INFO mapreduce.Job:  map 54% reduce 16%\n",
      "2025-02-24 13:27:09,863 INFO mapreduce.Job:  map 54% reduce 17%\n",
      "2025-02-24 13:27:11,868 INFO mapreduce.Job:  map 54% reduce 18%\n",
      "2025-02-24 13:27:25,904 INFO mapreduce.Job:  map 55% reduce 18%\n",
      "2025-02-24 13:27:49,968 INFO mapreduce.Job:  map 56% reduce 18%\n",
      "2025-02-24 13:28:23,052 INFO mapreduce.Job:  map 57% reduce 18%\n",
      "2025-02-24 13:28:53,127 INFO mapreduce.Job:  map 58% reduce 18%\n",
      "2025-02-24 13:29:20,193 INFO mapreduce.Job:  map 59% reduce 18%\n",
      "2025-02-24 13:29:47,260 INFO mapreduce.Job:  map 60% reduce 18%\n",
      "2025-02-24 13:29:53,274 INFO mapreduce.Job:  map 60% reduce 19%\n",
      "2025-02-24 13:30:00,290 INFO mapreduce.Job:  map 61% reduce 19%\n",
      "2025-02-24 13:30:02,295 INFO mapreduce.Job:  map 62% reduce 19%\n",
      "2025-02-24 13:30:10,314 INFO mapreduce.Job:  map 62% reduce 20%\n",
      "2025-02-24 13:30:11,317 INFO mapreduce.Job:  map 62% reduce 21%\n",
      "2025-02-24 13:30:24,350 INFO mapreduce.Job:  map 63% reduce 21%\n",
      "2025-02-24 13:30:48,406 INFO mapreduce.Job:  map 64% reduce 21%\n",
      "2025-02-24 13:31:19,471 INFO mapreduce.Job:  map 65% reduce 21%\n",
      "2025-02-24 13:31:49,538 INFO mapreduce.Job:  map 66% reduce 21%\n",
      "2025-02-24 13:32:19,606 INFO mapreduce.Job:  map 67% reduce 21%\n",
      "2025-02-24 13:32:43,658 INFO mapreduce.Job:  map 68% reduce 21%\n",
      "2025-02-24 13:32:58,695 INFO mapreduce.Job:  map 69% reduce 21%\n",
      "2025-02-24 13:32:59,697 INFO mapreduce.Job:  map 69% reduce 22%\n",
      "2025-02-24 13:33:01,701 INFO mapreduce.Job:  map 70% reduce 22%\n",
      "2025-02-24 13:33:02,704 INFO mapreduce.Job:  map 71% reduce 22%\n",
      "2025-02-24 13:33:05,711 INFO mapreduce.Job:  map 72% reduce 22%\n",
      "2025-02-24 13:33:10,724 INFO mapreduce.Job:  map 72% reduce 23%\n",
      "2025-02-24 13:33:11,727 INFO mapreduce.Job:  map 72% reduce 24%\n",
      "2025-02-24 13:33:29,763 INFO mapreduce.Job:  map 73% reduce 24%\n",
      "2025-02-24 13:33:54,817 INFO mapreduce.Job:  map 74% reduce 24%\n",
      "2025-02-24 13:34:26,883 INFO mapreduce.Job:  map 75% reduce 24%\n",
      "2025-02-24 13:34:56,946 INFO mapreduce.Job:  map 76% reduce 24%\n",
      "2025-02-24 13:35:12,978 INFO mapreduce.Job:  map 77% reduce 24%\n",
      "2025-02-24 13:35:16,986 INFO mapreduce.Job:  map 77% reduce 25%\n",
      "2025-02-24 13:35:25,003 INFO mapreduce.Job:  map 78% reduce 25%\n",
      "2025-02-24 13:35:35,025 INFO mapreduce.Job:  map 78% reduce 26%\n",
      "2025-02-24 13:35:53,060 INFO mapreduce.Job:  map 79% reduce 26%\n",
      "2025-02-24 13:36:17,108 INFO mapreduce.Job:  map 80% reduce 26%\n",
      "2025-02-24 13:36:49,174 INFO mapreduce.Job:  map 81% reduce 26%\n",
      "2025-02-24 13:37:17,232 INFO mapreduce.Job:  map 82% reduce 26%\n",
      "2025-02-24 13:37:34,269 INFO mapreduce.Job:  map 83% reduce 26%\n",
      "2025-02-24 13:37:36,274 INFO mapreduce.Job:  map 83% reduce 27%\n",
      "2025-02-24 13:37:49,302 INFO mapreduce.Job:  map 84% reduce 27%\n",
      "2025-02-24 13:37:53,311 INFO mapreduce.Job:  map 84% reduce 28%\n",
      "2025-02-24 13:38:08,342 INFO mapreduce.Job:  map 85% reduce 28%\n",
      "2025-02-24 13:38:38,404 INFO mapreduce.Job:  map 86% reduce 28%\n",
      "2025-02-24 13:39:08,466 INFO mapreduce.Job:  map 87% reduce 28%\n",
      "2025-02-24 13:39:36,523 INFO mapreduce.Job:  map 88% reduce 28%\n",
      "2025-02-24 13:39:55,562 INFO mapreduce.Job:  map 89% reduce 28%\n",
      "2025-02-24 13:40:00,572 INFO mapreduce.Job:  map 90% reduce 29%\n",
      "2025-02-24 13:40:11,597 INFO mapreduce.Job:  map 90% reduce 30%\n",
      "2025-02-24 13:40:29,636 INFO mapreduce.Job:  map 91% reduce 30%\n",
      "2025-02-24 13:40:53,686 INFO mapreduce.Job:  map 92% reduce 30%\n",
      "2025-02-24 13:41:23,749 INFO mapreduce.Job:  map 93% reduce 30%\n",
      "2025-02-24 13:41:53,812 INFO mapreduce.Job:  map 94% reduce 30%\n",
      "2025-02-24 13:42:08,843 INFO mapreduce.Job:  map 95% reduce 30%\n",
      "2025-02-24 13:42:12,851 INFO mapreduce.Job:  map 95% reduce 31%\n",
      "2025-02-24 13:42:26,880 INFO mapreduce.Job:  map 96% reduce 31%\n",
      "2025-02-24 13:42:35,900 INFO mapreduce.Job:  map 96% reduce 32%\n",
      "2025-02-24 13:42:45,922 INFO mapreduce.Job:  map 97% reduce 32%\n",
      "2025-02-24 13:43:33,019 INFO mapreduce.Job:  map 98% reduce 32%\n",
      "2025-02-24 13:44:15,109 INFO mapreduce.Job:  map 99% reduce 32%\n",
      "2025-02-24 13:44:30,143 INFO mapreduce.Job:  map 99% reduce 33%\n",
      "2025-02-24 13:44:34,152 INFO mapreduce.Job:  map 100% reduce 33%\n",
      "2025-02-24 13:44:41,177 INFO mapreduce.Job:  map 100% reduce 34%\n",
      "2025-02-24 13:44:42,179 INFO mapreduce.Job:  map 100% reduce 37%\n",
      "2025-02-24 13:44:47,192 INFO mapreduce.Job:  map 100% reduce 38%\n",
      "2025-02-24 13:44:48,195 INFO mapreduce.Job:  map 100% reduce 41%\n",
      "2025-02-24 13:44:53,212 INFO mapreduce.Job:  map 100% reduce 42%\n",
      "2025-02-24 13:44:54,215 INFO mapreduce.Job:  map 100% reduce 45%\n",
      "2025-02-24 13:44:59,228 INFO mapreduce.Job:  map 100% reduce 47%\n",
      "2025-02-24 13:45:00,230 INFO mapreduce.Job:  map 100% reduce 50%\n",
      "2025-02-24 13:45:05,242 INFO mapreduce.Job:  map 100% reduce 51%\n",
      "2025-02-24 13:45:06,245 INFO mapreduce.Job:  map 100% reduce 54%\n",
      "2025-02-24 13:45:11,257 INFO mapreduce.Job:  map 100% reduce 55%\n",
      "2025-02-24 13:45:12,259 INFO mapreduce.Job:  map 100% reduce 58%\n",
      "2025-02-24 13:45:17,298 INFO mapreduce.Job:  map 100% reduce 59%\n",
      "2025-02-24 13:45:18,300 INFO mapreduce.Job:  map 100% reduce 61%\n",
      "2025-02-24 13:45:23,324 INFO mapreduce.Job:  map 100% reduce 62%\n",
      "2025-02-24 13:45:24,326 INFO mapreduce.Job:  map 100% reduce 64%\n",
      "2025-02-24 13:45:29,336 INFO mapreduce.Job:  map 100% reduce 65%\n",
      "2025-02-24 13:45:30,338 INFO mapreduce.Job:  map 100% reduce 67%\n",
      "2025-02-24 13:45:35,353 INFO mapreduce.Job:  map 100% reduce 68%\n",
      "2025-02-24 13:45:36,360 INFO mapreduce.Job:  map 100% reduce 69%\n",
      "2025-02-24 13:45:42,374 INFO mapreduce.Job:  map 100% reduce 70%\n",
      "2025-02-24 13:45:48,398 INFO mapreduce.Job:  map 100% reduce 71%\n",
      "2025-02-24 13:45:54,418 INFO mapreduce.Job:  map 100% reduce 72%\n",
      "2025-02-24 13:45:59,443 INFO mapreduce.Job:  map 100% reduce 73%\n",
      "2025-02-24 13:46:05,456 INFO mapreduce.Job:  map 100% reduce 74%\n",
      "2025-02-24 13:46:06,459 INFO mapreduce.Job:  map 100% reduce 75%\n",
      "2025-02-24 13:46:12,496 INFO mapreduce.Job:  map 100% reduce 76%\n",
      "2025-02-24 13:46:18,519 INFO mapreduce.Job:  map 100% reduce 77%\n",
      "2025-02-24 13:46:24,536 INFO mapreduce.Job:  map 100% reduce 78%\n",
      "2025-02-24 13:46:29,547 INFO mapreduce.Job:  map 100% reduce 79%\n",
      "2025-02-24 13:46:35,566 INFO mapreduce.Job:  map 100% reduce 80%\n",
      "2025-02-24 13:46:36,569 INFO mapreduce.Job:  map 100% reduce 81%\n",
      "2025-02-24 13:46:42,601 INFO mapreduce.Job:  map 100% reduce 82%\n",
      "2025-02-24 13:46:48,617 INFO mapreduce.Job:  map 100% reduce 83%\n",
      "2025-02-24 13:46:54,642 INFO mapreduce.Job:  map 100% reduce 84%\n",
      "2025-02-24 13:46:59,658 INFO mapreduce.Job:  map 100% reduce 85%\n",
      "2025-02-24 13:47:05,676 INFO mapreduce.Job:  map 100% reduce 86%\n",
      "2025-02-24 13:47:06,680 INFO mapreduce.Job:  map 100% reduce 87%\n",
      "2025-02-24 13:47:12,697 INFO mapreduce.Job:  map 100% reduce 88%\n",
      "2025-02-24 13:47:18,715 INFO mapreduce.Job:  map 100% reduce 89%\n",
      "2025-02-24 13:47:23,726 INFO mapreduce.Job:  map 100% reduce 90%\n",
      "2025-02-24 13:47:29,745 INFO mapreduce.Job:  map 100% reduce 91%\n",
      "2025-02-24 13:47:30,748 INFO mapreduce.Job:  map 100% reduce 92%\n",
      "2025-02-24 13:47:36,769 INFO mapreduce.Job:  map 100% reduce 93%\n",
      "2025-02-24 13:47:42,783 INFO mapreduce.Job:  map 100% reduce 94%\n",
      "2025-02-24 13:47:48,807 INFO mapreduce.Job:  map 100% reduce 95%\n",
      "2025-02-24 13:47:54,825 INFO mapreduce.Job:  map 100% reduce 96%\n",
      "2025-02-24 13:47:58,834 INFO mapreduce.Job:  map 100% reduce 97%\n",
      "2025-02-24 13:48:05,850 INFO mapreduce.Job:  map 100% reduce 98%\n",
      "2025-02-24 13:48:11,864 INFO mapreduce.Job:  map 100% reduce 99%\n",
      "2025-02-24 13:48:12,867 INFO mapreduce.Job:  map 100% reduce 100%\n",
      "2025-02-24 13:48:15,878 INFO mapreduce.Job: Job job_1740387429795_0009 completed successfully\n",
      "2025-02-24 13:48:15,952 INFO mapreduce.Job: Counters: 56\n",
      "\tFile System Counters\n",
      "\t\tFILE: Number of bytes read=2216601772\n",
      "\t\tFILE: Number of bytes written=3296616711\n",
      "\t\tFILE: Number of read operations=0\n",
      "\t\tFILE: Number of large read operations=0\n",
      "\t\tFILE: Number of write operations=0\n",
      "\t\tHDFS: Number of bytes read=13187425870\n",
      "\t\tHDFS: Number of bytes written=40156326\n",
      "\t\tHDFS: Number of read operations=165\n",
      "\t\tHDFS: Number of large read operations=0\n",
      "\t\tHDFS: Number of write operations=9\n",
      "\t\tHDFS: Number of bytes read erasure-coded=0\n",
      "\tJob Counters \n",
      "\t\tKilled map tasks=1\n",
      "\t\tLaunched map tasks=51\n",
      "\t\tLaunched reduce tasks=3\n",
      "\t\tData-local map tasks=36\n",
      "\t\tRack-local map tasks=15\n",
      "\t\tTotal time spent by all maps in occupied slots (ms)=22107777\n",
      "\t\tTotal time spent by all reduces in occupied slots (ms)=14088393\n",
      "\t\tTotal time spent by all map tasks (ms)=7369259\n",
      "\t\tTotal time spent by all reduce tasks (ms)=4696131\n",
      "\t\tTotal vcore-milliseconds taken by all map tasks=7369259\n",
      "\t\tTotal vcore-milliseconds taken by all reduce tasks=4696131\n",
      "\t\tTotal megabyte-milliseconds taken by all map tasks=22638363648\n",
      "\t\tTotal megabyte-milliseconds taken by all reduce tasks=14426514432\n",
      "\tMap-Reduce Framework\n",
      "\t\tMap input records=286821376\n",
      "\t\tMap output records=286821375\n",
      "\t\tMap output bytes=5376253656\n",
      "\t\tMap output materialized bytes=1086512843\n",
      "\t\tInput split bytes=6950\n",
      "\t\tCombine input records=0\n",
      "\t\tCombine output records=0\n",
      "\t\tReduce input groups=3346720\n",
      "\t\tReduce shuffle bytes=1086512843\n",
      "\t\tReduce input records=286821375\n",
      "\t\tReduce output records=3346720\n",
      "\t\tSpilled Records=859862054\n",
      "\t\tShuffled Maps =150\n",
      "\t\tFailed Shuffles=0\n",
      "\t\tMerged Map outputs=150\n",
      "\t\tGC time elapsed (ms)=12971\n",
      "\t\tCPU time spent (ms)=8555020\n",
      "\t\tPhysical memory (bytes) snapshot=28271136768\n",
      "\t\tVirtual memory (bytes) snapshot=230067273728\n",
      "\t\tTotal committed heap usage (bytes)=29987700736\n",
      "\t\tPeak Map Physical memory (bytes)=516272128\n",
      "\t\tPeak Map Virtual memory (bytes)=4363485184\n",
      "\t\tPeak Reduce Physical memory (bytes)=2090393600\n",
      "\t\tPeak Reduce Virtual memory (bytes)=4365524992\n",
      "\tShuffle Errors\n",
      "\t\tBAD_ID=0\n",
      "\t\tCONNECTION=0\n",
      "\t\tIO_ERROR=0\n",
      "\t\tWRONG_LENGTH=0\n",
      "\t\tWRONG_MAP=0\n",
      "\t\tWRONG_REDUCE=0\n",
      "\tFile Input Format Counters \n",
      "\t\tBytes Read=13187418920\n",
      "\tFile Output Format Counters \n",
      "\t\tBytes Written=40156326\n",
      "2025-02-24 13:48:15,953 INFO streaming.StreamJob: Output directory: /user/output/job1_output\n"
     ]
    }
   ],
   "source": [
    "! hdfs dfs -rm -r /user/output/job1_output || true\n",
    "! yarn jar /usr/lib/hadoop-mapreduce/hadoop-streaming.jar \\\n",
    "    -D mapreduce.job.name=\"Longest Session per User\" \\\n",
    "    -D mapreduce.job.reduces=3 \\\n",
    "    -D mapreduce.job.output.key.comparator.class=org.apache.hadoop.mapreduce.lib.partition.KeyFieldBasedComparator \\\n",
    "    -D mapreduce.partition.keycomparator.options=\"-k1,1 -n\" \\\n",
    "    -D mapreduce.map.output.key.field.separator='\\t' \\\n",
    "    -files session_mapper.py,session_reducer.py \\\n",
    "    -mapper \"python3 session_mapper.py\" \\\n",
    "    -reducer \"python3 session_reducer.py\" \\\n",
    "    -input /user/input/VisitsStream.tsv \\\n",
    "    -output /user/output/job1_output"
   ]
  },
  {
   "cell_type": "code",
   "execution_count": 73,
   "id": "8143ab28",
   "metadata": {},
   "outputs": [
    {
     "name": "stdout",
     "output_type": "stream",
     "text": [
      "Found 4 items\r\n",
      "-rw-r--r--   1 ubuntu hadoop          0 2025-02-24 13:48 /user/output/job1_output/_SUCCESS\r\n",
      "-rw-r--r--   1 ubuntu hadoop   13382398 2025-02-24 13:47 /user/output/job1_output/part-00000\r\n",
      "-rw-r--r--   1 ubuntu hadoop   13389507 2025-02-24 13:48 /user/output/job1_output/part-00001\r\n",
      "-rw-r--r--   1 ubuntu hadoop   13384421 2025-02-24 13:48 /user/output/job1_output/part-00002\r\n"
     ]
    }
   ],
   "source": [
    "! hdfs dfs -ls /user/output/job1_output"
   ]
  },
  {
   "cell_type": "code",
   "execution_count": 84,
   "id": "44f05245",
   "metadata": {},
   "outputs": [
    {
     "name": "stdout",
     "output_type": "stream",
     "text": [
      "Overwriting top_mapper.py\n"
     ]
    }
   ],
   "source": [
    "%%writefile top_mapper.py\n",
    "import sys\n",
    "\n",
    "for line in sys.stdin:\n",
    "    user, longest = line.split('\\t', 1)\n",
    "    print(f\"{user}+{longest.strip()}\\t\")"
   ]
  },
  {
   "cell_type": "code",
   "execution_count": 85,
   "id": "a730cacd",
   "metadata": {},
   "outputs": [
    {
     "name": "stdout",
     "output_type": "stream",
     "text": [
      "Overwriting top_reducer.py\n"
     ]
    }
   ],
   "source": [
    "%%writefile top_reducer.py\n",
    "import sys\n",
    "\n",
    "def _rewind_stream(stream):\n",
    "    for _ in stream:\n",
    "        pass\n",
    "    \n",
    "for _ in range(10):\n",
    "    key, _ = next(sys.stdin).split('\\t')\n",
    "    user, count = key.split(\"+\")\n",
    "    print(\"{}\\t{}\".format(user, count))\n",
    "_rewind_stream(sys.stdin)"
   ]
  },
  {
   "cell_type": "code",
   "execution_count": 86,
   "id": "6d4891be",
   "metadata": {},
   "outputs": [
    {
     "name": "stdout",
     "output_type": "stream",
     "text": [
      "Deleted /user/output/job2_output\n",
      "packageJobJar: [] [/usr/lib/hadoop-mapreduce/hadoop-streaming-3.2.2.jar] /tmp/streamjob7768328465098159994.jar tmpDir=null\n",
      "2025-02-24 14:36:02,025 INFO client.RMProxy: Connecting to ResourceManager at rc1a-dataproc-m-thq16pdcu3777hh3.mdb.yandexcloud.net/10.128.0.17:8032\n",
      "2025-02-24 14:36:02,205 INFO client.AHSProxy: Connecting to Application History server at rc1a-dataproc-m-thq16pdcu3777hh3.mdb.yandexcloud.net/10.128.0.17:10200\n",
      "2025-02-24 14:36:02,233 INFO client.RMProxy: Connecting to ResourceManager at rc1a-dataproc-m-thq16pdcu3777hh3.mdb.yandexcloud.net/10.128.0.17:8032\n",
      "2025-02-24 14:36:02,234 INFO client.AHSProxy: Connecting to Application History server at rc1a-dataproc-m-thq16pdcu3777hh3.mdb.yandexcloud.net/10.128.0.17:10200\n",
      "2025-02-24 14:36:02,431 INFO mapreduce.JobResourceUploader: Disabling Erasure Coding for path: /tmp/hadoop-yarn/staging/ubuntu/.staging/job_1740387429795_0020\n",
      "2025-02-24 14:36:02,723 INFO mapred.FileInputFormat: Total input files to process : 3\n",
      "2025-02-24 14:36:02,785 INFO mapreduce.JobSubmitter: number of splits:21\n",
      "2025-02-24 14:36:02,905 INFO mapreduce.JobSubmitter: Submitting tokens for job: job_1740387429795_0020\n",
      "2025-02-24 14:36:02,907 INFO mapreduce.JobSubmitter: Executing with tokens: []\n",
      "2025-02-24 14:36:03,066 INFO conf.Configuration: resource-types.xml not found\n",
      "2025-02-24 14:36:03,067 INFO resource.ResourceUtils: Unable to find 'resource-types.xml'.\n",
      "2025-02-24 14:36:03,117 INFO impl.YarnClientImpl: Submitted application application_1740387429795_0020\n",
      "2025-02-24 14:36:03,144 INFO mapreduce.Job: The url to track the job: http://rc1a-dataproc-m-thq16pdcu3777hh3.mdb.yandexcloud.net:8088/proxy/application_1740387429795_0020/\n",
      "2025-02-24 14:36:03,146 INFO mapreduce.Job: Running job: job_1740387429795_0020\n",
      "2025-02-24 14:36:09,211 INFO mapreduce.Job: Job job_1740387429795_0020 running in uber mode : false\n",
      "2025-02-24 14:36:09,212 INFO mapreduce.Job:  map 0% reduce 0%\n",
      "2025-02-24 14:36:16,284 INFO mapreduce.Job:  map 10% reduce 0%\n",
      "2025-02-24 14:36:17,290 INFO mapreduce.Job:  map 19% reduce 0%\n",
      "2025-02-24 14:36:18,296 INFO mapreduce.Job:  map 24% reduce 0%\n",
      "2025-02-24 14:36:20,306 INFO mapreduce.Job:  map 29% reduce 0%\n",
      "2025-02-24 14:36:23,320 INFO mapreduce.Job:  map 33% reduce 0%\n",
      "2025-02-24 14:36:24,325 INFO mapreduce.Job:  map 48% reduce 0%\n",
      "2025-02-24 14:36:26,337 INFO mapreduce.Job:  map 52% reduce 0%\n",
      "2025-02-24 14:36:30,357 INFO mapreduce.Job:  map 71% reduce 0%\n",
      "2025-02-24 14:36:32,369 INFO mapreduce.Job:  map 76% reduce 0%\n",
      "2025-02-24 14:36:34,382 INFO mapreduce.Job:  map 81% reduce 25%\n",
      "2025-02-24 14:36:36,392 INFO mapreduce.Job:  map 86% reduce 25%\n",
      "2025-02-24 14:36:37,397 INFO mapreduce.Job:  map 100% reduce 25%\n",
      "2025-02-24 14:36:40,409 INFO mapreduce.Job:  map 100% reduce 48%\n",
      "2025-02-24 14:36:44,426 INFO mapreduce.Job:  map 100% reduce 100%\n",
      "2025-02-24 14:36:44,433 INFO mapreduce.Job: Job job_1740387429795_0020 completed successfully\n",
      "2025-02-24 14:36:44,501 INFO mapreduce.Job: Counters: 56\n",
      "\tFile System Counters\n",
      "\t\tFILE: Number of bytes read=14935299\n",
      "\t\tFILE: Number of bytes written=35926893\n",
      "\t\tFILE: Number of read operations=0\n",
      "\t\tFILE: Number of large read operations=0\n",
      "\t\tFILE: Number of write operations=0\n",
      "\t\tHDFS: Number of bytes read=41764776\n",
      "\t\tHDFS: Number of bytes written=142\n",
      "\t\tHDFS: Number of read operations=68\n",
      "\t\tHDFS: Number of large read operations=0\n",
      "\t\tHDFS: Number of write operations=3\n",
      "\t\tHDFS: Number of bytes read erasure-coded=0\n",
      "\tJob Counters \n",
      "\t\tKilled map tasks=1\n",
      "\t\tLaunched map tasks=22\n",
      "\t\tLaunched reduce tasks=1\n",
      "\t\tData-local map tasks=12\n",
      "\t\tRack-local map tasks=10\n",
      "\t\tTotal time spent by all maps in occupied slots (ms)=314205\n",
      "\t\tTotal time spent by all reduces in occupied slots (ms)=72312\n",
      "\t\tTotal time spent by all map tasks (ms)=104735\n",
      "\t\tTotal time spent by all reduce tasks (ms)=24104\n",
      "\t\tTotal vcore-milliseconds taken by all map tasks=104735\n",
      "\t\tTotal vcore-milliseconds taken by all reduce tasks=24104\n",
      "\t\tTotal megabyte-milliseconds taken by all map tasks=321745920\n",
      "\t\tTotal megabyte-milliseconds taken by all reduce tasks=74047488\n",
      "\tMap-Reduce Framework\n",
      "\t\tMap input records=3346720\n",
      "\t\tMap output records=3346720\n",
      "\t\tMap output bytes=43503046\n",
      "\t\tMap output materialized bytes=15657628\n",
      "\t\tInput split bytes=3066\n",
      "\t\tCombine input records=0\n",
      "\t\tCombine output records=0\n",
      "\t\tReduce input groups=3346720\n",
      "\t\tReduce shuffle bytes=15657628\n",
      "\t\tReduce input records=3346720\n",
      "\t\tReduce output records=10\n",
      "\t\tSpilled Records=6693440\n",
      "\t\tShuffled Maps =21\n",
      "\t\tFailed Shuffles=0\n",
      "\t\tMerged Map outputs=21\n",
      "\t\tGC time elapsed (ms)=3106\n",
      "\t\tCPU time spent (ms)=65250\n",
      "\t\tPhysical memory (bytes) snapshot=9003528192\n",
      "\t\tVirtual memory (bytes) snapshot=95458160640\n",
      "\t\tTotal committed heap usage (bytes)=9432989696\n",
      "\t\tPeak Map Physical memory (bytes)=461963264\n",
      "\t\tPeak Map Virtual memory (bytes)=4340211712\n",
      "\t\tPeak Reduce Physical memory (bytes)=550510592\n",
      "\t\tPeak Reduce Virtual memory (bytes)=4344188928\n",
      "\tShuffle Errors\n",
      "\t\tBAD_ID=0\n",
      "\t\tCONNECTION=0\n",
      "\t\tIO_ERROR=0\n",
      "\t\tWRONG_LENGTH=0\n",
      "\t\tWRONG_MAP=0\n",
      "\t\tWRONG_REDUCE=0\n",
      "\tFile Input Format Counters \n",
      "\t\tBytes Read=41761710\n",
      "\tFile Output Format Counters \n",
      "\t\tBytes Written=142\n",
      "2025-02-24 14:36:44,502 INFO streaming.StreamJob: Output directory: /user/output/job2_output\n"
     ]
    }
   ],
   "source": [
    "! hdfs dfs -rm -r /user/output/job2_output || true\n",
    "! yarn jar /usr/lib/hadoop-mapreduce/hadoop-streaming.jar \\\n",
    "    -D mapreduce.job.name=\"Top 10 Longest Sessions\" \\\n",
    "    -D mapreduce.job.reduces=1 \\\n",
    "    -D mapreduce.job.output.key.comparator.class=org.apache.hadoop.mapreduce.lib.partition.KeyFieldBasedComparator \\\n",
    "    -D mapreduce.partition.keycomparator.options=\"-k2,2nr k1,1\" \\\n",
    "    -D mapreduce.map.output.key.field.separator='+' \\\n",
    "    -files top_mapper.py,top_reducer.py \\\n",
    "    -mapper \"python3 top_mapper.py\" \\\n",
    "    -reducer \"python3 top_reducer.py\" \\\n",
    "    -input /user/output/job1_output \\\n",
    "    -output /user/output/job2_output"
   ]
  },
  {
   "cell_type": "code",
   "execution_count": 87,
   "id": "236b71f0",
   "metadata": {},
   "outputs": [
    {
     "name": "stdout",
     "output_type": "stream",
     "text": [
      "Found 2 items\r\n",
      "-rw-r--r--   1 ubuntu hadoop          0 2025-02-24 14:36 /user/output/job2_output/_SUCCESS\r\n",
      "-rw-r--r--   1 ubuntu hadoop        142 2025-02-24 14:36 /user/output/job2_output/part-00000\r\n"
     ]
    }
   ],
   "source": [
    "! hdfs dfs -ls /user/output/job2_output"
   ]
  },
  {
   "cell_type": "code",
   "execution_count": 88,
   "id": "5d87f858",
   "metadata": {},
   "outputs": [
    {
     "name": "stdout",
     "output_type": "stream",
     "text": [
      "4143904\t358181\r\n",
      "1113291\t329463\r\n",
      "1203081\t170447\r\n",
      "4263912\t80605\r\n",
      "1987990\t70544\r\n",
      "563902\t68359\r\n",
      "2853587\t53371\r\n",
      "2735474\t49881\r\n",
      "1370797\t49791\r\n",
      "2271348\t48099\r\n"
     ]
    }
   ],
   "source": [
    "! hdfs dfs -cat /user/output/job2_output/part-00000"
   ]
  },
  {
   "cell_type": "code",
   "execution_count": 89,
   "id": "70be4f4a",
   "metadata": {},
   "outputs": [
    {
     "name": "stdout",
     "output_type": "stream",
     "text": [
      "2025-02-24 14:48:30,244 INFO impl.MetricsConfig: Loaded properties from hadoop-metrics2.properties\n",
      "2025-02-24 14:48:30,309 INFO impl.MetricsSystemImpl: Scheduled Metric snapshot period at 10 second(s).\n",
      "2025-02-24 14:48:30,309 INFO impl.MetricsSystemImpl: s3a-file-system metrics system started\n",
      "2025-02-24 14:48:32,614 INFO impl.MetricsSystemImpl: Stopping s3a-file-system metrics system...\n",
      "2025-02-24 14:48:32,614 INFO impl.MetricsSystemImpl: s3a-file-system metrics system stopped.\n",
      "2025-02-24 14:48:32,614 INFO impl.MetricsSystemImpl: s3a-file-system metrics system shutdown complete.\n"
     ]
    }
   ],
   "source": [
    "!hdfs dfs -get /user/output/job2_output/part-00000 part-00000\n",
    "!hdfs dfs -put -f part-00000 s3a://bspanfilov-lsml/hw2_part1_top10_users"
   ]
  },
  {
   "cell_type": "markdown",
   "id": "ba93223a",
   "metadata": {},
   "source": [
    "Ссылка: https://storage.yandexcloud.net/bspanfilov-lsml/hw2_part1_top10_users"
   ]
  },
  {
   "cell_type": "markdown",
   "id": "2bbaf242",
   "metadata": {},
   "source": [
    "### Часть 2"
   ]
  },
  {
   "cell_type": "code",
   "execution_count": 4,
   "id": "fe985add",
   "metadata": {},
   "outputs": [],
   "source": [
    "# !kaggle competitions download -c avito-context-ad-clicks -f trainSearchStream.tsv.7z\n",
    "# !kaggle competitions download -c avito-context-ad-clicks -f SearchInfo.tsv.7z\n",
    "# !kaggle competitions download -c avito-context-ad-clicks -f UserInfo.tsv.7z\n",
    "# !7z x trainSearchStream.tsv.7z\n",
    "# !7z x SearchInfo.tsv.7z\n",
    "# !7z x UserInfo.tsv.7z"
   ]
  },
  {
   "cell_type": "code",
   "execution_count": 100,
   "id": "0a411907",
   "metadata": {
    "collapsed": true
   },
   "outputs": [
    {
     "name": "stdout",
     "output_type": "stream",
     "text": [
      "SearchID\tAdID\tPosition\tObjectType\tHistCTR\tIsClick\r\n",
      "2\t11441863\t1\t3\t0.001804\t0\r\n",
      "2\t22968355\t7\t3\t0.004723\t0\r\n",
      "3\t212187\t7\t3\t0.029701\t0\r\n",
      "3\t34084553\t1\t3\t0.004300\t0\r\n",
      "3\t36256251\t2\t2\t\t\r\n",
      "4\t2073399\t6\t1\t\t\r\n",
      "4\t6046052\t7\t1\t\t\r\n",
      "4\t17544913\t8\t1\t\t\r\n",
      "4\t20653823\t1\t3\t0.003049\t0\r\n"
     ]
    }
   ],
   "source": [
    "! head -n 10 trainSearchStream.tsv"
   ]
  },
  {
   "cell_type": "code",
   "execution_count": 103,
   "id": "aa0877aa",
   "metadata": {
    "collapsed": true
   },
   "outputs": [
    {
     "name": "stdout",
     "output_type": "stream",
     "text": [
      "SearchID\tSearchDate\tIPID\tUserID\tIsUserLoggedOn\tSearchQuery\tLocationID\tCategoryID\tSearchParams\r\n",
      "1\t2015-05-18 19:54:32.0\t1717090\t3640266\t0\t\t1729\t5\t\r\n",
      "2\t2015-05-12 14:21:28.0\t1731568\t769304\t0\t\t697\t50\t\r\n",
      "3\t2015-05-12 07:09:42.0\t793143\t640089\t0\t\t1261\t12\t\r\n",
      "4\t2015-05-10 18:11:01.0\t898705\t3573776\t0\t\t3960\t22\t{83:'Обувь', 175:'Женская одежда', 88:'38'}\r\n",
      "5\t2015-04-25 13:04:09.0\t2009707\t320674\t0\t\t547\t1\t\r\n",
      "6\t2015-05-07 16:49:15.0\t1658456\t1665156\t0\t\t926\t27\t\r\n",
      "7\t2015-05-14 23:07:27.0\t1849117\t3434614\t0\t\t44\t500001\t\r\n",
      "8\t2015-05-09 09:10:06.0\t572585\t905821\t0\t\t2694\t12\t\r\n",
      "9\t2015-05-02 20:14:15.0\t77162\t1106541\t0\t\t576\t4\t\r\n",
      "10\t2015-05-15 17:38:46.0\t1371072\t3310798\t0\t\t1110\t12\t\r\n",
      "11\t2015-05-17 12:01:01.0\t67356\t3113486\t1\t\t3953\t22\t{175:'Аксессуары'}\r\n",
      "12\t2015-05-13 11:54:24.0\t1305191\t632714\t0\t\t1729\t4\t{156:'Горные'}\r\n",
      "13\t2015-04-26 21:34:59.0\t1473851\t638475\t0\t\t3960\t38\t{45:'Кровати, диваны и кресла'}\r\n",
      "14\t2015-04-28 01:30:16.0\t473331\t2962661\t1\t\t3961\t38\t{45:'Кровати, диваны и кресла'}\r\n",
      "15\t2015-05-06 11:23:50.0\t1117012\t2515153\t0\t\t3725\t34\t\r\n",
      "16\t2015-05-10 21:08:27.0\t2022127\t1259151\t0\t\t2114\t34\t{5:'Шины, диски и колёса', 709:'Диски'}\r\n",
      "17\t2015-05-03 14:12:19.0\t697982\t943133\t1\t\t3960\t37\t\r\n",
      "19\t2015-05-12 10:14:07.0\t2080435\t2909452\t0\t\t1261\t60\t{110:'Верхняя одежда', 178:'Для мальчиков'}\r\n",
      "20\t2015-05-16 14:38:00.0\t486408\t4280401\t0\t\t3679\t4\t\r\n",
      "21\t2015-05-14 17:27:55.0\t1279103\t3419273\t0\t\t576\t38\t{45:'Подставки и тумбы'}\r\n",
      "22\t2015-05-02 20:07:15.0\t2112731\t2770985\t0\t\t230\t47\t{127:'Детские коляски'}\r\n",
      "23\t2015-05-13 09:58:44.0\t490721\t3524741\t0\t\t3771\t38\t{45:'Кухонные гарнитуры'}\r\n",
      "24\t2015-05-13 11:32:08.0\t370491\t506999\t1\t\t2077\t41\t\r\n",
      "25\t2015-05-15 09:56:17.0\t403806\t4114490\t0\tpeg-perego\t3960\t47\t\r\n",
      "26\t2015-04-27 11:41:11.0\t361806\t3315371\t0\t\t1676\t34\t\r\n",
      "27\t2015-05-15 17:59:20.0\t989126\t798254\t0\t\t3960\t28\t\r\n",
      "28\t2015-05-16 20:19:47.0\t1845070\t682366\t0\t\t1338\t12\t\r\n",
      "29\t2015-05-13 18:52:19.0\t1245673\t2354001\t0\t\t2875\t38\t\r\n",
      "30\t2015-04-27 23:40:15.0\t2155191\t1686759\t0\t\t3884\t38\t\r\n",
      "31\t2015-04-29 19:38:14.0\t138949\t2323415\t0\t\t926\t60\t\r\n",
      "32\t2015-05-10 22:03:15.0\t1273144\t916795\t1\t\t230\t60\t{178:'Для мальчиков'}\r\n",
      "33\t2015-05-01 00:18:23.0\t370391\t921180\t0\tполка\t3953\t38\t\r\n",
      "34\t2015-04-28 18:03:53.0\t1344674\t1532254\t1\tbmw\t2060\t0\t\r\n",
      "35\t2015-04-25 21:10:24.0\t1279103\t3419273\t0\t\t3960\t47\t\r\n",
      "36\t2015-05-14 10:00:28.0\t166313\t3564152\t0\t\t1653\t47\t{127:'Детская мебель'}\r\n",
      "37\t2015-05-18 08:46:10.0\t421840\t3314799\t0\t\t4545\t11\t\r\n",
      "38\t2015-05-01 14:42:21.0\t2062156\t4175118\t1\t\t4314\t50\t\r\n",
      "39\t2015-05-19 14:01:22.0\t2264502\t768701\t1\t\t72\t12\t\r\n",
      "40\t2015-05-08 17:59:07.0\t1518644\t793454\t0\t\t4145\t12\t\r\n",
      "41\t2015-04-27 13:26:40.0\t23041\t2541357\t0\t\t1312\t34\t\r\n",
      "42\t2015-05-15 16:03:10.0\t348087\t3344085\t0\t\t1309\t60\t{124:'32', 110:'Обувь', 178:'Для мальчиков'}\r\n",
      "43\t2015-04-27 10:27:41.0\t1949510\t3488339\t0\tnikon\t3960\t44\t{223:'Объективы'}\r\n",
      "44\t2015-05-13 19:26:25.0\t1578003\t2738605\t0\t\t346\t22\t{83:'Обувь', 175:'Женская одежда', 88:'36'}\r\n",
      "45\t2015-05-07 18:06:32.0\t1194283\t1504867\t0\t\t1110\t27\t{486:'Микроволновые печи', 48:'Для кухни'}\r\n",
      "46\t2015-05-18 22:30:28.0\t1890431\t2051525\t0\t\t760\t38\t\r\n",
      "47\t2015-05-20 00:13:19.0\t1057082\t956264\t0\t\t1110\t50\t{44:'Сантехника и сауна'}\r\n",
      "48\t2015-04-26 19:39:49.0\t296495\t4221659\t0\t\t346\t47\t\r\n",
      "49\t2015-04-30 22:42:49.0\t2157713\t2855073\t0\t\t3953\t50\t{44:'Инструменты'}\r\n",
      "50\t2015-05-06 08:53:18.0\t1459936\t608237\t1\t\t3960\t22\t{83:'Верхняя одежда', 175:'Женская одежда', 86:'46–48 (L)'}\r\n",
      "51\t2015-05-13 19:57:13.0\t2240078\t2521970\t0\t\t1134\t27\t{487:'Швейные машины', 48:'Для дома'}\r\n",
      "52\t2015-05-09 16:07:50.0\t1382096\t3891378\t1\t\t2685\t47\t{127:'Детские коляски'}\r\n",
      "53\t2015-05-14 19:30:46.0\t11299\t2909031\t0\t\t4306\t49\t\r\n",
      "54\t2015-05-17 13:42:41.0\t1831678\t4256353\t0\t\t3335\t47\t{127:'Товары для кормления'}\r\n",
      "55\t2015-05-17 18:39:28.0\t1676573\t1350271\t0\t\t3960\t12\t\r\n",
      "56\t2015-05-18 10:21:36.0\t1164528\t2455362\t0\t\t414\t2\t\r\n",
      "57\t2015-05-07 19:01:12.0\t316678\t2422934\t0\tвелосипед\t1653\t0\t\r\n",
      "58\t2015-05-03 16:20:49.0\t680340\t4171334\t0\t\t1461\t4\t\r\n",
      "59\t2015-05-19 07:18:51.0\t233842\t1439280\t0\t\t378\t25\t{140:'Планшеты'}\r\n",
      "60\t2015-05-12 10:44:51.0\t2261916\t3530546\t0\tкухонный гарнитур\t547\t38\t\r\n",
      "61\t2015-05-08 09:08:26.0\t938842\t3043769\t0\t\t3771\t28\t\r\n",
      "62\t2015-05-12 16:14:35.0\t1219953\t596840\t1\t\t3771\t41\t{143:'Explay'}\r\n",
      "63\t2015-04-25 19:36:58.0\t189732\t1547043\t1\t\t1995\t28\t\r\n",
      "64\t2015-04-29 13:49:09.0\t1948922\t2039415\t1\t\t3928\t18\t\r\n",
      "65\t2015-05-05 10:49:04.0\t1614267\t622341\t0\t\t3960\t60\t{125:'35', 179:'Обувь', 178:'Для девочек'}\r\n",
      "66\t2015-05-14 12:29:36.0\t1326923\t2070713\t1\t\t3976\t50\t{44:'Инструменты'}\r\n",
      "67\t2015-05-04 14:46:50.0\t1254265\t2215758\t1\t\t733\t50\t{44:'Сантехника и сауна'}\r\n",
      "68\t2015-05-08 11:09:12.0\t27665\t122083\t0\t\t547\t41\t\r\n",
      "69\t2015-05-04 12:51:24.0\t670159\t4071052\t0\t\t4005\t12\t\r\n",
      "70\t2015-05-08 00:26:47.0\t2183354\t2302845\t1\tбытовка\t3953\t50\t\r\n",
      "71\t2015-05-11 22:17:34.0\t1856066\t2428870\t1\tсиденье\t2694\t34\t\r\n",
      "72\t2015-05-07 12:12:44.0\t8578\t1702365\t0\tдвухярусная кровать\t3960\t38\t{45:'Кровати, диваны и кресла'}\r\n",
      "73\t2015-05-03 17:24:06.0\t678523\t1066217\t0\t\t3335\t60\t{112:'134-140 см (8-10 лет)', 179:'Верхняя одежда', 178:'Для девочек'}\r\n",
      "74\t2015-05-08 23:44:07.0\t335701\t319976\t1\t\t4336\t41\t{143:'Samsung'}\r\n",
      "75\t2015-04-27 07:20:20.0\t779764\t3961114\t0\t\t3960\t27\t{48:'Для дома'}\r\n",
      "76\t2015-05-14 11:04:03.0\t1924177\t638246\t0\t\t3960\t28\t\r\n",
      "77\t2015-05-08 14:01:37.0\t985536\t2644718\t0\t\t3953\t4\t\r\n",
      "78\t2015-05-08 12:06:55.0\t433474\t1610118\t1\t\t4172\t25\t\r\n",
      "79\t2015-05-07 22:22:27.0\t307830\t3673865\t0\t\t2885\t34\t{797:'20', 800:'112', 5:'Шины, диски и колёса', 709:'Диски', 799:'5'}\r\n",
      "80\t2015-05-20 15:28:04.0\t35021\t2170581\t0\t\t853\t60\t{179:'Платья и юбки', 178:'Для девочек'}\r\n",
      "81\t2015-05-20 12:37:54.0\t287104\t3734978\t0\t\t3928\t44\t{223:'Бинокли и телескопы'}\r\n",
      "82\t2015-04-30 20:55:16.0\t740004\t2073229\t0\t\t436\t34\t{598:'Для автомобилей', 5:'Запчасти', 817:'Двигатель'}\r\n",
      "83\t2015-05-11 18:19:05.0\t1329187\t2894712\t0\t\t3022\t22\t{99:'50–52 (XL)', 176:'Пиджаки и костюмы', 175:'Мужская одежда'}\r\n",
      "84\t2015-05-07 23:33:10.0\t1373262\t16085\t0\t\t3960\t22\t{175:'Мужская одежда'}\r\n",
      "85\t2015-04-28 08:56:21.0\t939579\t3872588\t0\t\t3960\t22\t{83:'Платья и юбки', 175:'Женская одежда', 90:'40–42 (XS)'}\r\n",
      "86\t2015-05-16 14:37:39.0\t293675\t845235\t0\t\t4225\t47\t{127:'Игрушки'}\r\n",
      "87\t2015-05-05 16:14:14.0\t938614\t3820717\t0\t\t1583\t12\t\r\n",
      "88\t2015-05-01 17:21:52.0\t1808386\t1835648\t0\t\t2306\t38\t{45:'Кровати, диваны и кресла'}\r\n",
      "89\t2015-05-07 21:05:45.0\t1755954\t1369931\t1\tкеды\t3960\t22\t{83:'Обувь', 175:'Женская одежда', 88:'39'}\r\n",
      "90\t2015-05-12 20:55:39.0\t898112\t432541\t1\t\t3537\t27\t\r\n",
      "91\t2015-05-17 07:59:56.0\t1666079\t4201484\t1\t\t813\t13\t{137:'Игры для приставок'}\r\n",
      "92\t2015-05-16 16:41:03.0\t1239938\t108056\t1\t\t547\t60\t{478:'86-92 см (1-2 года)', 179:'Трикотаж', 178:'Для девочек'}\r\n",
      "93\t2015-05-04 11:09:48.0\t387950\t3660970\t0\t\t2225\t47\t\r\n",
      "94\t2015-05-09 08:28:22.0\t135607\t2736471\t0\t\t2702\t7\t\r\n",
      "95\t2015-04-27 20:30:49.0\t64147\t2519098\t0\t\t176\t22\t{175:'Женская одежда'}\r\n",
      "96\t2015-05-19 23:05:10.0\t19762\t952196\t0\tтуфли\t3960\t60\t{125:'36', 179:'Обувь', 178:'Для девочек'}\r\n",
      "97\t2015-04-26 19:09:09.0\t91175\t1158848\t0\t\t4429\t12\t\r\n",
      "98\t2015-04-28 16:43:29.0\t1954539\t3799207\t1\t\t2885\t12\t\r\n",
      "99\t2015-04-30 20:16:28.0\t1048373\t753385\t0\t\t3960\t49\t\r\n",
      "100\t2015-05-17 14:31:57.0\t2207044\t4025525\t0\t\t1301\t2\t\r\n",
      "101\t2015-05-07 17:50:11.0\t228444\t4236018\t0\t\t2277\t22\t{83:'Верхняя одежда', 175:'Женская одежда', 86:'> 50 (XXL)'}\r\n",
      "102\t2015-05-13 16:07:38.0\t1860669\t2814980\t0\t\t1156\t27\t{486:'Холодильники и морозильные камеры', 48:'Для кухни'}\r\n",
      "103\t2015-05-17 19:01:44.0\t1784053\t1880171\t0\t\t209\t12\t\r\n",
      "104\t2015-05-02 20:05:01.0\t466957\t2607601\t0\t\t3022\t38\t{45:'Кухонные гарнитуры'}\r\n",
      "105\t2015-05-13 13:37:07.0\t1686757\t2041376\t0\t\t1261\t26\t{132:'Музыкальные центры, магнитолы'}\r\n",
      "106\t2015-05-20 08:36:42.0\t1201583\t1135386\t1\t\t4458\t47\t{127:'Детские коляски'}\r\n",
      "107\t2015-04-28 18:10:21.0\t935752\t1404033\t0\t\t346\t60\t{112:'74-80 см (7-12 мес)', 179:'Верхняя одежда', 178:'Для девочек'}\r\n",
      "108\t2015-05-20 11:13:56.0\t1116819\t3745295\t0\tacer aspire 5551\t346\t0\t\r\n",
      "109\t2015-04-25 11:27:03.0\t1533730\t328595\t0\t\t3953\t60\t{119:'98-104 см (2-4 года)', 110:'Верхняя одежда', 178:'Для мальчиков'}\r\n",
      "110\t2015-04-28 12:00:53.0\t1905978\t2184992\t0\t\t1294\t47\t{127:'Детская мебель'}\r\n",
      "111\t2015-05-05 09:51:27.0\t17158\t95436\t0\t\t1729\t38\t{45:'Кровати, диваны и кресла'}\r\n",
      "112\t2015-05-02 11:24:00.0\t1269123\t1917803\t1\t\t346\t1\t\r\n",
      "113\t2015-05-14 04:26:58.0\t1738646\t2349894\t0\t\t3335\t50\t{44:'Инструменты'}\r\n",
      "114\t2015-04-26 11:23:18.0\t1863801\t3651138\t1\tстолик колеса\t3953\t38\t\r\n",
      "115\t2015-05-09 13:30:21.0\t1853248\t236803\t1\t\t547\t38\t\r\n",
      "116\t2015-05-12 22:14:36.0\t2150731\t357139\t0\tcasio\t2840\t11\t{104:'Часы'}\r\n",
      "117\t2015-04-27 09:04:35.0\t1362233\t3898507\t0\t\t3771\t34\t{5:'Шины, диски и колёса'}\r\n",
      "118\t2015-05-12 21:33:59.0\t1434113\t3500409\t0\t\t3960\t60\t{178:'Для девочек'}\r\n",
      "119\t2015-05-16 20:55:59.0\t1214136\t1531808\t0\t\t3807\t50\t\r\n",
      "120\t2015-04-30 23:25:45.0\t1635133\t1299044\t0\t\t361\t12\t\r\n",
      "121\t2015-05-09 22:21:40.0\t490755\t3817669\t0\t\t2685\t44\t\r\n",
      "122\t2015-05-11 12:19:09.0\t1669097\t658637\t1\t\t3177\t12\t\r\n",
      "123\t2015-05-05 12:22:05.0\t2044041\t2841388\t0\t\t2960\t34\t\r\n",
      "124\t2015-05-10 19:01:12.0\t2260237\t2312837\t0\t\t3953\t22\t{176:'Верхняя одежда', 175:'Мужская одежда', 96:'46–48 (M)'}\r\n",
      "125\t2015-05-12 09:53:52.0\t88753\t4041332\t0\tдрель бу\t3953\t0\t\r\n",
      "126\t2015-04-28 23:03:15.0\t2239481\t170763\t0\t\t3953\t38\t{45:'Кровати, диваны и кресла'}\r\n",
      "127\t2015-04-27 20:53:02.0\t1681047\t1329580\t1\t\t1294\t22\t{83:'Обувь', 175:'Женская одежда', 88:'39'}\r\n",
      "128\t2015-05-11 21:34:19.0\t696035\t2933149\t0\t\t1885\t41\t\r\n",
      "129\t2015-05-03 12:31:51.0\t1620846\t1106025\t0\t\t1998\t17\t\r\n",
      "130\t2015-05-13 21:23:16.0\t1289517\t2077936\t0\tстиральная машина бу\t3960\t27\t\r\n",
      "131\t2015-05-01 11:18:04.0\t163787\t2571901\t0\t\t2225\t28\t\r\n",
      "132\t2015-05-14 15:09:12.0\t1515457\t1784759\t0\t\t3960\t12\t\r\n",
      "133\t2015-05-02 20:55:19.0\t1636652\t2072440\t1\t\t3960\t22\t{83:'Обувь', 175:'Женская одежда', 88:'39'}\r\n",
      "134\t2015-04-26 17:08:57.0\t879563\t3937152\t0\t\t3960\t22\t{175:'Женская одежда'}\r\n",
      "135\t2015-05-02 15:57:45.0\t273115\t4190378\t0\t\t2277\t60\t{178:'Для девочек'}\r\n",
      "136\t2015-05-05 13:55:49.0\t742709\t302181\t0\t\t1731\t22\t{175:'Женская одежда'}\r\n",
      "137\t2015-04-26 16:44:32.0\t1939908\t637610\t1\t\t3960\t22\t{176:'Джинсы', 175:'Мужская одежда', 97:'38'}\r\n",
      "138\t2015-05-07 11:58:11.0\t255918\t392505\t1\t\t547\t60\t{125:'33', 179:'Обувь', 178:'Для девочек'}\r\n",
      "139\t2015-05-10 23:55:54.0\t1578742\t1669990\t0\t\t3953\t44\t{223:'Объективы'}\r\n",
      "140\t2015-05-03 23:48:33.0\t81080\t1541441\t0\t\t3953\t47\t{127:'Игрушки'}\r\n",
      "141\t2015-05-16 21:42:12.0\t2104382\t967921\t1\tчайничек\t2885\t0\t\r\n",
      "142\t2015-05-11 22:26:27.0\t405705\t997678\t0\t\t4294\t26\t\r\n",
      "143\t2015-05-07 19:01:58.0\t1089392\t1594945\t0\t\t3953\t38\t{45:'Подставки и тумбы'}\r\n",
      "144\t2015-05-13 15:13:18.0\t270871\t991474\t0\t\t1261\t41\t{143:'HTC'}\r\n",
      "145\t2015-05-08 22:42:52.0\t2057959\t2783138\t1\t\t2850\t12\t\r\n",
      "146\t2015-04-29 14:53:25.0\t2030513\t3615337\t0\t\t4215\t26\t\r\n",
      "147\t2015-05-07 15:29:00.0\t428334\t2393127\t0\t\t1344\t27\t{486:'Плиты', 48:'Для кухни'}\r\n",
      "148\t2015-05-12 17:06:14.0\t2219909\t3852793\t0\t\t3953\t60\t{119:'86-92 см (1-2 года)', 110:'Верхняя одежда', 178:'Для мальчиков'}\r\n",
      "149\t2015-05-08 13:15:18.0\t1587557\t2465059\t1\tкупальник\t992\t0\t\r\n",
      "150\t2015-05-06 12:17:01.0\t1616440\t2618418\t0\t\t381\t38\t{45:'Кухонные гарнитуры'}\r\n",
      "151\t2015-05-18 21:47:53.0\t823285\t2116687\t0\t\t992\t38\t{45:'Шкафы и комоды'}\r\n",
      "152\t2015-04-28 15:24:45.0\t251199\t895324\t1\t\t2643\t60\t{119:'62-68 см (2-6 мес)', 110:'Верхняя одежда', 178:'Для мальчиков'}\r\n",
      "153\t2015-05-13 14:52:10.0\t411756\t4108043\t1\t\t3505\t12\t\r\n",
      "154\t2015-05-16 19:30:49.0\t1798409\t3881551\t0\t\t1301\t27\t{486:'Холодильники и морозильные камеры', 48:'Для кухни'}\r\n",
      "155\t2015-04-27 05:45:12.0\t509996\t1574734\t0\tбензобур\t3960\t50\t\r\n",
      "156\t2015-05-13 20:19:15.0\t220745\t1396991\t0\t\t2277\t18\t\r\n",
      "157\t2015-05-09 03:14:14.0\t626329\t662888\t0\t\t4145\t38\t{45:'Освещение'}\r\n",
      "158\t2015-05-09 19:29:52.0\t1455020\t966217\t0\t\t1822\t38\t{45:'Кровати, диваны и кресла'}\r\n",
      "159\t2015-04-26 22:29:20.0\t1534321\t522578\t1\t\t3953\t27\t{487:'Стиральные машины', 48:'Для дома'}\r\n",
      "160\t2015-05-06 20:22:32.0\t2134399\t2435826\t1\t\t3953\t5\t{165:'Игры с мячом'}\r\n",
      "161\t2015-05-07 18:05:59.0\t1745194\t2281298\t1\t\t733\t38\t{45:'Кровати, диваны и кресла'}\r\n",
      "162\t2015-05-02 22:13:40.0\t1017584\t532673\t0\t\t2236\t38\t{45:'Кровати, диваны и кресла'}\r\n",
      "163\t2015-05-08 22:46:47.0\t2055948\t258702\t0\t\t4268\t52\t{167:'Книги'}\r\n",
      "164\t2015-04-28 00:03:41.0\t1452754\t721490\t0\tfujifilm\t1261\t44\t\r\n",
      "165\t2015-05-18 13:55:08.0\t865993\t2858836\t1\tсплит система\t2840\t27\t\r\n",
      "166\t2015-05-07 18:07:28.0\t1791035\t937662\t0\t\t1344\t22\t{83:'Платья и юбки', 175:'Женская одежда', 90:'44–46 (M)'}\r\n",
      "167\t2015-05-01 18:13:57.0\t1636749\t3302128\t0\t\t1480\t12\t\r\n",
      "168\t2015-04-30 20:51:19.0\t1431980\t3202851\t0\t\t2430\t38\t{45:'Кровати, диваны и кресла'}\r\n",
      "169\t2015-05-03 21:01:27.0\t494264\t565566\t0\t\t2277\t4\t{156:'Горные'}\r\n",
      "170\t2015-05-11 14:55:11.0\t984705\t2835575\t1\t\t2875\t28\t\r\n",
      "171\t2015-05-17 12:32:02.0\t1043149\t3751955\t0\t\t4464\t37\t\r\n",
      "172\t2015-05-11 09:04:42.0\t649570\t3129392\t0\t\t3018\t4\t\r\n",
      "173\t2015-05-05 11:44:51.0\t1952862\t2716323\t0\t\t4181\t29\t\r\n",
      "174\t2015-05-17 10:33:09.0\t702397\t1352796\t1\t\t976\t12\t\r\n",
      "175\t2015-05-12 18:49:00.0\t1679183\t2532082\t0\tмясорубка\t2885\t0\t\r\n",
      "176\t2015-05-13 12:01:16.0\t821320\t1288537\t0\t\t1653\t60\t{178:'Для мальчиков'}\r\n",
      "177\t2015-05-14 12:45:29.0\t1552308\t236288\t0\tрюкзак\t926\t0\t\r\n",
      "178\t2015-05-03 21:36:02.0\t1177559\t3865599\t1\t\t2230\t38\t{45:'Освещение'}\r\n",
      "179\t2015-04-29 12:23:34.0\t1803017\t1775453\t0\tбассейн\t2612\t5\t\r\n",
      "180\t2015-05-09 17:52:19.0\t46976\t679994\t0\t\t1344\t49\t\r\n",
      "181\t2015-04-30 10:24:49.0\t1507803\t2391097\t0\t\t230\t22\t{83:'Платья и юбки', 175:'Женская одежда', 90:'44–46 (M)'}\r\n",
      "182\t2015-05-10 18:46:10.0\t504898\t2817394\t0\t\t489\t34\t{5:'Шины, диски и колёса'}\r\n",
      "183\t2015-05-12 23:10:46.0\t495944\t3511733\t0\tsonata\t3960\t34\t\r\n",
      "184\t2015-05-07 18:29:34.0\t1547270\t838421\t0\t\t3960\t4\t\r\n",
      "185\t2015-05-01 20:07:19.0\t578225\t2330527\t1\t\t980\t5\t{165:'Туризм'}\r\n",
      "186\t2015-05-03 22:34:02.0\t1637376\t3961003\t1\tуаз\t4111\t34\t{5:'Шины, диски и колёса'}\r\n",
      "187\t2015-05-02 08:16:11.0\t1401325\t2441271\t0\t\t414\t38\t{45:'Шкафы и комоды'}\r\n",
      "188\t2015-05-12 17:58:38.0\t1119581\t1791828\t0\t\t2474\t34\t\r\n",
      "189\t2015-04-27 15:11:14.0\t4710\t2270390\t0\t\t3960\t38\t{45:'Кровати, диваны и кресла'}\r\n",
      "190\t2015-05-12 12:30:42.0\t207995\t3378047\t0\t\t2230\t7\t\r\n",
      "191\t2015-05-14 13:17:38.0\t1010183\t2128363\t0\t\t3771\t22\t{83:'Обувь', 175:'Женская одежда', 88:'40'}\r\n",
      "192\t2015-04-30 11:22:22.0\t797859\t3526542\t0\t\t3371\t28\t\r\n",
      "193\t2015-05-16 17:59:25.0\t1912466\t2254952\t0\t\t1667\t37\t\r\n",
      "194\t2015-04-27 09:45:47.0\t917563\t3100991\t0\t\t1653\t38\t{45:'Компьютерные столы и кресла'}\r\n",
      "195\t2015-04-29 21:07:32.0\t2116712\t1109619\t1\t\t3960\t26\t\r\n",
      "196\t2015-05-08 21:20:40.0\t1213367\t1628307\t1\t\t972\t26\t\r\n",
      "197\t2015-05-17 10:03:04.0\t1774610\t2416051\t0\tуаз\t2612\t34\t\r\n",
      "198\t2015-05-07 10:46:21.0\t951832\t372668\t1\tchevrolet cruze\t3960\t34\t{598:'Для автомобилей', 5:'Запчасти'}\r\n",
      "199\t2015-04-27 22:56:04.0\t744744\t484918\t0\t\t401\t34\t{5:'Запчасти'}\r\n",
      "200\t2015-05-14 16:07:05.0\t556494\t365111\t0\t\t3960\t22\t\r\n"
     ]
    }
   ],
   "source": [
    "! head -n 200 SearchInfo.tsv"
   ]
  },
  {
   "cell_type": "code",
   "execution_count": 5,
   "id": "27ad3556",
   "metadata": {},
   "outputs": [
    {
     "name": "stdout",
     "output_type": "stream",
     "text": [
      "UserID\tUserAgentID\tUserAgentOSID\tUserDeviceID\tUserAgentFamilyID\r\n",
      "1\t44073\t30\t2019\t9\r\n",
      "2\t12505\t20\t2014\t85\r\n",
      "3\t24256\t20\t2014\t64\r\n",
      "4\t57133\t20\t2014\t25\r\n"
     ]
    }
   ],
   "source": [
    "! head -n 5 UserInfo.tsv"
   ]
  },
  {
   "cell_type": "code",
   "execution_count": 9,
   "id": "b04bcea2",
   "metadata": {},
   "outputs": [],
   "source": [
    "# !hdfs dfs -put trainSearchStream.tsv /user/input/trainSearchStream.tsv\n",
    "# !hdfs dfs -put SearchInfo.tsv /user/input/SearchInfo.tsv\n",
    "!hdfs dfs -put UserInfo.tsv /user/input/UserInfo.tsv"
   ]
  },
  {
   "cell_type": "code",
   "execution_count": 10,
   "id": "bfbb8e48",
   "metadata": {},
   "outputs": [
    {
     "name": "stdout",
     "output_type": "stream",
     "text": [
      "Found 6 items\r\n",
      "-rw-r--r--   1 ubuntu hadoop         752 2025-02-24 18:19 /user/input/Category.tsv\r\n",
      "-rw-r--r--   1 ubuntu hadoop  9469373867 2025-02-24 18:29 /user/input/SearchInfo.tsv\r\n",
      "-rw-r--r--   1 ubuntu hadoop   104614699 2025-02-25 08:46 /user/input/UserInfo.tsv\r\n",
      "-rw-r--r--   1 ubuntu hadoop 13180996392 2025-02-24 12:01 /user/input/VisitsStream.tsv\r\n",
      "-rw-r--r--   1 ubuntu hadoop      459755 2025-02-24 13:06 /user/input/VisitsStream_small.tsv\r\n",
      "-rw-r--r--   1 ubuntu hadoop 11023566785 2025-02-24 18:12 /user/input/trainSearchStream.tsv\r\n"
     ]
    }
   ],
   "source": [
    "!hdfs dfs -ls /user/input"
   ]
  },
  {
   "cell_type": "code",
   "execution_count": 7,
   "id": "d9cbaee7",
   "metadata": {},
   "outputs": [],
   "source": [
    "import findspark\n",
    "findspark.init()"
   ]
  },
  {
   "cell_type": "code",
   "execution_count": 24,
   "id": "f7d35913",
   "metadata": {},
   "outputs": [],
   "source": [
    "spark.stop()"
   ]
  },
  {
   "cell_type": "markdown",
   "id": "63992339",
   "metadata": {},
   "source": [
    "### 2.1"
   ]
  },
  {
   "cell_type": "code",
   "execution_count": 25,
   "id": "22b38a3d",
   "metadata": {},
   "outputs": [],
   "source": [
    "from pyspark.sql import SparkSession\n",
    "import pyspark\n",
    "from pyspark.sql.functions import col, lower, explode, split, count as spark_count\n",
    "\n",
    "sc = pyspark.SparkContext(appName=\"2.1\")\n",
    "spark = SparkSession(sc)\n",
    "\n",
    "train_search = spark.read.csv(\"/user/input/trainSearchStream.tsv\", sep=\"\\t\", header=True)\n",
    "clicked_search_ids = train_search.filter(col(\"IsClick\") == \"1\").select(\"SearchID\").distinct()\n",
    "\n",
    "search_info = spark.read.csv(\"/user/input/SearchInfo.tsv\", sep=\"\\t\", header=True)\n",
    "clicked_search_info = clicked_search_ids.join(search_info, on=\"SearchID\", how=\"inner\")\n",
    "\n",
    "words = clicked_search_info.select(explode(split(lower(col(\"SearchQuery\")), \"\\\\s+\")).alias(\"word\"))\n",
    "\n",
    "top_words = words.groupBy(\"word\").agg(spark_count(\"*\").alias(\"count\")) \\\n",
    "                 .orderBy(col(\"count\").desc()).limit(10)\n",
    "\n",
    "top_words.write.csv(\"/user/output/top10_clicked_words\", header=True)\n",
    "spark.stop()\n"
   ]
  },
  {
   "cell_type": "code",
   "execution_count": 27,
   "id": "214bfd07",
   "metadata": {},
   "outputs": [
    {
     "name": "stdout",
     "output_type": "stream",
     "text": [
      "word,count\r\n",
      "велосипед,12267\r\n",
      "бу,11059\r\n",
      "iphone,7314\r\n",
      "для,5940\r\n",
      "диван,5566\r\n",
      "на,4857\r\n",
      "платье,4379\r\n",
      "коляска,3759\r\n",
      "велосипеды,3720\r\n",
      "sony,3366\r\n"
     ]
    }
   ],
   "source": [
    "! hdfs dfs -cat /user/output/top10_clicked_words/part-00000-4f2535af-d192-483f-a69e-3d8ad03ad461-c000.csv"
   ]
  },
  {
   "cell_type": "code",
   "execution_count": 28,
   "id": "69a52e9e",
   "metadata": {},
   "outputs": [
    {
     "name": "stdout",
     "output_type": "stream",
     "text": [
      "2025-02-25 09:13:53,601 INFO impl.MetricsConfig: Loaded properties from hadoop-metrics2.properties\n",
      "2025-02-25 09:13:53,665 INFO impl.MetricsSystemImpl: Scheduled Metric snapshot period at 10 second(s).\n",
      "2025-02-25 09:13:53,665 INFO impl.MetricsSystemImpl: s3a-file-system metrics system started\n",
      "2025-02-25 09:13:56,064 INFO impl.MetricsSystemImpl: Stopping s3a-file-system metrics system...\n",
      "2025-02-25 09:13:56,064 INFO impl.MetricsSystemImpl: s3a-file-system metrics system stopped.\n",
      "2025-02-25 09:13:56,064 INFO impl.MetricsSystemImpl: s3a-file-system metrics system shutdown complete.\n"
     ]
    }
   ],
   "source": [
    "!rm part-00000\n",
    "!hdfs dfs -get /user/output/top10_clicked_words/part-00000-4f2535af-d192-483f-a69e-3d8ad03ad461-c000.csv part-00000\n",
    "!hdfs dfs -put -f part-00000 s3a://bspanfilov-lsml/hw2_part2_1_top10_words.csv"
   ]
  },
  {
   "cell_type": "markdown",
   "id": "25646771",
   "metadata": {},
   "source": [
    "https://storage.yandexcloud.net/bspanfilov-lsml/hw2_part2_1_top10_words.csv"
   ]
  },
  {
   "cell_type": "markdown",
   "id": "6551bcfc",
   "metadata": {},
   "source": [
    "### 2.2"
   ]
  },
  {
   "cell_type": "code",
   "execution_count": 144,
   "id": "7693c8a2",
   "metadata": {},
   "outputs": [],
   "source": [
    "from pyspark.sql.functions import to_date, countDistinct, lit\n",
    "from pyspark.sql import Row\n",
    "\n",
    "sc = pyspark.SparkContext(appName=\"2.2\")\n",
    "spark = SparkSession(sc)\n",
    "\n",
    "visits = spark.read.csv(\"/user/input/VisitsStream.tsv\", sep=\"\\t\", header=True)\n",
    "\n",
    "visits = visits.withColumn(\"date\", to_date(col(\"ViewDate\")))\n",
    "\n",
    "total_days = visits.select(\"date\").distinct().count()\n",
    "\n",
    "user_days = visits.groupBy(\"UserID\").agg(countDistinct(\"date\").alias(\"visit_days\"))\n",
    "\n",
    "daily_users = user_days.filter(col(\"visit_days\") == total_days)\n",
    "num_daily_users = daily_users.count()\n",
    "\n",
    "result2 = spark.createDataFrame([Row(num_daily_users=num_daily_users)])\n",
    "result2.write.csv(\"/user/output/daily_users_count\", header=True)\n",
    "\n",
    "spark.stop()\n"
   ]
  },
  {
   "cell_type": "code",
   "execution_count": 149,
   "id": "02fd4948",
   "metadata": {},
   "outputs": [
    {
     "name": "stdout",
     "output_type": "stream",
     "text": [
      "num_daily_users\r\n",
      "807\r\n"
     ]
    }
   ],
   "source": [
    "! hdfs dfs -cat /user/output/daily_users_count/part-00005-84070161-c580-4046-a10f-44e1ec8850ce-c000.csv"
   ]
  },
  {
   "cell_type": "code",
   "execution_count": 150,
   "id": "2612ce4d",
   "metadata": {},
   "outputs": [
    {
     "name": "stdout",
     "output_type": "stream",
     "text": [
      "2025-02-24 18:59:49,134 INFO impl.MetricsConfig: Loaded properties from hadoop-metrics2.properties\n",
      "2025-02-24 18:59:49,203 INFO impl.MetricsSystemImpl: Scheduled Metric snapshot period at 10 second(s).\n",
      "2025-02-24 18:59:49,203 INFO impl.MetricsSystemImpl: s3a-file-system metrics system started\n",
      "2025-02-24 18:59:50,748 INFO impl.MetricsSystemImpl: Stopping s3a-file-system metrics system...\n",
      "2025-02-24 18:59:50,748 INFO impl.MetricsSystemImpl: s3a-file-system metrics system stopped.\n",
      "2025-02-24 18:59:50,748 INFO impl.MetricsSystemImpl: s3a-file-system metrics system shutdown complete.\n"
     ]
    }
   ],
   "source": [
    "!rm part-00000\n",
    "!hdfs dfs -get /user/output/daily_users_count/part-00005-84070161-c580-4046-a10f-44e1ec8850ce-c000.csv part-00000\n",
    "!hdfs dfs -put -f part-00000 s3a://bspanfilov-lsml/hw2_part2_2_daily_users.csv"
   ]
  },
  {
   "cell_type": "markdown",
   "id": "c69eadea",
   "metadata": {},
   "source": [
    "https://storage.yandexcloud.net/bspanfilov-lsml/hw2_part2_2_daily_users.csv"
   ]
  },
  {
   "cell_type": "markdown",
   "id": "933bcf16",
   "metadata": {},
   "source": [
    "### 2.3"
   ]
  },
  {
   "cell_type": "code",
   "execution_count": 151,
   "id": "221f3e1f",
   "metadata": {},
   "outputs": [],
   "source": [
    "sc = pyspark.SparkContext(appName=\"2.3\")\n",
    "spark = SparkSession(sc)\n",
    "\n",
    "visits = spark.read.csv(\"/user/input/VisitsStream.tsv\", sep=\"\\t\", header=True)\n",
    "visits = visits.withColumn(\"date\", to_date(col(\"ViewDate\")))\n",
    "total_days = visits.select(\"date\").distinct().count()\n",
    "user_days = visits.groupBy(\"UserID\").agg(countDistinct(\"date\").alias(\"visit_days\"))\n",
    "daily_users = user_days.filter(col(\"visit_days\") == total_days)\n",
    "\n",
    "daily_user_ids = daily_users.select(\"UserID\").distinct()\n",
    "visits_filtered = visits.join(daily_user_ids, on=\"UserID\", how=\"left_anti\")\n",
    "unique_users_per_day = visits_filtered.groupBy(\"date\").agg(countDistinct(\"UserID\").alias(\"unique_users\"))\n",
    "result3 = unique_users_per_day.orderBy(col(\"unique_users\").desc())\n",
    "\n",
    "result3.write.csv(\"/user/output/unique_users_per_day_excluding_daily.csv\", header=True)\n",
    "spark.stop()\n"
   ]
  },
  {
   "cell_type": "code",
   "execution_count": 164,
   "id": "a853d9ea",
   "metadata": {},
   "outputs": [
    {
     "name": "stdout",
     "output_type": "stream",
     "text": [
      "Found 27 items\r\n",
      "-rw-r--r--   1 ubuntu hadoop          0 2025-02-24 21:16 /user/output/unique_users_per_day_excluding_daily.csv/_SUCCESS\r\n",
      "-rw-r--r--   1 ubuntu hadoop         36 2025-02-24 21:16 /user/output/unique_users_per_day_excluding_daily.csv/part-00000-57da9514-b67b-41b7-a5c1-d056e7947b81-c000.csv\r\n",
      "-rw-r--r--   1 ubuntu hadoop         36 2025-02-24 21:16 /user/output/unique_users_per_day_excluding_daily.csv/part-00001-57da9514-b67b-41b7-a5c1-d056e7947b81-c000.csv\r\n",
      "-rw-r--r--   1 ubuntu hadoop         36 2025-02-24 21:16 /user/output/unique_users_per_day_excluding_daily.csv/part-00002-57da9514-b67b-41b7-a5c1-d056e7947b81-c000.csv\r\n",
      "-rw-r--r--   1 ubuntu hadoop         36 2025-02-24 21:16 /user/output/unique_users_per_day_excluding_daily.csv/part-00003-57da9514-b67b-41b7-a5c1-d056e7947b81-c000.csv\r\n",
      "-rw-r--r--   1 ubuntu hadoop         36 2025-02-24 21:16 /user/output/unique_users_per_day_excluding_daily.csv/part-00004-57da9514-b67b-41b7-a5c1-d056e7947b81-c000.csv\r\n",
      "-rw-r--r--   1 ubuntu hadoop         36 2025-02-24 21:16 /user/output/unique_users_per_day_excluding_daily.csv/part-00005-57da9514-b67b-41b7-a5c1-d056e7947b81-c000.csv\r\n",
      "-rw-r--r--   1 ubuntu hadoop         36 2025-02-24 21:16 /user/output/unique_users_per_day_excluding_daily.csv/part-00006-57da9514-b67b-41b7-a5c1-d056e7947b81-c000.csv\r\n",
      "-rw-r--r--   1 ubuntu hadoop         36 2025-02-24 21:16 /user/output/unique_users_per_day_excluding_daily.csv/part-00007-57da9514-b67b-41b7-a5c1-d056e7947b81-c000.csv\r\n",
      "-rw-r--r--   1 ubuntu hadoop         36 2025-02-24 21:16 /user/output/unique_users_per_day_excluding_daily.csv/part-00008-57da9514-b67b-41b7-a5c1-d056e7947b81-c000.csv\r\n",
      "-rw-r--r--   1 ubuntu hadoop         36 2025-02-24 21:16 /user/output/unique_users_per_day_excluding_daily.csv/part-00009-57da9514-b67b-41b7-a5c1-d056e7947b81-c000.csv\r\n",
      "-rw-r--r--   1 ubuntu hadoop         36 2025-02-24 21:16 /user/output/unique_users_per_day_excluding_daily.csv/part-00010-57da9514-b67b-41b7-a5c1-d056e7947b81-c000.csv\r\n",
      "-rw-r--r--   1 ubuntu hadoop         36 2025-02-24 21:16 /user/output/unique_users_per_day_excluding_daily.csv/part-00011-57da9514-b67b-41b7-a5c1-d056e7947b81-c000.csv\r\n",
      "-rw-r--r--   1 ubuntu hadoop         36 2025-02-24 21:16 /user/output/unique_users_per_day_excluding_daily.csv/part-00012-57da9514-b67b-41b7-a5c1-d056e7947b81-c000.csv\r\n",
      "-rw-r--r--   1 ubuntu hadoop         36 2025-02-24 21:16 /user/output/unique_users_per_day_excluding_daily.csv/part-00013-57da9514-b67b-41b7-a5c1-d056e7947b81-c000.csv\r\n",
      "-rw-r--r--   1 ubuntu hadoop         36 2025-02-24 21:16 /user/output/unique_users_per_day_excluding_daily.csv/part-00014-57da9514-b67b-41b7-a5c1-d056e7947b81-c000.csv\r\n",
      "-rw-r--r--   1 ubuntu hadoop         36 2025-02-24 21:16 /user/output/unique_users_per_day_excluding_daily.csv/part-00015-57da9514-b67b-41b7-a5c1-d056e7947b81-c000.csv\r\n",
      "-rw-r--r--   1 ubuntu hadoop         36 2025-02-24 21:16 /user/output/unique_users_per_day_excluding_daily.csv/part-00016-57da9514-b67b-41b7-a5c1-d056e7947b81-c000.csv\r\n",
      "-rw-r--r--   1 ubuntu hadoop         36 2025-02-24 21:16 /user/output/unique_users_per_day_excluding_daily.csv/part-00017-57da9514-b67b-41b7-a5c1-d056e7947b81-c000.csv\r\n",
      "-rw-r--r--   1 ubuntu hadoop         36 2025-02-24 21:16 /user/output/unique_users_per_day_excluding_daily.csv/part-00018-57da9514-b67b-41b7-a5c1-d056e7947b81-c000.csv\r\n",
      "-rw-r--r--   1 ubuntu hadoop         36 2025-02-24 21:16 /user/output/unique_users_per_day_excluding_daily.csv/part-00019-57da9514-b67b-41b7-a5c1-d056e7947b81-c000.csv\r\n",
      "-rw-r--r--   1 ubuntu hadoop         36 2025-02-24 21:16 /user/output/unique_users_per_day_excluding_daily.csv/part-00020-57da9514-b67b-41b7-a5c1-d056e7947b81-c000.csv\r\n",
      "-rw-r--r--   1 ubuntu hadoop         36 2025-02-24 21:16 /user/output/unique_users_per_day_excluding_daily.csv/part-00021-57da9514-b67b-41b7-a5c1-d056e7947b81-c000.csv\r\n",
      "-rw-r--r--   1 ubuntu hadoop         36 2025-02-24 21:16 /user/output/unique_users_per_day_excluding_daily.csv/part-00022-57da9514-b67b-41b7-a5c1-d056e7947b81-c000.csv\r\n",
      "-rw-r--r--   1 ubuntu hadoop         36 2025-02-24 21:16 /user/output/unique_users_per_day_excluding_daily.csv/part-00023-57da9514-b67b-41b7-a5c1-d056e7947b81-c000.csv\r\n",
      "-rw-r--r--   1 ubuntu hadoop         36 2025-02-24 21:16 /user/output/unique_users_per_day_excluding_daily.csv/part-00024-57da9514-b67b-41b7-a5c1-d056e7947b81-c000.csv\r\n",
      "-rw-r--r--   1 ubuntu hadoop         36 2025-02-24 21:16 /user/output/unique_users_per_day_excluding_daily.csv/part-00025-57da9514-b67b-41b7-a5c1-d056e7947b81-c000.csv\r\n"
     ]
    }
   ],
   "source": [
    "! hdfs dfs -ls /user/output/unique_users_per_day_excluding_daily.csv"
   ]
  },
  {
   "cell_type": "code",
   "execution_count": 160,
   "id": "72a53764",
   "metadata": {},
   "outputs": [
    {
     "name": "stdout",
     "output_type": "stream",
     "text": [
      "Writing put_results_in_one_file_mapper.py\n"
     ]
    }
   ],
   "source": [
    "%%writefile put_results_in_one_file_mapper.py\n",
    "import sys\n",
    "\n",
    "for line in sys.stdin:\n",
    "    date, tmp = line.split(',', 1)\n",
    "    if date != 'date':\n",
    "        print(f\"{date},{tmp}\")"
   ]
  },
  {
   "cell_type": "code",
   "execution_count": 161,
   "id": "2588fe8a",
   "metadata": {},
   "outputs": [
    {
     "name": "stdout",
     "output_type": "stream",
     "text": [
      "packageJobJar: [] [/usr/lib/hadoop-mapreduce/hadoop-streaming-3.2.2.jar] /tmp/streamjob80738874967180848.jar tmpDir=null\n",
      "2025-02-24 21:31:24,265 INFO client.RMProxy: Connecting to ResourceManager at rc1a-dataproc-m-thq16pdcu3777hh3.mdb.yandexcloud.net/10.128.0.17:8032\n",
      "2025-02-24 21:31:24,470 INFO client.AHSProxy: Connecting to Application History server at rc1a-dataproc-m-thq16pdcu3777hh3.mdb.yandexcloud.net/10.128.0.17:10200\n",
      "2025-02-24 21:31:24,507 INFO client.RMProxy: Connecting to ResourceManager at rc1a-dataproc-m-thq16pdcu3777hh3.mdb.yandexcloud.net/10.128.0.17:8032\n",
      "2025-02-24 21:31:24,508 INFO client.AHSProxy: Connecting to Application History server at rc1a-dataproc-m-thq16pdcu3777hh3.mdb.yandexcloud.net/10.128.0.17:10200\n",
      "2025-02-24 21:31:24,705 INFO mapreduce.JobResourceUploader: Disabling Erasure Coding for path: /tmp/hadoop-yarn/staging/ubuntu/.staging/job_1740387429795_0027\n",
      "2025-02-24 21:31:24,970 INFO mapred.FileInputFormat: Total input files to process : 26\n",
      "2025-02-24 21:31:25,034 INFO mapreduce.JobSubmitter: number of splits:26\n",
      "2025-02-24 21:31:25,150 INFO mapreduce.JobSubmitter: Submitting tokens for job: job_1740387429795_0027\n",
      "2025-02-24 21:31:25,151 INFO mapreduce.JobSubmitter: Executing with tokens: []\n",
      "2025-02-24 21:31:25,353 INFO conf.Configuration: resource-types.xml not found\n",
      "2025-02-24 21:31:25,354 INFO resource.ResourceUtils: Unable to find 'resource-types.xml'.\n",
      "2025-02-24 21:31:25,415 INFO impl.YarnClientImpl: Submitted application application_1740387429795_0027\n",
      "2025-02-24 21:31:25,449 INFO mapreduce.Job: The url to track the job: http://rc1a-dataproc-m-thq16pdcu3777hh3.mdb.yandexcloud.net:8088/proxy/application_1740387429795_0027/\n",
      "2025-02-24 21:31:25,450 INFO mapreduce.Job: Running job: job_1740387429795_0027\n",
      "2025-02-24 21:31:35,536 INFO mapreduce.Job: Job job_1740387429795_0027 running in uber mode : false\n",
      "2025-02-24 21:31:35,537 INFO mapreduce.Job:  map 0% reduce 0%\n",
      "2025-02-24 21:31:42,600 INFO mapreduce.Job:  map 12% reduce 0%\n",
      "2025-02-24 21:31:45,616 INFO mapreduce.Job:  map 27% reduce 0%\n",
      "2025-02-24 21:31:46,621 INFO mapreduce.Job:  map 38% reduce 0%\n",
      "2025-02-24 21:31:50,640 INFO mapreduce.Job:  map 50% reduce 0%\n",
      "2025-02-24 21:31:51,646 INFO mapreduce.Job:  map 62% reduce 0%\n",
      "2025-02-24 21:31:53,656 INFO mapreduce.Job:  map 69% reduce 0%\n",
      "2025-02-24 21:31:54,660 INFO mapreduce.Job:  map 73% reduce 0%\n",
      "2025-02-24 21:31:55,665 INFO mapreduce.Job:  map 77% reduce 0%\n",
      "2025-02-24 21:31:56,670 INFO mapreduce.Job:  map 85% reduce 0%\n",
      "2025-02-24 21:31:58,679 INFO mapreduce.Job:  map 88% reduce 0%\n",
      "2025-02-24 21:31:59,684 INFO mapreduce.Job:  map 100% reduce 100%\n",
      "2025-02-24 21:32:00,694 INFO mapreduce.Job: Job job_1740387429795_0027 completed successfully\n",
      "2025-02-24 21:32:00,763 INFO mapreduce.Job: Counters: 56\n",
      "\tFile System Counters\n",
      "\t\tFILE: Number of bytes read=202\n",
      "\t\tFILE: Number of bytes written=6523056\n",
      "\t\tFILE: Number of read operations=0\n",
      "\t\tFILE: Number of large read operations=0\n",
      "\t\tFILE: Number of write operations=0\n",
      "\t\tHDFS: Number of bytes read=6708\n",
      "\t\tHDFS: Number of bytes written=546\n",
      "\t\tHDFS: Number of read operations=83\n",
      "\t\tHDFS: Number of large read operations=0\n",
      "\t\tHDFS: Number of write operations=3\n",
      "\t\tHDFS: Number of bytes read erasure-coded=0\n",
      "\tJob Counters \n",
      "\t\tKilled map tasks=1\n",
      "\t\tLaunched map tasks=26\n",
      "\t\tLaunched reduce tasks=1\n",
      "\t\tData-local map tasks=22\n",
      "\t\tRack-local map tasks=4\n",
      "\t\tTotal time spent by all maps in occupied slots (ms)=301572\n",
      "\t\tTotal time spent by all reduces in occupied slots (ms)=35631\n",
      "\t\tTotal time spent by all map tasks (ms)=100524\n",
      "\t\tTotal time spent by all reduce tasks (ms)=11877\n",
      "\t\tTotal vcore-milliseconds taken by all map tasks=100524\n",
      "\t\tTotal vcore-milliseconds taken by all reduce tasks=11877\n",
      "\t\tTotal megabyte-milliseconds taken by all map tasks=308809728\n",
      "\t\tTotal megabyte-milliseconds taken by all reduce tasks=36486144\n",
      "\tMap-Reduce Framework\n",
      "\t\tMap input records=52\n",
      "\t\tMap output records=52\n",
      "\t\tMap output bytes=546\n",
      "\t\tMap output materialized bytes=993\n",
      "\t\tInput split bytes=5772\n",
      "\t\tCombine input records=0\n",
      "\t\tCombine output records=0\n",
      "\t\tReduce input groups=27\n",
      "\t\tReduce shuffle bytes=993\n",
      "\t\tReduce input records=52\n",
      "\t\tReduce output records=52\n",
      "\t\tSpilled Records=104\n",
      "\t\tShuffled Maps =26\n",
      "\t\tFailed Shuffles=0\n",
      "\t\tMerged Map outputs=26\n",
      "\t\tGC time elapsed (ms)=2701\n",
      "\t\tCPU time spent (ms)=15820\n",
      "\t\tPhysical memory (bytes) snapshot=8779681792\n",
      "\t\tVirtual memory (bytes) snapshot=117162172416\n",
      "\t\tTotal committed heap usage (bytes)=8667529216\n",
      "\t\tPeak Map Physical memory (bytes)=353329152\n",
      "\t\tPeak Map Virtual memory (bytes)=4341755904\n",
      "\t\tPeak Reduce Physical memory (bytes)=247414784\n",
      "\t\tPeak Reduce Virtual memory (bytes)=4344500224\n",
      "\tShuffle Errors\n",
      "\t\tBAD_ID=0\n",
      "\t\tCONNECTION=0\n",
      "\t\tIO_ERROR=0\n",
      "\t\tWRONG_LENGTH=0\n",
      "\t\tWRONG_MAP=0\n",
      "\t\tWRONG_REDUCE=0\n",
      "\tFile Input Format Counters \n",
      "\t\tBytes Read=936\n",
      "\tFile Output Format Counters \n",
      "\t\tBytes Written=546\n",
      "2025-02-24 21:32:00,763 INFO streaming.StreamJob: Output directory: /user/output/final_result_2_3\n"
     ]
    }
   ],
   "source": [
    "! yarn jar /usr/lib/hadoop-mapreduce/hadoop-streaming.jar \\\n",
    "    -D mapreduce.job.name=\"put results in one file\" \\\n",
    "    -D mapreduce.job.reduces=1 \\\n",
    "    -D mapreduce.job.output.key.comparator.class=org.apache.hadoop.mapreduce.lib.partition.KeyFieldBasedComparator \\\n",
    "    -D mapreduce.partition.keycomparator.options=\"-k2,2nr\" \\\n",
    "    -D mapreduce.map.output.key.field.separator=',' \\\n",
    "    -files put_results_in_one_file_mapper.py \\\n",
    "    -mapper \"python3 put_results_in_one_file_mapper.py\" \\\n",
    "    -input /user/output/unique_users_per_day_excluding_daily.csv \\\n",
    "    -output /user/output/final_result_2_3"
   ]
  },
  {
   "cell_type": "code",
   "execution_count": 166,
   "id": "8724e864",
   "metadata": {},
   "outputs": [
    {
     "name": "stdout",
     "output_type": "stream",
     "text": [
      "2015-05-12,973248\t\r\n",
      "2015-05-13,847446\t\r\n",
      "2015-05-14,745904\t\r\n",
      "2015-05-06,733027\t\r\n",
      "2015-05-05,731624\t\r\n",
      "2015-05-07,729708\t\r\n",
      "2015-05-11,706240\t\r\n",
      "2015-04-27,676433\t\r\n",
      "2015-05-08,664982\t\r\n",
      "2015-04-28,655791\t\r\n",
      "2015-04-29,641148\t\r\n",
      "2015-05-15,633132\t\r\n",
      "2015-05-04,607205\t\r\n",
      "2015-04-30,596224\t\r\n",
      "2015-05-10,562151\t\r\n",
      "2015-04-26,540051\t\r\n",
      "2015-05-03,511687\t\r\n",
      "2015-04-25,498069\t\r\n",
      "2015-05-16,493577\t\r\n",
      "2015-05-18,488250\t\r\n",
      "2015-05-17,480968\t\r\n",
      "2015-05-02,468010\t\r\n",
      "2015-05-01,452800\t\r\n",
      "2015-05-09,450135\t\r\n",
      "2015-05-19,367777\t\r\n",
      "2015-05-20,184972\t\r\n",
      "\t\r\n",
      "\t\r\n",
      "\t\r\n",
      "\t\r\n",
      "\t\r\n",
      "\t\r\n",
      "\t\r\n",
      "\t\r\n",
      "\t\r\n",
      "\t\r\n",
      "\t\r\n",
      "\t\r\n",
      "\t\r\n",
      "\t\r\n",
      "\t\r\n",
      "\t\r\n",
      "\t\r\n",
      "\t\r\n",
      "\t\r\n",
      "\t\r\n",
      "\t\r\n",
      "\t\r\n",
      "\t\r\n",
      "\t\r\n",
      "\t\r\n",
      "\t\r\n"
     ]
    }
   ],
   "source": [
    "! hdfs dfs -cat /user/output/final_result_2_3/part-00000"
   ]
  },
  {
   "cell_type": "code",
   "execution_count": 167,
   "id": "5c5a04fb",
   "metadata": {},
   "outputs": [
    {
     "name": "stdout",
     "output_type": "stream",
     "text": [
      "2025-02-24 21:35:02,004 INFO impl.MetricsConfig: Loaded properties from hadoop-metrics2.properties\n",
      "2025-02-24 21:35:02,070 INFO impl.MetricsSystemImpl: Scheduled Metric snapshot period at 10 second(s).\n",
      "2025-02-24 21:35:02,070 INFO impl.MetricsSystemImpl: s3a-file-system metrics system started\n",
      "2025-02-24 21:35:03,692 INFO impl.MetricsSystemImpl: Stopping s3a-file-system metrics system...\n",
      "2025-02-24 21:35:03,693 INFO impl.MetricsSystemImpl: s3a-file-system metrics system stopped.\n",
      "2025-02-24 21:35:03,693 INFO impl.MetricsSystemImpl: s3a-file-system metrics system shutdown complete.\n"
     ]
    }
   ],
   "source": [
    "!rm part-00000\n",
    "!hdfs dfs -get /user/output/final_result_2_3/part-00000 part-00000\n",
    "!hdfs dfs -put -f part-00000 s3a://bspanfilov-lsml/hw2_part2_3_unique_users_per_day_excluding_daily.csv"
   ]
  },
  {
   "cell_type": "markdown",
   "id": "0fdb4a24",
   "metadata": {},
   "source": [
    "https://storage.yandexcloud.net/bspanfilov-lsml/hw2_part2_3_unique_users_per_day_excluding_daily.csv"
   ]
  },
  {
   "cell_type": "markdown",
   "id": "dbc100eb",
   "metadata": {},
   "source": [
    "### 2.4"
   ]
  },
  {
   "cell_type": "code",
   "execution_count": 2,
   "id": "0bcff5dd",
   "metadata": {},
   "outputs": [
    {
     "name": "stdout",
     "output_type": "stream",
     "text": [
      "avito-context-ad-clicks.zip\t   SearchInfo.tsv      trainSearchStream.tsv\r\n",
      "Category.tsv\t\t\t   SearchInfo.tsv.7z   trainSearchStream.tsv.7z\r\n",
      "Category.tsv.7z\t\t\t   session_mapper.py   VisitsStream_small.tsv\r\n",
      "get_results_in_one_file_mapper.py  session_reducer.py  VisitsStream.tsv\r\n",
      "HW2_Панфилов_Борис.ipynb\t   tmp.py\t       VisitsStream.tsv.7z\r\n",
      "part-00000\t\t\t   top_mapper.py\r\n",
      "put_results_in_one_file_mapper.py  top_reducer.py\r\n"
     ]
    }
   ],
   "source": [
    "!ls"
   ]
  },
  {
   "cell_type": "code",
   "execution_count": 17,
   "id": "f5ca8916",
   "metadata": {},
   "outputs": [],
   "source": [
    "from pyspark.sql import SparkSession\n",
    "import pyspark\n",
    "from pyspark.sql.functions import col, lower, explode, split, count, when, sqrt, lit\n",
    "\n",
    "sc = pyspark.SparkContext(appName=\"2.4\")\n",
    "spark = SparkSession(sc)\n",
    "\n",
    "search = spark.read.csv('/user/input/SearchInfo.tsv', sep=\"\\t\", header=True)\n",
    "user = spark.read.csv('/user/input/UserInfo.tsv', sep=\"\\t\", header=True)\n",
    "df = search.join(user, on=\"UserID\", how=\"left\")\n",
    "\n",
    "N = df.count()\n",
    "\n",
    "ua_counts = df.groupBy(\"UserAgentOSID\").agg(count(\"*\").alias(\"ua_count\"))\n",
    "cat_counts = df.groupBy(\"CategoryID\").agg(count(\"*\").alias(\"cat_count\"))\n",
    "ua_cat_counts = df.groupBy(\"UserAgentOSID\", \"CategoryID\") \\\n",
    "                              .agg(count(\"*\").alias(\"ua_cat_count\"))\n",
    "\n",
    "ua_cat = ua_cat_counts.join(ua_counts, on=\"UserAgentOSID\") \\\n",
    "                      .join(cat_counts, on=\"CategoryID\")\n",
    "\n",
    "ua_cat = ua_cat.withColumn(\"p_xy\", col(\"ua_cat_count\")/lit(N)) \\\n",
    "               .withColumn(\"p_x\", col(\"ua_count\")/lit(N)) \\\n",
    "               .withColumn(\"p_y\", col(\"cat_count\")/lit(N))\n",
    "\n",
    "# Вычисляем числитель и знаменатель для корреляции\n",
    "ua_cat = ua_cat.withColumn(\"numerator\", col(\"p_xy\") - col(\"p_x\") * col(\"p_y\")) \\\n",
    "               .withColumn(\"denom\", sqrt(col(\"p_x\")*(1-col(\"p_x\"))*col(\"p_y\")*(1-col(\"p_y\"))))\n",
    "\n",
    "# Если знаменатель равен 0, то корреляция принимается равной 0\n",
    "ua_cat = ua_cat.withColumn(\"correlation\", \n",
    "                           when(col(\"denom\") != 0, col(\"numerator\")/col(\"denom\")).otherwise(lit(0)))\n",
    "\n",
    "# Выбираем топ-10 пар по убыванию корреляции\n",
    "top10_corr = ua_cat.select(\"UserAgentOSID\", \"CategoryID\", \"correlation\") \\\n",
    "                   .orderBy(col(\"correlation\").desc()).limit(10)\n",
    "\n",
    "top10_corr.write.csv(\"/user/output/top10_correlations\", header=True)\n",
    "spark.stop()\n"
   ]
  },
  {
   "cell_type": "code",
   "execution_count": 19,
   "id": "ba3fd0a2",
   "metadata": {},
   "outputs": [
    {
     "name": "stdout",
     "output_type": "stream",
     "text": [
      "UserAgentOSID,CategoryID,correlation\r\n",
      "15,0,0.03873487623583474\r\n",
      "35,47,0.03524988243205142\r\n",
      "30,0,0.02648939747608056\r\n",
      "15,16,0.02523947935050731\r\n",
      "35,60,0.020480199989959227\r\n",
      "28,13,0.01790624393091532\r\n",
      "43,50,0.017865609999121113\r\n",
      "7,41,0.015962287235910307\r\n",
      "15,44,0.015652244860012453\r\n",
      "30,41,0.013773293462140119\r\n"
     ]
    }
   ],
   "source": [
    "! hdfs dfs -cat /user/output/top10_correlations/part-00000-9731647c-6213-4409-aa2d-ab2c639d43af-c000.csv"
   ]
  },
  {
   "cell_type": "code",
   "execution_count": 20,
   "id": "0e4dcd72",
   "metadata": {},
   "outputs": [
    {
     "name": "stdout",
     "output_type": "stream",
     "text": [
      "2025-02-25 09:03:57,976 INFO impl.MetricsConfig: Loaded properties from hadoop-metrics2.properties\n",
      "2025-02-25 09:03:58,046 INFO impl.MetricsSystemImpl: Scheduled Metric snapshot period at 10 second(s).\n",
      "2025-02-25 09:03:58,046 INFO impl.MetricsSystemImpl: s3a-file-system metrics system started\n",
      "2025-02-25 09:04:01,920 INFO impl.MetricsSystemImpl: Stopping s3a-file-system metrics system...\n",
      "2025-02-25 09:04:01,920 INFO impl.MetricsSystemImpl: s3a-file-system metrics system stopped.\n",
      "2025-02-25 09:04:01,920 INFO impl.MetricsSystemImpl: s3a-file-system metrics system shutdown complete.\n"
     ]
    }
   ],
   "source": [
    "!rm part-00000\n",
    "!hdfs dfs -get /user/output/top10_correlations/part-00000-9731647c-6213-4409-aa2d-ab2c639d43af-c000.csv part-00000\n",
    "!hdfs dfs -put -f part-00000 s3a://bspanfilov-lsml/hw2_part2_4_top10_correlations.csv"
   ]
  },
  {
   "cell_type": "markdown",
   "id": "85268b6a",
   "metadata": {},
   "source": [
    "https://storage.yandexcloud.net/bspanfilov-lsml/hw2_part2_4_top10_correlations.csv"
   ]
  },
  {
   "cell_type": "code",
   "execution_count": null,
   "id": "2e35e4f6",
   "metadata": {},
   "outputs": [],
   "source": []
  }
 ],
 "metadata": {
  "kernelspec": {
   "display_name": "Python 3",
   "language": "python",
   "name": "python3"
  },
  "language_info": {
   "codemirror_mode": {
    "name": "ipython",
    "version": 3
   },
   "file_extension": ".py",
   "mimetype": "text/x-python",
   "name": "python",
   "nbconvert_exporter": "python",
   "pygments_lexer": "ipython3",
   "version": "3.8.10"
  }
 },
 "nbformat": 4,
 "nbformat_minor": 5
}
