{
 "cells": [
  {
   "cell_type": "code",
   "execution_count": 1,
   "id": "86a2a6cc",
   "metadata": {},
   "outputs": [],
   "source": [
    "# ! hdfs dfs -rm -R /user/airbnb\n",
    "# ! hdfs dfs -mkdir -p /user/airbnb\n",
    "# ! hdfs dfs -put airbnb-listings.csv /user/airbnb/"
   ]
  },
  {
   "cell_type": "code",
   "execution_count": 2,
   "id": "25b7d64c",
   "metadata": {},
   "outputs": [],
   "source": [
    "# ! pip install findspark"
   ]
  },
  {
   "cell_type": "code",
   "execution_count": 56,
   "id": "d106957f",
   "metadata": {},
   "outputs": [],
   "source": [
    "import pandas as pd\n",
    "import findspark\n",
    "import pyspark\n",
    "from pyspark.sql import SparkSession, Row\n",
    "\n",
    "from pyspark.sql.functions import explode, split, col, collect_set, count, size\n",
    "\n",
    "pd.set_option('display.max_colwidth', None)"
   ]
  },
  {
   "cell_type": "code",
   "execution_count": 3,
   "id": "d4d5c615",
   "metadata": {},
   "outputs": [],
   "source": [
    "findspark.init()"
   ]
  },
  {
   "cell_type": "code",
   "execution_count": 4,
   "id": "478f3bfb",
   "metadata": {},
   "outputs": [],
   "source": [
    "context = pyspark.SparkContext(appName = \"lsml-airbnb\")\n",
    "session = SparkSession(context)"
   ]
  },
  {
   "cell_type": "code",
   "execution_count": 28,
   "id": "ba4939d5",
   "metadata": {},
   "outputs": [
    {
     "name": "stdout",
     "output_type": "stream",
     "text": [
      "+--------+--------------------+--------------+------------+--------------------+--------------------+--------------------+--------------------+-------------------+---------------------+--------------------+--------------------+--------------------+--------------------+--------------------+--------------------+--------------------+--------------------+--------------------+--------+--------------------+--------------+----------+--------------------+--------------------+------------------+------------------+--------------------+--------------------+--------------------+------------------+-------------------+-------------------------+--------------------+--------------------+-------------+----------------------+----------------------------+---------+-------------+-------+---------+--------------------+------------+-----------+------------------+------------------+---------------+---------------+------------+---------+--------+----+-------------+--------------------+-----------+-----+------------+-------------+----------------+------------+---------------+------------+--------------+--------------+----------------+----------------+---------------+---------------+---------------+----------------+---------------------+-----------------+------------+-----------+--------------------+----------------------+-------------------------+---------------------+---------------------------+----------------------+-------------------+-------+------------------+-------------------+------------------------------+-----------------+--------------------+--------------------+\n",
      "|      ID|         Listing Url|     Scrape ID|Last Scraped|                Name|             Summary|               Space|         Description|Experiences Offered|Neighborhood Overview|               Notes|             Transit|              Access|         Interaction|         House Rules|       Thumbnail Url|          Medium Url|         Picture Url|      XL Picture Url| Host ID|            Host URL|     Host Name|Host Since|       Host Location|          Host About|Host Response Time|Host Response Rate|Host Acceptance Rate|  Host Thumbnail Url|    Host Picture Url|Host Neighbourhood|Host Listings Count|Host Total Listings Count|  Host Verifications|              Street|Neighbourhood|Neighbourhood Cleansed|Neighbourhood Group Cleansed|     City|        State|Zipcode|   Market|      Smart Location|Country Code|    Country|          Latitude|         Longitude|  Property Type|      Room Type|Accommodates|Bathrooms|Bedrooms|Beds|     Bed Type|           Amenities|Square Feet|Price|Weekly Price|Monthly Price|Security Deposit|Cleaning Fee|Guests Included|Extra People|Minimum Nights|Maximum Nights|Calendar Updated|Has Availability|Availability 30|Availability 60|Availability 90|Availability 365|Calendar last Scraped|Number of Reviews|First Review|Last Review|Review Scores Rating|Review Scores Accuracy|Review Scores Cleanliness|Review Scores Checkin|Review Scores Communication|Review Scores Location|Review Scores Value|License|Jurisdiction Names|Cancellation Policy|Calculated host listings count|Reviews per Month|         Geolocation|            Features|\n",
      "+--------+--------------------+--------------+------------+--------------------+--------------------+--------------------+--------------------+-------------------+---------------------+--------------------+--------------------+--------------------+--------------------+--------------------+--------------------+--------------------+--------------------+--------------------+--------+--------------------+--------------+----------+--------------------+--------------------+------------------+------------------+--------------------+--------------------+--------------------+------------------+-------------------+-------------------------+--------------------+--------------------+-------------+----------------------+----------------------------+---------+-------------+-------+---------+--------------------+------------+-----------+------------------+------------------+---------------+---------------+------------+---------+--------+----+-------------+--------------------+-----------+-----+------------+-------------+----------------+------------+---------------+------------+--------------+--------------+----------------+----------------+---------------+---------------+---------------+----------------+---------------------+-----------------+------------+-----------+--------------------+----------------------+-------------------------+---------------------+---------------------------+----------------------+-------------------+-------+------------------+-------------------+------------------------------+-----------------+--------------------+--------------------+\n",
      "| 8264596|https://www.airbn...|20170402075052|  2017-04-02|Cosy apartment ac...|This central loca...|                null|This central loca...|               none|                 null|                null|                null|                null|                null|                null|https://a0.muscac...|https://a0.muscac...|https://public.op...|https://a0.muscac...|23669273|https://www.airbn...|      Matthieu|2014-11-12|Amsterdam, North ...|                null|              null|              null|                null|https://a0.muscac...|https://a0.muscac...|          Oud-West|                  1|                        1|email,phone,faceb...|Oud-West, Amsterd...|     Oud-West|  De Baarsjes - Oud...|                        null|Amsterdam|Noord-Holland|   1054|Amsterdam|Amsterdam, Nether...|          NL|Netherlands|52.361943953804776| 4.866686522141489|      Apartment|Entire home/apt|           4|      1.0|       2|   2|     Real Bed|TV,Cable TV,Inter...|       null|  125|         600|         null|            null|        null|              1|           0|             4|          1125|   10 months ago|            null|              0|              0|              0|               0|           2017-04-02|                1|  2015-09-22| 2015-09-22|                 100|                    10|                       10|                   10|                         10|                    10|                 10|   null|         Amsterdam|           flexible|                             1|             0.05|52.36194395380477...|Host Has Profile ...|\n",
      "| 2180729|https://www.airbn...|20170402075052|  2017-04-02|Spacious City Apa...|Living like an Am...|There are 2 bedro...|Living like an Am...|               none| The 85 m2 apartme...|Do not hesitate t...|A few important s...|A Wi-Fi connectio...|When we are prese...|Please pay attent...|                null|                null|https://public.op...|                null| 9238680|https://www.airbn...|           Bas|2013-10-05|Amsterdam, North ...|                null|      within a day|               100|                null|https://a0.muscac...|https://a0.muscac...|          Oud-West|                  1|                        1|email,phone,revie...|Oud-West, Amsterd...|     Oud-West|  De Baarsjes - Oud...|                        null|Amsterdam|Noord-Holland|1052 RT|Amsterdam|Amsterdam, Nether...|          NL|Netherlands| 52.37014616115532| 4.866281767968382|      Apartment|Entire home/apt|           4|      1.0|       2|   4|     Real Bed|TV,Cable TV,Inter...|       null|  130|        null|         null|             100|          45|              2|          25|             3|            30|     3 weeks ago|            null|              0|              0|              0|               0|           2017-04-02|               22|  2014-05-12| 2016-07-19|                  97|                    10|                        9|                   10|                          9|                     9|                  9|   null|         Amsterdam|           flexible|                             1|             0.62|52.37014616115532...|Host Has Profile ...|\n",
      "|14463171|https://www.airbn...|20170402075052|  2017-04-02|Cosy Studio Apart...|Studio Apartment ...|                null|Studio Apartment ...|               none|                 null|                null|                null|                null|                null|- Respect the neg...|                null|                null|https://public.op...|                null|89112644|https://www.airbn...|         Pablo|2016-08-10|Amsterdam, North ...|                null|      within a day|               100|                null|https://a0.muscac...|https://a0.muscac...|              null|                  1|                        1| email,phone,reviews|Amsterdam, Noord-...|         null|  De Baarsjes - Oud...|                        null|Amsterdam|Noord-Holland|   1053|Amsterdam|Amsterdam, Nether...|          NL|Netherlands|52.368817829014425| 4.871249476925455|      Apartment|Entire home/apt|           2|      1.0|       0|   1|     Real Bed|TV,Wireless Inter...|       null|   80|        null|         null|             100|          25|              1|           0|             2|          1125|      4 days ago|            null|              2|             21|             51|             326|           2017-04-02|               16|  2016-08-11| 2017-03-06|                  78|                     8|                        8|                    8|                          8|                     9|                  9|   null|         Amsterdam|           moderate|                             1|             2.04|52.36881782901442...|Host Has Profile Pic|\n",
      "|13932749|https://www.airbn...|20170402075052|  2017-04-02|Spacious apt with...|This beautiful 80...|The huge living r...|This beautiful 80...|               none| Amsterdam West is...|Please note that ...|With just a 5 to ...|You will have ful...|                null|You will find my ...|                null|                null|https://public.op...|                null|59269534|https://www.airbn...|      Nicoline|2016-02-18|Amsterdam, North ...|                null|      within a day|               100|                null|https://a0.muscac...|https://a0.muscac...|              null|                  1|                        1|email,phone,faceb...|Amsterdam, NH 105...|         null|  De Baarsjes - Oud...|                        null|Amsterdam|           NH|1057 HK|Amsterdam|Amsterdam, Nether...|          NL|Netherlands| 52.36949764400226| 4.859321434670662|      Apartment|Entire home/apt|           2|      1.0|       1|   1|     Real Bed|TV,Wireless Inter...|       null|  150|        null|         null|            null|          15|              1|           0|             1|          1125|       yesterday|            null|              7|             37|             67|             342|           2017-04-02|               13|  2016-07-16| 2017-03-26|                  97|                    10|                       10|                   10|                         10|                     9|                 10|   null|         Amsterdam|             strict|                             1|             1.49|52.36949764400226...|Host Is Superhost...|\n",
      "| 1838958|https://www.airbn...|20170402075052|  2017-04-02|2br canal penthou...|Two-level, two-be...|Main bedroom (sle...|Two-level, two-be...|               none|                 null|                null|                null|                null|                null|Smoking only allo...|                null|                null|https://public.op...|                null|   34080|https://www.airbn...|         Jesse|2009-08-26|Amsterdam, Noord-...|I'm a design cons...|    within an hour|               100|                null|https://a0.muscac...|https://a0.muscac...|          Oud-West|                  1|                        1|email,phone,faceb...|Oud-West, Amsterd...|     Oud-West|  De Baarsjes - Oud...|                        null|Amsterdam|North Holland|   1053|Amsterdam|Amsterdam, Nether...|          NL|Netherlands|  52.3623168100134| 4.862255203037278|      Apartment|Entire home/apt|           3|      1.5|       2|   2|     Real Bed|TV,Internet,Wirel...|       null|  144|         850|         null|             150|          40|              2|           0|             3|          1125|      5 days ago|            null|              2|              8|             31|             123|           2017-04-02|                6|  2016-04-10| 2017-01-01|                  97|                    10|                       10|                   10|                         10|                    10|                 10|   null|         Amsterdam|             strict|                             1|              0.5|52.3623168100134,...|Host Has Profile ...|\n",
      "| 7969792|https://www.airbn...|20170402075052|  2017-04-02|Lovely room in br...|Our bright 12m2 g...|                null|Our bright 12m2 g...|               none| Our neighbourhood...|Because we both w...|We have several t...|You are welcome t...|Generally speakin...|Sorry, no pets pl...|https://a0.muscac...|https://a0.muscac...|https://public.op...|https://a0.muscac...| 7004701|https://www.airbn...|  Nina & Anton|2013-06-19|Amsterdam, North ...|Nina, originally ...|within a few hours|               100|                null|https://a0.muscac...|https://a0.muscac...|              null|                  1|                        1| email,phone,reviews|Amsterdam, NH 105...|         null|  De Baarsjes - Oud...|                        null|Amsterdam|           NH|   1057|Amsterdam|Amsterdam, Nether...|          NL|Netherlands|52.368868313741864| 4.856909709702364|      Apartment|   Private room|           2|      1.0|       1|   1|Pull-out Sofa|Internet,Wireless...|       null|   75|        null|         null|            null|          10|              1|           0|             3|             4|      a week ago|            null|              1|              2|             32|              32|           2017-04-02|               21|  2015-09-09| 2017-03-26|                 100|                    10|                       10|                   10|                         10|                    10|                 10|   null|         Amsterdam|           moderate|                             1|              1.1|52.36886831374186...|Host Is Superhost...|\n",
      "|14434300|https://www.airbn...|20170402075052|  2017-04-02|Loveley new apart...|We would like to ...|The apartment is ...|We would like to ...|               none| It is located in ...|                null|The best way to t...|Included is: - Ki...|                null|                null|                null|                null|https://public.op...|                null| 5993905|https://www.airbn...|Jan En Lisanne|2013-04-19|Amsterdam, North ...|                null|      within a day|                60|                null|https://a0.muscac...|https://a0.muscac...|          Oud-West|                  2|                        2|email,phone,faceb...|Amsterdam, Noord-...|         null|  De Baarsjes - Oud...|                        null|Amsterdam|Noord-Holland|   1056|Amsterdam|Amsterdam, Nether...|          NL|Netherlands|52.371987491555785|4.8517250194439985|      Apartment|Entire home/apt|           2|      1.0|       1|   1|     Real Bed|TV,Wireless Inter...|       null|   59|        null|         null|            null|          20|              1|           0|             5|          1125|     6 weeks ago|            null|              0|              0|              0|               0|           2017-04-02|                1|  2016-08-29| 2016-08-29|                 100|                    10|                       10|                   10|                         10|                    10|                 10|   null|         Amsterdam|           flexible|                             2|             0.14|52.37198749155578...|Host Has Profile ...|\n",
      "|10590761|https://www.airbn...|20170402075052|  2017-04-02|Familie huis met ...|Ons huis staat op...|we verhuren allee...|Ons huis staat op...|               none| Vondelpark. leide...|we verhuren allee...|tram en bus in de...|       begane grond.|ja we zijn beschi...|Gebruik ons huis ...|                null|                null|https://public.op...|                null|12051003|https://www.airbn...|        Nicole|2014-02-08|Amsterdam, North ...|                null|      within a day|                92|                null|https://a0.muscac...|https://a0.muscac...|          Oud-West|                  1|                        1|email,phone,revie...|Oud-West, Amsterd...|     Oud-West|  De Baarsjes - Oud...|                        null|Amsterdam|Noord-Holland| 1058AW|Amsterdam|Amsterdam, Nether...|          NL|Netherlands| 52.35964575057635| 4.853570651318476|          House|Entire home/apt|           6|      2.0|       4|   4|     Real Bed|TV,Cable TV,Inter...|       null|  200|         800|         3000|             500|          48|              1|          25|             2|          1125|     2 weeks ago|            null|              1|              6|              6|             175|           2017-04-02|               12|  2016-01-17| 2017-01-04|                  92|                    10|                       10|                   10|                         10|                     9|                  9|   null|         Amsterdam|             strict|                             1|             0.81|52.35964575057635...|Host Has Profile ...|\n",
      "| 6981991|https://www.airbn...|20170402075052|  2017-04-02|City roof terrace...|Spacious and clea...|On the thirth flo...|Spacious and clea...|               none| Nice and lively r...|                null|Public transporta...|                null|Own apartment, yo...|No smoking and no...|                null|                null|https://public.op...|                null|36601170|https://www.airbn...|         Anita|2015-06-24|Amsterdam, North ...|Living in Amsterd...|within a few hours|               100|                null|https://a0.muscac...|https://a0.muscac...|          Oud-West|                  2|                        2|email,phone,revie...|Oud-West, Amsterd...|     Oud-West|  De Baarsjes - Oud...|                        null|Amsterdam|Noord-Holland| 1053xt|Amsterdam|Amsterdam, Nether...|          NL|Netherlands|52.370523464419364| 4.872354684512787|      Apartment|Entire home/apt|           2|      1.0|       1|   1|     Real Bed|TV,Cable TV,Inter...|       null|  134|         999|         3000|             250|          60|              1|           0|             3|          1125|    4 months ago|            null|              0|              0|              0|             210|           2017-04-02|                9|  2015-07-16| 2016-05-22|                 100|                    10|                       10|                   10|                         10|                    10|                 10|   null|         Amsterdam|           moderate|                             2|             0.43|52.37052346441936...|Host Has Profile ...|\n",
      "|17820658|https://www.airbn...|20170402075052|  2017-04-02|Bed & bikes in Ou...|Our loft is locat...|If you want to di...|Our loft is locat...|               none| Oud West is a vib...|The loft is on th...|Many trams stop a...|You have your own...|During your stay ...|We expect respect...|https://a0.muscac...|https://a0.muscac...|https://public.op...|https://a0.muscac...| 5435558|https://www.airbn...|         Karen|2013-03-12|Amsterdam, North ...|Hi i am Karen, 36...|    within an hour|               100|                null|https://a0.muscac...|https://a0.muscac...|              null|                  1|                        1|email,phone,faceb...|Amsterdam, Noord-...|         null|  De Baarsjes - Oud...|                        null|Amsterdam|Noord-Holland|   1053|Amsterdam|Amsterdam, Nether...|          NL|Netherlands| 52.36687672694237| 4.864596414602556|Bed & Breakfast|   Private room|           2|      1.5|       0|   1|     Real Bed|TV,Internet,Wirel...|       null|   99|        null|         null|            null|        null|              2|          35|             2|          1125|           today|            null|              3|             13|             17|              31|           2017-04-02|                0|        null|       null|                null|                  null|                     null|                 null|                       null|                  null|               null|   null|         Amsterdam|           flexible|                             1|             null|52.36687672694237...|Host Has Profile ...|\n",
      "| 1541068|https://www.airbn...|20170402075052|  2017-04-02|Cosy Family home ...|Our family home i...|Our lovely typica...|Our family home i...|               none|                 null|                null|Tram 17 and tram ...|                null|                null|This is our famil...|https://a0.muscac...|https://a0.muscac...|https://public.op...|https://a0.muscac...| 5342935|https://www.airbn...|Leon & Natasha|2013-03-06|Amsterdam, North ...|                   .|              null|              null|                null|https://a0.muscac...|https://a0.muscac...|          Oud-West|                  1|                        1|email,phone,revie...|Oud-West, Amsterd...|     Oud-West|  De Baarsjes - Oud...|                        null|Amsterdam|North Holland|1058 DS|Amsterdam|Amsterdam, Nether...|          NL|Netherlands| 52.36085243718923|4.8511177702870345|      Apartment|Entire home/apt|           3|      1.0|       2|   2|     Real Bed|TV,Cable TV,Inter...|       null|  144|         702|         2204|             700|          40|              3|          35|             4|            30|    4 months ago|            null|              0|              0|              0|              85|           2017-04-02|                4|  2014-08-17| 2017-01-03|                  85|                    10|                        9|                   10|                         10|                     9|                  9|   null|         Amsterdam|             strict|                             1|             0.13|52.36085243718923...|Host Has Profile ...|\n",
      "|12845692|https://www.airbn...|20170402075052|  2017-04-02|Sunny apt. with b...|A green oasis in ...|Hello everybody, ...|A green oasis in ...|               none| A vibrant area wi...|                null|All trams you nee...|* Free WIFI * Bed...|I'd like to stay ...|We love our apart...|https://a0.muscac...|https://a0.muscac...|https://public.op...|https://a0.muscac...|70157232|https://www.airbn...|         Leena|2016-05-03|                  NL|                null|              null|              null|                null|https://a0.muscac...|https://a0.muscac...|          Oud-West|                  1|                        1|email,phone,revie...|Oud-West, Amsterd...|     Oud-West|  De Baarsjes - Oud...|                        null|Amsterdam|Noord-Holland|1056 JW|Amsterdam|Amsterdam, Nether...|          NL|Netherlands|  52.3727303370231| 4.865314168420095|      Apartment|Entire home/apt|           2|      1.0|       1|   1|     Real Bed|Internet,Wireless...|       null|  114|        null|         null|             100|          15|              1|           0|             4|          1125|    4 months ago|            null|              0|              0|              0|               0|           2017-04-02|                4|  2016-06-07| 2016-06-25|                 100|                    10|                       10|                   10|                         10|                    10|                  9|   null|         Amsterdam|             strict|                             1|              0.4|52.3727303370231,...|Host Has Profile ...|\n",
      "| 6427437|https://www.airbn...|20170402075052|  2017-04-02|Great Apt - 4 Peo...|100m2 Apartment w...|                null|100m2 Apartment w...|               none|                 null|                null|                null|                null|                null|                null|                null|                null|https://public.op...|                null|13061109|https://www.airbn...|        Wouter|2014-03-12|Amsterdam, North ...|                null|    within an hour|                90|                null|https://a0.muscac...|https://a0.muscac...|          Oud-West|                  1|                        1|email,phone,revie...|Oud-West, Amsterd...|     Oud-West|  De Baarsjes - Oud...|                        null|Amsterdam|Noord-Holland|   1058|Amsterdam|Amsterdam, Nether...|          NL|Netherlands|52.359119703221104| 4.855534488124972|      Apartment|Entire home/apt|           4|      1.0|       2|   2|     Real Bed|TV,Cable TV,Inter...|       null|  125|         700|         2600|             350|          45|              2|          15|             2|          1125|      2 days ago|            null|              1|              7|             18|              27|           2017-04-02|                6|  2016-03-18| 2016-11-20|                  88|                     9|                       10|                   10|                         10|                     9|                  9|   null|         Amsterdam|             strict|                             1|             0.47|52.35911970322110...|Host Has Profile ...|\n",
      "| 9672251|https://www.airbn...|20170402075052|  2017-04-02|Light and spaciou...|Completely renova...|This light and sp...|Completely renova...|               none| The apartment is ...|                null|                null|                null|                null|- Do not smoke in...|                null|                null|https://public.op...|                null|49979943|https://www.airbn...|         Joost|2015-11-27|Amsterdam, North ...|                null|      within a day|               100|                null|https://a0.muscac...|https://a0.muscac...|          Oud-West|                  1|                        1|email,phone,revie...|Oud-West, Amsterd...|     Oud-West|  De Baarsjes - Oud...|                        null|Amsterdam|Noord-Holland|1053 XP|Amsterdam|Amsterdam, Nether...|          NL|Netherlands|  52.3704416857012| 4.873528148594769|      Apartment|Entire home/apt|           2|      1.5|       1|   1|     Real Bed|TV,Cable TV,Inter...|       null|  175|        null|         null|             250|          35|              2|           0|             2|          1125|    6 months ago|            null|             25|             55|             85|             360|           2017-04-02|                6|  2015-12-08| 2016-09-11|                 100|                    10|                        9|                   10|                         10|                     9|                  9|   null|         Amsterdam|             strict|                             1|             0.37|52.3704416857012,...|Host Has Profile ...|\n",
      "|11178448|https://www.airbn...|20170402075052|  2017-04-02|B&B Vondelpark Ho...|Vondelpark House ...|Please look at my...|Vondelpark House ...|               none| The Old West dist...|Because this is a...|We are two minute...|Our family lives ...|We will give you ...|Please: - respect...|https://a0.muscac...|https://a0.muscac...|https://public.op...|https://a0.muscac...|55288093|https://www.airbn...|         Petra|2016-01-19|Amsterdam, North ...|\"I am from Amster...|    within an hour|               100|                null|https://a0.muscac...|https://a0.muscac...|          Oud-West|                  3|                        3|email,phone,revie...|Amsterdam, Noord-...|         null|  De Baarsjes - Oud...|                        null|Amsterdam|Noord-Holland|   null|Amsterdam|Amsterdam, Nether...|          NL|Netherlands| 52.35709376292784| 4.857725826520075|Bed & Breakfast|   Private room|           2|      1.5|       1|   2|     Real Bed|TV,Internet,Wirel...|       null|  110|        null|         null|             100|        null|              1|          20|             2|           120|      4 days ago|            null|              0|             15|             34|             289|           2017-04-02|               32|  2016-03-30| 2017-02-06|                  99|                    10|                       10|                   10|                         10|                    10|                  9|   null|         Amsterdam|             strict|                             3|              2.6|52.35709376292784...|Host Is Superhost...|\n",
      "|  954664|https://www.airbn...|20170402075052|  2017-04-02|Private Studio Am...|                null|Cosy appartment f...|Cosy appartment f...|               none|                 null|                null|                null|                null|                null|                null|https://a0.muscac...|https://a0.muscac...|https://public.op...|https://a0.muscac...| 5184769|https://www.airbn...|         Merel|2013-02-22|Amsterdam, North ...|Hi! I'm Merel, 31...|within a few hours|               100|                null|https://a0.muscac...|https://a0.muscac...|          Oud-West|                  1|                        1|email,phone,faceb...|Oud-West, Amsterd...|     Oud-West|  De Baarsjes - Oud...|                        null|Amsterdam|North Holland|   1053|Amsterdam|Amsterdam, Nether...|          NL|Netherlands| 52.36778303082658| 4.874272699346339|      Apartment|Entire home/apt|           2|      1.0|       1|   1|     Real Bed|TV,Wireless Inter...|       null|   95|         550|         null|            null|          25|              1|           0|             4|            21|     6 weeks ago|            null|              0|              0|              0|              91|           2017-04-02|               25|  2013-03-11| 2016-10-02|                  98|                    10|                       10|                   10|                         10|                     9|                 10|   null|         Amsterdam|           moderate|                             1|             0.51|52.36778303082658...|Host Has Profile ...|\n",
      "|14583036|https://www.airbn...|20170402075052|  2017-04-02|Amazing apt in ci...|★Perfect location...|Quiet and bright ...|★Perfect location...|               none|                 null|                null|Direct bus to and...|                null|                null|- Check-in: after...|https://a0.muscac...|https://a0.muscac...|https://public.op...|https://a0.muscac...|71250324|https://www.airbn...|        Sandra|2016-05-10|Amsterdam, North ...|                null|    within an hour|               100|                null|https://a0.muscac...|https://a0.muscac...|              null|                  1|                        1|email,phone,linke...|Amsterdam, North ...|         null|  De Baarsjes - Oud...|                        null|Amsterdam|North Holland|   null|Amsterdam|Amsterdam, Nether...|          NL|Netherlands| 52.36449546618479|  4.87542448573167|      Apartment|Entire home/apt|           4|      1.0|       2|   2|     Real Bed|TV,Cable TV,Wirel...|       null|  210|        null|         null|             400|          40|              1|           0|             2|          1125|      5 days ago|            null|              0|              2|             11|              11|           2017-04-02|                7|  2016-09-08| 2017-01-02|                  94|                    10|                        9|                   10|                         10|                    10|                 10|   null|              null|           moderate|                             1|             1.01|52.36449546618479...|Host Has Profile ...|\n",
      "|15506138|https://www.airbn...|20170402075052|  2017-04-02|Amazing & spaciou...|If you are lookin...|The apartment is ...|If you are lookin...|               none| Oud West is close...|We have normal ch...|Tram 1 goes at th...|You will have acc...|Iamb&b will give ...|- Please don't tr...|https://a0.muscac...|https://a0.muscac...|https://public.op...|https://a0.muscac...|99610739|https://www.airbn...|        Pieter|2016-10-14|Amsterdam, North ...|Iamb&b is taking ...|within a few hours|               100|                null|https://a0.muscac...|https://a0.muscac...|          Oud-West|                  1|                        1|email,reviews,jum...|Oud-West, Amsterd...|     Oud-West|  De Baarsjes - Oud...|                        null|Amsterdam|Noord-Holland|1054 AT|Amsterdam|Amsterdam, Nether...|          NL|Netherlands|52.364840411246504| 4.875265776014103|      Apartment|Entire home/apt|           4|      1.0|       2|   2|     Real Bed|TV,Cable TV,Inter...|       null|  150|        null|         null|             150|          35|              2|          30|             2|          1125|           today|            null|              0|              3|             10|              10|           2017-04-02|                5|  2016-10-22| 2017-02-19|                  80|                     8|                        8|                    8|                          9|                    10|                  7|   null|         Amsterdam|           moderate|                             1|             0.92|52.36484041124650...|Host Has Profile ...|\n",
      "|16377862|https://www.airbn...|20170402075052|  2017-04-02|Modern studio wit...|Beautiful light a...|This building was...|Beautiful light a...|               none| It's very popular...|                null|Only a few metres...|My whole studio-a...|You can call/(SEN...|Please leave the ...|https://a0.muscac...|https://a0.muscac...|https://public.op...|https://a0.muscac...|35550675|https://www.airbn...|        Tamsin|2015-06-11|Amsterdam, North ...|                null|      within a day|                80|                null|https://a0.muscac...|https://a0.muscac...|              null|                  2|                        2| email,phone,reviews|Amsterdam, NH 105...|         null|         Bos en Lommer|                        null|Amsterdam|           NH|   1055|Amsterdam|Amsterdam, Nether...|          NL|Netherlands|52.376339797717804| 4.845194413615516|      Apartment|Entire home/apt|           4|      1.0|       0|   2|     Real Bed|TV,Internet,Wirel...|       null|  150|        null|         null|             100|          35|              1|           0|             4|          1125|      3 days ago|            null|              5|             26|             50|              87|           2017-04-02|                0|        null|       null|                null|                  null|                     null|                 null|                       null|                  null|               null|   null|         Amsterdam|             strict|                             1|             null|52.37633979771780...|Host Has Profile Pic|\n",
      "| 1730182|https://www.airbn...|20170402075052|  2017-04-02|Comfi&Clean appar...|Lovely modern 80 ...|\"Description: Lov...|\"Lovely modern 80...|               none|                 null|\"Description: Lov...|                null|                null|                null|                null|https://a0.muscac...|https://a0.muscac...|https://public.op...|https://a0.muscac...| 9116113|https://www.airbn...|        Werner|2013-09-29|Amsterdam, North ...|       To be written|      within a day|               100|                null|https://a0.muscac...|https://a0.muscac...|     Bos en Lommer|                  1|                        1|email,phone,revie...|Bos en Lommer, Am...|Bos en Lommer|         Bos en Lommer|                        null|Amsterdam|North Holland|1055 PP|Amsterdam|Amsterdam, Nether...|          NL|Netherlands| 52.38377491009957| 4.852444854908915|      Apartment|Entire home/apt|           2|      1.5|       1|   1|     Real Bed|TV,Cable TV,Wirel...|       null|   95|         600|         null|             100|          25|              1|           0|             1|          1125|     4 weeks ago|            null|              1|              1|              1|              58|           2017-04-02|               30|  2013-12-02| 2017-03-19|                  98|                    10|                       10|                    9|                         10|                     9|                  9|   null|         Amsterdam|           moderate|                             1|             0.74|52.38377491009957...|Host Is Superhost...|\n",
      "+--------+--------------------+--------------+------------+--------------------+--------------------+--------------------+--------------------+-------------------+---------------------+--------------------+--------------------+--------------------+--------------------+--------------------+--------------------+--------------------+--------------------+--------------------+--------+--------------------+--------------+----------+--------------------+--------------------+------------------+------------------+--------------------+--------------------+--------------------+------------------+-------------------+-------------------------+--------------------+--------------------+-------------+----------------------+----------------------------+---------+-------------+-------+---------+--------------------+------------+-----------+------------------+------------------+---------------+---------------+------------+---------+--------+----+-------------+--------------------+-----------+-----+------------+-------------+----------------+------------+---------------+------------+--------------+--------------+----------------+----------------+---------------+---------------+---------------+----------------+---------------------+-----------------+------------+-----------+--------------------+----------------------+-------------------------+---------------------+---------------------------+----------------------+-------------------+-------+------------------+-------------------+------------------------------+-----------------+--------------------+--------------------+\n",
      "only showing top 20 rows\n",
      "\n"
     ]
    }
   ],
   "source": [
    "df = session.read.option(\"mode\", \"DROPMALFORMED\").option('sep', ';') \\\n",
    ".csv(\"/user/airbnb/airbnb-listings.csv\", header=True, inferSchema=True)\n",
    "df.show()"
   ]
  },
  {
   "cell_type": "code",
   "execution_count": 106,
   "id": "f2886e12",
   "metadata": {},
   "outputs": [
    {
     "name": "stdout",
     "output_type": "stream",
     "text": [
      "+---------+----+\n",
      "|Amenities|City|\n",
      "+---------+----+\n",
      "|     null|null|\n",
      "|     null|null|\n",
      "|     null|null|\n",
      "|        9|  50|\n",
      "+---------+----+\n",
      "\n"
     ]
    }
   ],
   "source": [
    "df.select(\"Amenities\", \"City\").limit(4).show()"
   ]
  },
  {
   "cell_type": "code",
   "execution_count": 107,
   "id": "eb594cca",
   "metadata": {},
   "outputs": [
    {
     "data": {
      "text/plain": [
       "Index(['ID', 'Listing Url', 'Scrape ID', 'Last Scraped', 'Name', 'Summary',\n",
       "       'Space', 'Description', 'Experiences Offered', 'Neighborhood Overview',\n",
       "       'Notes', 'Transit', 'Access', 'Interaction', 'House Rules',\n",
       "       'Thumbnail Url', 'Medium Url', 'Picture Url', 'XL Picture Url',\n",
       "       'Host ID', 'Host URL', 'Host Name', 'Host Since', 'Host Location',\n",
       "       'Host About', 'Host Response Time', 'Host Response Rate',\n",
       "       'Host Acceptance Rate', 'Host Thumbnail Url', 'Host Picture Url',\n",
       "       'Host Neighbourhood', 'Host Listings Count',\n",
       "       'Host Total Listings Count', 'Host Verifications', 'Street',\n",
       "       'Neighbourhood', 'Neighbourhood Cleansed',\n",
       "       'Neighbourhood Group Cleansed', 'City', 'State', 'Zipcode', 'Market',\n",
       "       'Smart Location', 'Country Code', 'Country', 'Latitude', 'Longitude',\n",
       "       'Property Type', 'Room Type', 'Accommodates', 'Bathrooms', 'Bedrooms',\n",
       "       'Beds', 'Bed Type', 'Amenities', 'Square Feet', 'Price', 'Weekly Price',\n",
       "       'Monthly Price', 'Security Deposit', 'Cleaning Fee', 'Guests Included',\n",
       "       'Extra People', 'Minimum Nights', 'Maximum Nights', 'Calendar Updated',\n",
       "       'Has Availability', 'Availability 30', 'Availability 60',\n",
       "       'Availability 90', 'Availability 365', 'Calendar last Scraped',\n",
       "       'Number of Reviews', 'First Review', 'Last Review',\n",
       "       'Review Scores Rating', 'Review Scores Accuracy',\n",
       "       'Review Scores Cleanliness', 'Review Scores Checkin',\n",
       "       'Review Scores Communication', 'Review Scores Location',\n",
       "       'Review Scores Value', 'License', 'Jurisdiction Names',\n",
       "       'Cancellation Policy', 'Calculated host listings count',\n",
       "       'Reviews per Month', 'Geolocation', 'Features'],\n",
       "      dtype='object')"
      ]
     },
     "execution_count": 107,
     "metadata": {},
     "output_type": "execute_result"
    }
   ],
   "source": [
    "df.limit(4).toPandas().columns"
   ]
  },
  {
   "cell_type": "markdown",
   "id": "8964496b",
   "metadata": {},
   "source": [
    "Задание 1. [1 балл] В разрезе каждого города (колонка city) выделите весь список удобств (amenities), предлагаемых в жилплощади из этих городов (учитывайте возможные дубли в этих данных). В ответе выведите фрейм данных со списком всех удобств для следующих городов: Hoxton, Rainham, Rio Del Mar. По ответам на эти города мы увидим, правильные ли преобразования для данных вы собрали."
   ]
  },
  {
   "cell_type": "code",
   "execution_count": 109,
   "id": "5cb962e7",
   "metadata": {},
   "outputs": [
    {
     "name": "stdout",
     "output_type": "stream",
     "text": [
      "+-----------+--------------------------------------------------------------------------------------------------------------------------------------------------------------------+\n",
      "|City       |distinct_amenities                                                                                                                                                  |\n",
      "+-----------+--------------------------------------------------------------------------------------------------------------------------------------------------------------------+\n",
      "|Rainham    |[Wireless Internet, Essentials, Iron, Washer, TV, Heating, Kitchen, translation missing: en.hosting_amenity_49, translation missing: en.hosting_amenity_50, Hangers]|\n",
      "|Hoxton     |[Wireless Internet, Essentials, Iron, TV, Heating, Smoke detector, Internet, Laptop friendly workspace, Kitchen, Hangers]                                           |\n",
      "|Rio Del Mar|[Indoor Fireplace, Suitable for Events, Essentials, Shampoo, Washer, Heating, Kitchen, Free Parking on Premises, Family/Kid Friendly, Dryer]                        |\n",
      "+-----------+--------------------------------------------------------------------------------------------------------------------------------------------------------------------+\n",
      "\n"
     ]
    }
   ],
   "source": [
    "amenities_df = df.select(\"City\", explode(split(col(\"Amenities\"), ',')).alias(\"Amenity\"))\n",
    "amenities_df = amenities_df.groupBy(\"City\").agg(collect_set(\"Amenity\").alias(\"distinct_amenities\"))\n",
    "\n",
    "# Filter for specific cities\n",
    "filtered_amenities_df = amenities_df.filter(col(\"City\").isin(\"Hoxton\", \"Rainham\", \"Rio Del Mar\"))\n",
    "filtered_amenities_df.show(truncate=False)"
   ]
  },
  {
   "cell_type": "markdown",
   "id": "fd1b17e0",
   "metadata": {},
   "source": [
    "Задание 2. [1 балл] Также в разрезе каждого города выделите удобства, которые предлагаются в жилплощадях этих городов и выделите из них топ-5 городов, в жилье которых предлагается больше всего удобств. Учитывайте дубли в этих значениях относительно разного жилья, тут речь идет про поиск всех уникальных значений по городам и их подсчет для поиска самых удобных городов. В качестве ответа выведите фрейм данных с этими городами и числом уникальных удобств из них."
   ]
  },
  {
   "cell_type": "code",
   "execution_count": 110,
   "id": "c646283d",
   "metadata": {},
   "outputs": [
    {
     "name": "stdout",
     "output_type": "stream",
     "text": [
      "+----------+---------------------------------------------------------------------------------------------------------------------------------------------------------------------------------------------------------------------------------------------------------------------------------------------------------------------------------------------------------------------------------------------------------------------------------------------------------------------------------------------------------------------------------------------------------------------------------------------------------------------------------------------------------------------------------------------------------------------------------------------------------------------------------------------------------------------------------------------------------------------------------------------------------------------------------------------------------------------------------------------------------------------------------------------------------------------------------------------------------------------------------------------------------------------------------------------------------------------------------------------------------------------------------------------------------------------------------------------------------------------------------------------------------------------------------------------------------------------------------------------------------------------------------------------------------------------------------------------------------------------------------------------------------------------------------------------------------------------------------------------------------------------------------------------------------------------------------------------------------------------------------------------------------------------------------------------------------------------------+-------------------+\n",
      "|City      |distinct_amenities                                                                                                                                                                                                                                                                                                                                                                                                                                                                                                                                                                                                                                                                                                                                                                                                                                                                                                                                                                                                                                                                                                                                                                                                                                                                                                                                                                                                                                                                                                                                                                                                                                                                                                                                                                                                                                                                                                                                                         |number_of_amenities|\n",
      "+----------+---------------------------------------------------------------------------------------------------------------------------------------------------------------------------------------------------------------------------------------------------------------------------------------------------------------------------------------------------------------------------------------------------------------------------------------------------------------------------------------------------------------------------------------------------------------------------------------------------------------------------------------------------------------------------------------------------------------------------------------------------------------------------------------------------------------------------------------------------------------------------------------------------------------------------------------------------------------------------------------------------------------------------------------------------------------------------------------------------------------------------------------------------------------------------------------------------------------------------------------------------------------------------------------------------------------------------------------------------------------------------------------------------------------------------------------------------------------------------------------------------------------------------------------------------------------------------------------------------------------------------------------------------------------------------------------------------------------------------------------------------------------------------------------------------------------------------------------------------------------------------------------------------------------------------------------------------------------------------+-------------------+\n",
      "|null      |[Suitable for Events, Lockbox, Iron, Indoor fireplace, 9, Dryer, Hangers, Breakfast, Patio or balcony, Room-darkening shades, Essentials, First Aid Kit, Shampoo, 97, Keypad, Air Conditioning, 2017-04-02, 2016-07-16, 0, 2017-04-29, 3, Window guards, Pull-out Sofa, 2017-04-08, Dishes and silverware, TV, CA, Heating, Stove, Pets allowed, Laptop Friendly Workspace, 2016-06-14, 2017-04-16, translation missing: en.hosting_amenity_49, Fire Extinguisher, Internet, Buzzer/Wireless Intercom, Safety card, Family/Kid Friendly, 2017-03-10, 1, Cooking basics, Brussels, 2017-05-02, Real Bed, Wheelchair Accessible, Dog(s), Buzzer/wireless intercom, Smoking allowed, 2017-04-03, 2016-11-13, 95, 2, Smoking Allowed, Smoke detector, Laptop friendly workspace, 2017-04-23, Carbon monoxide detector, Garden or backyard, Family/kid friendly, Cat(s), 2016-05-29, Refrigerator, Hair Dryer, Doorman, Dishwasher, 50, 2016-06-27, Safety Card, Coffee maker, Washer, Fire extinguisher, Private entrance, 94, 2017-04-05, 2017-04-15, 2016-06-26, 99, 7, Pets Allowed, 24-Hour Check-in, 2015-04-05, Wheelchair accessible, Free parking on premises, 92, Carbon Monoxide Detector, 90, Wireless Internet, Private living room,  Canada, Couch, Toronto, Other pet(s), 60622, 24-hour check-in, Cable TV, 2013-07-06,  Belgium, Microwave, First aid kit, Air conditioning, translation missing: en.hosting_amenity_50, Pets live on this property, 96, Pool, Lock on bedroom door, 12.508638345900604, 5, 8, 4, Suitable for events, Hot Tub, 100, 80, Elevator in building, Lock on Bedroom Door, Indoor Fireplace,  ON M1W, Airbed, 98, Smoke Detector, IT, Kitchen, Hot tub, 10, Self Check-In, FR, 89, Gym, Hair dryer, Elevator in Building, Doorman Entry, Oven, Free Parking on Premises, Futon, 6]                                                                                                                                                   |136                |\n",
      "|Toronto   |[Wide doorway, Lockbox, Iron, Washer, Fire extinguisher, Indoor fireplace, Private entrance, Coffee maker, Long term stays allowed, Changing table, Beachfront, Dryer, Single level home, Hangers, Breakfast, Patio or balcony, Room-darkening shades, Luggage dropoff allowed, Essentials, Shampoo, Wheelchair accessible, Step-free access, Accessible-height toilet, Free parking on premises, Outlet covers, Bed linens, Keypad, EV charger, Wireless Internet, Private living room, Window guards, Dishes and silverware, TV, Stove, Heating, Wide hallway clearance, Other pet(s), Pets allowed, translation missing: en.hosting_amenity_49, 24-hour check-in, Cable TV, Grab-rails for shower and toilet, Stair gates, High chair, Washer / Dryer, Microwave, Internet, Beach essentials, First aid kit, Air conditioning, Safety card, translation missing: en.hosting_amenity_50, Pets live on this property, Table corner guards, Wide clearance to shower and toilet, Pool, Path to entrance lit at night, Lock on bedroom door, Paid parking off premises, Roll-in shower with shower bench or chair, Private bathroom, Cooking basics, Ethernet connection, Lake access, Firm mattress, Hot water, Children’s books and toys, Free parking on street, Tub with shower bench, Extra pillows and blankets, Suitable for events, Flat smooth pathway to front door, Accessible-height bed, Babysitter recommendations, Bathtub, Dog(s), Pack ’n Play/travel crib, Buzzer/wireless intercom, Elevator in building, Smoking allowed, Smart lock, BBQ grill, Crib, Baby bath, Disabled parking spot, Game console, Cleaning before checkout, Smoke detector, Laptop friendly workspace, Kitchen, Carbon monoxide detector, Hot tub, Self Check-In, Garden or backyard, Children’s dinnerware, Family/kid friendly, Cat(s), Baby monitor, Fireplace guards, Gym, Hair dryer, Refrigerator, Oven, Doorman, Wide clearance to bed, Pocket wifi, Dishwasher, Waterfront]|108                |\n",
      "|København |[Wide doorway, Lockbox, Iron, Washer, Indoor fireplace, Fire extinguisher, Private entrance, Coffee maker, Long term stays allowed, Changing table, Hangers, Single level home, Dryer, Breakfast, Patio or balcony, Room-darkening shades, Luggage dropoff allowed, Essentials, Shampoo, Wheelchair accessible, Step-free access, Accessible-height toilet, Host greets you, Free parking on premises, Outlet covers, Bed linens, Keypad, Wireless Internet, Private living room, Window guards, Dishes and silverware, TV, Stove, Heating, Wide hallway clearance, Other pet(s), Pets allowed, translation missing: en.hosting_amenity_49, 24-hour check-in, Cable TV, Grab-rails for shower and toilet, Stair gates, High chair, Microwave, Internet, Beach essentials, First aid kit, Safety card, Air conditioning, translation missing: en.hosting_amenity_50, Pets live on this property, Table corner guards, Wide clearance to shower and toilet, Pool, Path to entrance lit at night, Lock on bedroom door, Paid parking off premises, Roll-in shower with shower bench or chair, Private bathroom, Cooking basics, Ethernet connection, Lake access, Firm mattress, Children’s books and toys, Hot water, Free parking on street, Suitable for events, Extra pillows and blankets, Flat smooth pathway to front door, Accessible-height bed, Babysitter recommendations, Bathtub, Dog(s), Pack ’n Play/travel crib, Buzzer/wireless intercom, Elevator in building, Smoking allowed, Smart lock, BBQ grill, Crib, Baby bath, Disabled parking spot, Game console, Cleaning before checkout, Smoke detector, Laptop friendly workspace, Kitchen, Carbon monoxide detector, Hot tub, Self Check-In, Garden or backyard, Children’s dinnerware, Family/kid friendly, Cat(s), Fireplace guards, Baby monitor, Gym, Hair dryer, Refrigerator, Oven, Doorman, Wide clearance to bed, Pocket wifi, Dishwasher, Waterfront]                                              |105                |\n",
      "|Roma      |[Wide doorway, Lockbox, Iron, Washer, Fire extinguisher, Indoor fireplace, Private entrance, Long term stays allowed, Coffee maker, Changing table, Hangers, Single level home, Dryer, Breakfast, Patio or balcony, Room-darkening shades, Luggage dropoff allowed, Essentials, Shampoo, Wheelchair accessible, Step-free access, Accessible-height toilet, Free parking on premises, Outlet covers, Bed linens, EV charger, Keypad, Wireless Internet, Private living room, Window guards, Dishes and silverware, TV, Stove, Heating, Wide hallway clearance, Other pet(s), Pets allowed, translation missing: en.hosting_amenity_49, 24-hour check-in, Cable TV, Grab-rails for shower and toilet, Stair gates, High chair, Microwave, Internet, Beach essentials, First aid kit, Air conditioning, Safety card, translation missing: en.hosting_amenity_50, Wide clearance to shower and toilet, Pets live on this property, Table corner guards, Pool, Path to entrance lit at night, Lock on bedroom door, Firm matress, Smartlock, Paid parking off premises, Private bathroom, Cooking basics, Ethernet connection, Children’s books and toys, Hot water, Free parking on street, Tub with shower bench, Suitable for events, Extra pillows and blankets, Flat smooth pathway to front door, Accessible-height bed, Babysitter recommendations, Bathtub, Dog(s), Pack ’n Play/travel crib, Buzzer/wireless intercom, Elevator in building, Smoking allowed, BBQ grill, Crib, Baby bath, Disabled parking spot, Game console, Cleaning before checkout, Smoke detector, Laptop friendly workspace, Kitchen, Carbon monoxide detector, Self Check-In, Hot tub, Garden or backyard, Children’s dinnerware, Family/kid friendly, Fireplace guards, Cat(s), Baby monitor, Gym, Hair dryer, Doorman Entry, Refrigerator, Oven, Doorman, Wide clearance to bed, Pocket wifi, Dishwasher]                                                                                   |104                |\n",
      "|Washington|[Wide doorway, Lockbox, Iron, Washer, Fire extinguisher, Indoor fireplace, Private entrance, Coffee maker, Long term stays allowed, Changing table, Dryer, Single level home, Hangers, Breakfast, Patio or balcony, Room-darkening shades, Luggage dropoff allowed, Essentials, Shampoo, Wheelchair accessible, Step-free access, Accessible-height toilet, Free parking on premises, Outlet covers, Bed linens, Keypad, EV charger, Wireless Internet, Private living room, Window guards, Dishes and silverware, TV, Stove, Heating, Wide hallway clearance, Other pet(s), Pets allowed, translation missing: en.hosting_amenity_49, 24-hour check-in, Cable TV, Grab-rails for shower and toilet, Stair gates, High chair, Washer / Dryer, Microwave, Internet, First aid kit, Air conditioning, Safety card, translation missing: en.hosting_amenity_50, Pets live on this property, Table corner guards, Wide clearance to shower and toilet, Pool, Path to entrance lit at night, Lock on bedroom door, Smartlock, Firm matress, Private bathroom, Cooking basics, Ethernet connection, Children’s books and toys, Hot water, Free parking on street, Suitable for events, Extra pillows and blankets, Flat smooth pathway to front door, Accessible-height bed, Babysitter recommendations, Bathtub, Dog(s), Pack ’n Play/travel crib, Buzzer/wireless intercom, Elevator in building, Smoking allowed, BBQ grill, Crib, Baby bath, Disabled parking spot, Game console, Cleaning before checkout, Smoke detector, Laptop friendly workspace, Kitchen, Carbon monoxide detector, Hot tub, Self Check-In, Garden or backyard, Children’s dinnerware, Family/kid friendly, Cat(s), Baby monitor, Fireplace guards, Gym, Hair dryer, Doorman Entry, Refrigerator, Oven, Doorman, Wide clearance to bed, Pocket wifi, Dishwasher]                                                                                                                                       |102                |\n",
      "+----------+---------------------------------------------------------------------------------------------------------------------------------------------------------------------------------------------------------------------------------------------------------------------------------------------------------------------------------------------------------------------------------------------------------------------------------------------------------------------------------------------------------------------------------------------------------------------------------------------------------------------------------------------------------------------------------------------------------------------------------------------------------------------------------------------------------------------------------------------------------------------------------------------------------------------------------------------------------------------------------------------------------------------------------------------------------------------------------------------------------------------------------------------------------------------------------------------------------------------------------------------------------------------------------------------------------------------------------------------------------------------------------------------------------------------------------------------------------------------------------------------------------------------------------------------------------------------------------------------------------------------------------------------------------------------------------------------------------------------------------------------------------------------------------------------------------------------------------------------------------------------------------------------------------------------------------------------------------------------------+-------------------+\n",
      "\n"
     ]
    }
   ],
   "source": [
    "amenities_df = amenities_df.withColumn(\"number_of_amenities\", size(amenities_df.distinct_amenities))\n",
    "\n",
    "top_cities_df = amenities_df.orderBy(col(\"number_of_amenities\").desc()).limit(5)\n",
    "top_cities_df.show(truncate=False)"
   ]
  },
  {
   "cell_type": "markdown",
   "id": "a00c6c06",
   "metadata": {},
   "source": [
    "Задание 3. [1 балл] Давайте выясним, по каким объявлениям можно пройти верификацию на оффер по жилью через linkedin (колонка host_verifications), что в реалиях airbnb достаточно забавно. Нам также подойдут варианты объявлений, где верификация через линкед будет одним из возможных вариантов. В ответе укажите кол-во объявлений из стран (колонка country) Switzerland и Austria, по которым можно пройти верификацию через линкед."
   ]
  },
  {
   "cell_type": "code",
   "execution_count": 111,
   "id": "c9a8cb79",
   "metadata": {},
   "outputs": [
    {
     "name": "stdout",
     "output_type": "stream",
     "text": [
      "+----------------------------------+-----------+\n",
      "|Host Verifications                |Country    |\n",
      "+----------------------------------+-----------+\n",
      "|null                              |null       |\n",
      "|null                              |null       |\n",
      "|null                              |null       |\n",
      "|null                              |44         |\n",
      "|null                              |null       |\n",
      "|null                              |null       |\n",
      "|null                              |null       |\n",
      "|null                              |0          |\n",
      "|email,phone,facebook,reviews,jumio|Netherlands|\n",
      "|email,phone,reviews,jumio         |Netherlands|\n",
      "+----------------------------------+-----------+\n",
      "\n"
     ]
    }
   ],
   "source": [
    "df.select(\"Host Verifications\", \"Country\").limit(10).show(truncate=False)"
   ]
  },
  {
   "cell_type": "code",
   "execution_count": 112,
   "id": "557027cd",
   "metadata": {},
   "outputs": [
    {
     "name": "stdout",
     "output_type": "stream",
     "text": [
      "+-----------+---------------------------+\n",
      "|Country    |verifications_with_linkedin|\n",
      "+-----------+---------------------------+\n",
      "|Switzerland|9                          |\n",
      "|Austria    |70                         |\n",
      "+-----------+---------------------------+\n",
      "\n"
     ]
    }
   ],
   "source": [
    "linkedin_df = df.select(\"Country\", explode(split(col(\"Host Verifications\"), ',')).alias(\"host_verification\"))\n",
    "linkedin_df = linkedin_df.where(col(\"host_verification\") == \"linkedin\")\n",
    "\n",
    "linkedin_df_countrywise = linkedin_df.groupBy(\"Country\").count().withColumnRenamed(\"count\", \"verifications_with_linkedin\")\n",
    "linkedin_df_countrywise_selected = linkedin_df_countrywise.filter((col(\"Country\") == \"Switzerland\") | (col(\"Country\") == \"Austria\"))\n",
    "linkedin_df_countrywise_selected.show(truncate=False)"
   ]
  },
  {
   "cell_type": "markdown",
   "id": "14f3f35d",
   "metadata": {},
   "source": [
    "Задание 4. [1 балл] Посмотрим объявления с большим кол-вом спален (колонка bedrooms). Найдите в наших данных объявления с 10 спальнями за самую высокую и самую низкую стоимости (колонка price). В ответ выведите фрейм данных с колонкой id по этим объявлениям. Учитывайте правильный тип данных для этого задания, чтобы получить верный ответ."
   ]
  },
  {
   "cell_type": "code",
   "execution_count": 113,
   "id": "1b0ce320",
   "metadata": {},
   "outputs": [
    {
     "name": "stdout",
     "output_type": "stream",
     "text": [
      "+--------+---------------------------------------------------------------------------------------------------------------------------------------------------------------------------------------------------------------------------------------------------------------------------------+-----+\n",
      "|Bedrooms|ID                                                                                                                                                                                                                                                                               |Price|\n",
      "+--------+---------------------------------------------------------------------------------------------------------------------------------------------------------------------------------------------------------------------------------------------------------------------------------+-----+\n",
      "|null    |4008728                                                                                                                                                                                                                                                                          |null |\n",
      "|null    |Also very important                                                                                                                                                                                                                                                              |null |\n",
      "|null    |As I'm in between jobs and going to move in with my boyfriend I decided to make myself useful and rent out my beautiful house to visitors of Amsterdam and be a part of a great travel experience!                                                                               |null |\n",
      "|89      |So I'm going to make sure that you will have a wonderful time in my apartment and hopeful I can help you to enjoy our amazing Amsterdam!\"                                                                                                                                        |10   |\n",
      "|null    |7778612                                                                                                                                                                                                                                                                          |null |\n",
      "|null    |I have my own company in telecom and we both enjoy traveling, exploring new places and sport. We are still quiet young (36 & 29) and really enjoy all the different sides of Amsterdam - it a beautiful and peaceful city with a great shopping, restaurant and nightlife scene! |null |\n",
      "|null    |We want to let people enjoy and love Amsterdam as much as we do while they're staying here. Amsterdam is a unique city and the best way to enjoy it is by staying in a typical and authentic house in the centre with everything you want to see on walking distance!            |null |\n",
      "|99      |Our house is very comfortable for 4 people as it has two bedrooms. You can enjoy the sun on the 2 balconies the whole day...\"                                                                                                                                                    |10   |\n",
      "|2       |8264596                                                                                                                                                                                                                                                                          |125  |\n",
      "|2       |2180729                                                                                                                                                                                                                                                                          |130  |\n",
      "+--------+---------------------------------------------------------------------------------------------------------------------------------------------------------------------------------------------------------------------------------------------------------------------------------+-----+\n",
      "\n"
     ]
    }
   ],
   "source": [
    "df.select(\"Bedrooms\", \"ID\", \"Price\").limit(10).show(truncate=False)"
   ]
  },
  {
   "cell_type": "code",
   "execution_count": 125,
   "id": "ca93b01d",
   "metadata": {},
   "outputs": [
    {
     "name": "stdout",
     "output_type": "stream",
     "text": [
      "+--------+--------+-----+\n",
      "|ID      |Bedrooms|Price|\n",
      "+--------+--------+-----+\n",
      "|11655788|10      |39   |\n",
      "|10369462|10      |999  |\n",
      "|14953643|10      |999  |\n",
      "+--------+--------+-----+\n",
      "\n"
     ]
    }
   ],
   "source": [
    "from pyspark.sql.types import IntegerType, FloatType, BooleanType\n",
    "from pyspark.sql.functions import udf\n",
    "\n",
    "def is_numerical(value):\n",
    "    try:\n",
    "        float(value)\n",
    "        return True\n",
    "    except (ValueError, TypeError):\n",
    "        return False\n",
    "\n",
    "# Register the UDF\n",
    "is_numerical_udf = udf(is_numerical, BooleanType())\n",
    "\n",
    "ten_bedrooms_df = df.select(\"ID\", \"Bedrooms\", \"Price\").where(col(\"Bedrooms\") == 10)\n",
    "ten_bedrooms_df = ten_bedrooms_df.withColumn(\"Price\", ten_bedrooms_df[\"Price\"].cast(IntegerType()))\n",
    "ten_bedrooms_df = ten_bedrooms_df.where(is_numerical_udf(col(\"ID\")))\n",
    "\n",
    "min_price = ten_bedrooms_df.agg({'Price': 'min'}).collect()[0].asDict()[\"min(Price)\"]\n",
    "max_price = ten_bedrooms_df.agg({'Price': 'max'}).collect()[0].asDict()[\"max(Price)\"]\n",
    "\n",
    "ten_bedrooms_extra_df = ten_bedrooms_df.filter((col(\"Price\") == min_price) | (col(\"Price\") == max_price))\n",
    "ten_bedrooms_extra_df.show(truncate=False)"
   ]
  },
  {
   "cell_type": "markdown",
   "id": "80aba73a",
   "metadata": {},
   "source": [
    "Задание 5. [1 балл] Посмотрим на типы предлагаемого жилья (property_type) и их цену. Найдите в наших данных минимальную и максимальную стоимость для таких типов жилья как: Car, Castle, Lighthouse. В качестве ответа выведите фрей данных с этой инфой."
   ]
  },
  {
   "cell_type": "code",
   "execution_count": 126,
   "id": "6ac67ede",
   "metadata": {},
   "outputs": [
    {
     "name": "stdout",
     "output_type": "stream",
     "text": [
      "+-------------+-----+\n",
      "|Property Type|Price|\n",
      "+-------------+-----+\n",
      "|null         |null |\n",
      "|null         |null |\n",
      "|null         |null |\n",
      "|2017-04-02   |10   |\n",
      "|null         |null |\n",
      "|null         |null |\n",
      "|null         |null |\n",
      "|2017-04-02   |10   |\n",
      "|Apartment    |125  |\n",
      "|Apartment    |130  |\n",
      "+-------------+-----+\n",
      "\n"
     ]
    }
   ],
   "source": [
    "df.select(\"Property Type\", \"Price\").limit(10).show(truncate=False)"
   ]
  },
  {
   "cell_type": "code",
   "execution_count": 127,
   "id": "99d9124d",
   "metadata": {},
   "outputs": [
    {
     "name": "stdout",
     "output_type": "stream",
     "text": [
      "+-------------+----------+----------+\n",
      "|Property Type|max(Price)|min(Price)|\n",
      "+-------------+----------+----------+\n",
      "|Castle       |900       |35        |\n",
      "|Lighthouse   |500       |36        |\n",
      "|Car          |30        |30        |\n",
      "+-------------+----------+----------+\n",
      "\n"
     ]
    }
   ],
   "source": [
    "property_types_df = df.select(\"Property Type\", \"Price\").filter(col(\"Property Type\").isin(\"Car\", \"Castle\", \"Lighthouse\"))\n",
    "property_types_df = property_types_df.withColumn(\"Price\", property_types_df[\"Price\"].cast(IntegerType()))\n",
    "property_types_df = property_types_df.withColumn(\"Price2\", property_types_df.Price)\n",
    "min_max_prices_df = property_types_df.groupBy(\"Property Type\").agg({\"Price\": \"min\", \"Price2\": \"max\"}).withColumnRenamed(\"max(Price2)\", \"max(Price)\")\n",
    "\n",
    "min_max_prices_df.show(truncate=False)"
   ]
  }
 ],
 "metadata": {
  "kernelspec": {
   "display_name": "Python 3",
   "language": "python",
   "name": "python3"
  },
  "language_info": {
   "codemirror_mode": {
    "name": "ipython",
    "version": 3
   },
   "file_extension": ".py",
   "mimetype": "text/x-python",
   "name": "python",
   "nbconvert_exporter": "python",
   "pygments_lexer": "ipython3",
   "version": "3.8.10"
  }
 },
 "nbformat": 4,
 "nbformat_minor": 5
}
